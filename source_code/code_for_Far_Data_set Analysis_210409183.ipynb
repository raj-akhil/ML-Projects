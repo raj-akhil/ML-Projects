{
  "cells": [
    {
      "cell_type": "code",
      "execution_count": null,
      "metadata": {
        "colab": {
          "base_uri": "https://localhost:8080/"
        },
        "id": "LChqXabOQxSl",
        "outputId": "c1169471-59fc-40c4-e8b1-a5814eb1aab4"
      },
      "outputs": [
        {
          "output_type": "stream",
          "name": "stdout",
          "text": [
            "Looking in indexes: https://pypi.org/simple, https://us-python.pkg.dev/colab-wheels/public/simple/\n",
            "Collecting pmlb\n",
            "  Downloading pmlb-1.0.1.post3-py3-none-any.whl (19 kB)\n",
            "Requirement already satisfied: requests>=2.24.0 in /usr/local/lib/python3.8/dist-packages (from pmlb) (2.25.1)\n",
            "Requirement already satisfied: pyyaml>=5.3.1 in /usr/local/lib/python3.8/dist-packages (from pmlb) (6.0)\n",
            "Requirement already satisfied: pandas>=1.0.5 in /usr/local/lib/python3.8/dist-packages (from pmlb) (1.3.5)\n",
            "Requirement already satisfied: python-dateutil>=2.7.3 in /usr/local/lib/python3.8/dist-packages (from pandas>=1.0.5->pmlb) (2.8.2)\n",
            "Requirement already satisfied: pytz>=2017.3 in /usr/local/lib/python3.8/dist-packages (from pandas>=1.0.5->pmlb) (2022.7)\n",
            "Requirement already satisfied: numpy>=1.17.3 in /usr/local/lib/python3.8/dist-packages (from pandas>=1.0.5->pmlb) (1.21.6)\n",
            "Requirement already satisfied: idna<3,>=2.5 in /usr/local/lib/python3.8/dist-packages (from requests>=2.24.0->pmlb) (2.10)\n",
            "Requirement already satisfied: chardet<5,>=3.0.2 in /usr/local/lib/python3.8/dist-packages (from requests>=2.24.0->pmlb) (4.0.0)\n",
            "Requirement already satisfied: urllib3<1.27,>=1.21.1 in /usr/local/lib/python3.8/dist-packages (from requests>=2.24.0->pmlb) (1.24.3)\n",
            "Requirement already satisfied: certifi>=2017.4.17 in /usr/local/lib/python3.8/dist-packages (from requests>=2.24.0->pmlb) (2022.12.7)\n",
            "Requirement already satisfied: six>=1.5 in /usr/local/lib/python3.8/dist-packages (from python-dateutil>=2.7.3->pandas>=1.0.5->pmlb) (1.15.0)\n",
            "Installing collected packages: pmlb\n",
            "Successfully installed pmlb-1.0.1.post3\n"
          ]
        }
      ],
      "source": [
        "!pip install pmlb"
      ]
    },
    {
      "cell_type": "code",
      "execution_count": null,
      "metadata": {
        "id": "XRkakD1SjILo",
        "colab": {
          "base_uri": "https://localhost:8080/"
        },
        "outputId": "d135f743-a505-4711-9d83-29e6ab7b8d5a"
      },
      "outputs": [
        {
          "output_type": "stream",
          "name": "stdout",
          "text": [
            "Mounted at /content/gdrive\n"
          ]
        }
      ],
      "source": [
        "from pmlb import fetch_data\n",
        "import numpy as np\n",
        "from matplotlib import pyplot as plt\n",
        "import seaborn as sns\n",
        "from sklearn.preprocessing import MinMaxScaler\n",
        "import pandas as pd\n",
        "from google.colab import drive\n",
        "drive.mount('/content/gdrive')"
      ]
    },
    {
      "cell_type": "markdown",
      "source": [
        "## loading data"
      ],
      "metadata": {
        "id": "_UnG6FIAgeir"
      }
    },
    {
      "cell_type": "code",
      "execution_count": null,
      "metadata": {
        "id": "By6ZektCjST_"
      },
      "outputs": [],
      "source": [
        "from sklearn.model_selection import GridSearchCV, train_test_split\n",
        "import random\n",
        "random.seed(1000)\n",
        "x_y=fetch_data('fars',return_X_y=0)\n",
        "x=x_y.iloc[:,0:29]\n",
        "y=x_y.iloc[:,29]\n",
        "\n",
        "\n"
      ]
    },
    {
      "cell_type": "markdown",
      "source": [
        "# Data exploration"
      ],
      "metadata": {
        "id": "TSs9mSbNmqih"
      }
    },
    {
      "cell_type": "markdown",
      "source": [
        "Class wise distribution"
      ],
      "metadata": {
        "id": "T_9jhiJym_mC"
      }
    },
    {
      "cell_type": "code",
      "source": [
        "import matplotlib.pyplot as plt\n",
        "fig = plt.figure()\n",
        "ax = fig.add_axes([0,0,2,1])\n",
        "labels = ['Died Prior to Accident ','Fatal Injury ','Incapaciting Injury ','Injured Severity Unknown','No Injury ','Nonincapaciting Evident Injury','Possible Injury ','Unknown']\n",
        "values = [9,42116,15072,299,20007,13890,8674,901]\n",
        "ax.barh(labels,values)\n",
        "plt.xlabel(\"Frequency\")\n",
        "plt.ylabel(\"class Label\")\n",
        "plt.title(\"frequency vs class\")\n",
        "ax.invert_yaxis()\n",
        "for i in range(0,8):\n",
        "   plt.text(values[i]+1000,i,values[i], ha=\"center\",rotation=\"horizontal\")\n",
        "plt.show()"
      ],
      "metadata": {
        "colab": {
          "base_uri": "https://localhost:8080/",
          "height": 366
        },
        "id": "ITNXw1dzmuWA",
        "outputId": "3c73e9dc-70ab-4729-fc7b-7ca6eb534378"
      },
      "execution_count": null,
      "outputs": [
        {
          "output_type": "display_data",
          "data": {
            "text/plain": [
              "<Figure size 432x288 with 1 Axes>"
            ],
            "image/png": "[encoded data removed]"
          },
          "metadata": {
            "needs_background": "light"
          }
        }
      ]
    },
    {
      "cell_type": "markdown",
      "source": [
        "missing value chacking"
      ],
      "metadata": {
        "id": "mrWBGgqOnulB"
      }
    },
    {
      "cell_type": "code",
      "source": [
        "y.isna().sum()"
      ],
      "metadata": {
        "colab": {
          "base_uri": "https://localhost:8080/"
        },
        "id": "2RSIEkEmn0I7",
        "outputId": "cbfe502a-8035-4bd8-9284-76896f6eaa18"
      },
      "execution_count": null,
      "outputs": [
        {
          "output_type": "execute_result",
          "data": {
            "text/plain": [
              "0"
            ]
          },
          "metadata": {},
          "execution_count": 6
        }
      ]
    },
    {
      "cell_type": "code",
      "source": [
        "x.isna().all()"
      ],
      "metadata": {
        "colab": {
          "base_uri": "https://localhost:8080/"
        },
        "id": "eXYP0JKtp1hZ",
        "outputId": "36504a0f-571c-44a3-c087-01c339bbeb1a"
      },
      "execution_count": null,
      "outputs": [
        {
          "output_type": "execute_result",
          "data": {
            "text/plain": [
              "CASE_STATE                             False\n",
              "AGE                                    False\n",
              "SEX                                    False\n",
              "PERSON_TYPE                            False\n",
              "SEATING_POSITION                       False\n",
              "RESTRAINT_SYSTEM-USE                   False\n",
              "AIR_BAG_AVAILABILITY/DEPLOYMENT        False\n",
              "EJECTION                               False\n",
              "EJECTION_PATH                          False\n",
              "EXTRICATION                            False\n",
              "NON_MOTORIST_LOCATION                  False\n",
              "POLICE_REPORTED_ALCOHOL_INVOLVEMENT    False\n",
              "METHOD_ALCOHOL_DETERMINATION           False\n",
              "ALCOHOL_TEST_TYPE                      False\n",
              "ALCOHOL_TEST_RESULT                    False\n",
              "POLICE-REPORTED_DRUG_INVOLVEMENT       False\n",
              "METHOD_OF_DRUG_DETERMINATION           False\n",
              "DRUG_TEST_TYPE                         False\n",
              "DRUG_TEST_RESULTS_(1_of_3)             False\n",
              "DRUG_TEST_TYPE_(2_of_3)                False\n",
              "DRUG_TEST_RESULTS_(2_of_3)             False\n",
              "DRUG_TEST_TYPE_(3_of_3)                False\n",
              "DRUG_TEST_RESULTS_(3_of_3)             False\n",
              "HISPANIC_ORIGIN                        False\n",
              "TAKEN_TO_HOSPITAL                      False\n",
              "RELATED_FACTOR_(1)-PERSON_LEVEL        False\n",
              "RELATED_FACTOR_(2)-PERSON_LEVEL        False\n",
              "RELATED_FACTOR_(3)-PERSON_LEVEL        False\n",
              "RACE                                   False\n",
              "dtype: bool"
            ]
          },
          "metadata": {},
          "execution_count": 7
        }
      ]
    },
    {
      "cell_type": "markdown",
      "source": [
        "No missing data"
      ],
      "metadata": {
        "id": "2eXScERSoaPZ"
      }
    },
    {
      "cell_type": "code",
      "source": [
        "x.describe()"
      ],
      "metadata": {
        "colab": {
          "base_uri": "https://localhost:8080/",
          "height": 411
        },
        "id": "D0bZvKV3pKDJ",
        "outputId": "d6d8cdca-c242-4094-fe6a-6ccf3693a6b4"
      },
      "execution_count": null,
      "outputs": [
        {
          "output_type": "execute_result",
          "data": {
            "text/plain": [
              "          CASE_STATE            AGE            SEX    PERSON_TYPE  \\\n",
              "count  100968.000000  100968.000000  100968.000000  100968.000000   \n",
              "mean       23.425977      37.106707       0.683880       3.155832   \n",
              "std        15.228212      22.109641       0.498972       2.551538   \n",
              "min         0.000000       0.000000       0.000000       0.000000   \n",
              "25%         9.000000      20.000000       0.000000       1.000000   \n",
              "50%        22.000000      32.000000       1.000000       1.000000   \n",
              "75%        38.000000      49.000000       1.000000       6.000000   \n",
              "max        50.000000      99.000000       2.000000       9.000000   \n",
              "\n",
              "       SEATING_POSITION  RESTRAINT_SYSTEM-USE  \\\n",
              "count     100968.000000         100968.000000   \n",
              "mean           5.990700              6.400394   \n",
              "std            4.794034              1.900097   \n",
              "min            0.000000              0.000000   \n",
              "25%            3.000000              5.000000   \n",
              "50%            3.000000              7.000000   \n",
              "75%            6.000000              7.000000   \n",
              "max           25.000000             11.000000   \n",
              "\n",
              "       AIR_BAG_AVAILABILITY/DEPLOYMENT       EJECTION  EJECTION_PATH  \\\n",
              "count                    100968.000000  100968.000000  100968.000000   \n",
              "mean                          4.979053       0.254407       1.084571   \n",
              "std                           3.100175       0.670000       2.843937   \n",
              "min                           0.000000       0.000000       0.000000   \n",
              "25%                           4.000000       0.000000       0.000000   \n",
              "50%                           4.000000       0.000000       0.000000   \n",
              "75%                           4.000000       0.000000       0.000000   \n",
              "max                          12.000000       3.000000       9.000000   \n",
              "\n",
              "         EXTRICATION  ...  DRUG_TEST_TYPE_(2_of_3)  \\\n",
              "count  100968.000000  ...            100968.000000   \n",
              "mean        0.914656  ...                 2.253754   \n",
              "std         0.319389  ...                 0.942899   \n",
              "min         0.000000  ...                 0.000000   \n",
              "25%         1.000000  ...                 2.000000   \n",
              "50%         1.000000  ...                 2.000000   \n",
              "75%         1.000000  ...                 2.000000   \n",
              "max         2.000000  ...                 6.000000   \n",
              "\n",
              "       DRUG_TEST_RESULTS_(2_of_3)  DRUG_TEST_TYPE_(3_of_3)  \\\n",
              "count               100968.000000            100968.000000   \n",
              "mean                   100.089672                 2.258102   \n",
              "std                    295.089512                 0.905708   \n",
              "min                      0.000000                 0.000000   \n",
              "25%                      0.000000                 2.000000   \n",
              "50%                      0.000000                 2.000000   \n",
              "75%                      0.000000                 2.000000   \n",
              "max                    999.000000                 6.000000   \n",
              "\n",
              "       DRUG_TEST_RESULTS_(3_of_3)  HISPANIC_ORIGIN  TAKEN_TO_HOSPITAL  \\\n",
              "count               100968.000000    100968.000000      100968.000000   \n",
              "mean                    95.441556         6.098576           1.056018   \n",
              "std                    292.121277         1.063206           0.988896   \n",
              "min                      0.000000         0.000000           0.000000   \n",
              "25%                      0.000000         6.000000           0.000000   \n",
              "50%                      0.000000         6.000000           2.000000   \n",
              "75%                      0.000000         6.000000           2.000000   \n",
              "max                    999.000000         8.000000           2.000000   \n",
              "\n",
              "       RELATED_FACTOR_(1)-PERSON_LEVEL  RELATED_FACTOR_(2)-PERSON_LEVEL  \\\n",
              "count                    100968.000000                    100968.000000   \n",
              "mean                         26.849645                        28.935366   \n",
              "std                           3.256276                         2.006201   \n",
              "min                           0.000000                         0.000000   \n",
              "25%                          27.000000                        29.000000   \n",
              "50%                          27.000000                        29.000000   \n",
              "75%                          27.000000                        29.000000   \n",
              "max                          44.000000                        47.000000   \n",
              "\n",
              "       RELATED_FACTOR_(3)-PERSON_LEVEL           RACE  \n",
              "count                    100968.000000  100968.000000  \n",
              "mean                         19.007507      12.587612  \n",
              "std                           0.807820       3.110742  \n",
              "min                           0.000000       0.000000  \n",
              "25%                          19.000000      11.000000  \n",
              "50%                          19.000000      11.000000  \n",
              "75%                          19.000000      15.000000  \n",
              "max                          32.000000      17.000000  \n",
              "\n",
              "[8 rows x 29 columns]"
            ],
            "text/html": [
              "\n",
              "  <div id=\"df-8dffe8a9-6f2d-447f-bf07-eeca4f00e6d5\">\n",
              "    <div class=\"colab-df-container\">\n",
              "      <div>\n",
              "<style scoped>\n",
              "    .dataframe tbody tr th:only-of-type {\n",
              "        vertical-align: middle;\n",
              "    }\n",
              "\n",
              "    .dataframe tbody tr th {\n",
              "        vertical-align: top;\n",
              "    }\n",
              "\n",
              "    .dataframe thead th {\n",
              "        text-align: right;\n",
              "    }\n",
              "</style>\n",
              "<table border=\"1\" class=\"dataframe\">\n",
              "  <thead>\n",
              "    <tr style=\"text-align: right;\">\n",
              "      <th></th>\n",
              "      <th>CASE_STATE</th>\n",
              "      <th>AGE</th>\n",
              "      <th>SEX</th>\n",
              "      <th>PERSON_TYPE</th>\n",
              "      <th>SEATING_POSITION</th>\n",
              "      <th>RESTRAINT_SYSTEM-USE</th>\n",
              "      <th>AIR_BAG_AVAILABILITY/DEPLOYMENT</th>\n",
              "      <th>EJECTION</th>\n",
              "      <th>EJECTION_PATH</th>\n",
              "      <th>EXTRICATION</th>\n",
              "      <th>...</th>\n",
              "      <th>DRUG_TEST_TYPE_(2_of_3)</th>\n",
              "      <th>DRUG_TEST_RESULTS_(2_of_3)</th>\n",
              "      <th>DRUG_TEST_TYPE_(3_of_3)</th>\n",
              "      <th>DRUG_TEST_RESULTS_(3_of_3)</th>\n",
              "      <th>HISPANIC_ORIGIN</th>\n",
              "      <th>TAKEN_TO_HOSPITAL</th>\n",
              "      <th>RELATED_FACTOR_(1)-PERSON_LEVEL</th>\n",
              "      <th>RELATED_FACTOR_(2)-PERSON_LEVEL</th>\n",
              "      <th>RELATED_FACTOR_(3)-PERSON_LEVEL</th>\n",
              "      <th>RACE</th>\n",
              "    </tr>\n",
              "  </thead>\n",
              "  <tbody>\n",
              "    <tr>\n",
              "      <th>count</th>\n",
              "      <td>100968.000000</td>\n",
              "      <td>100968.000000</td>\n",
              "      <td>100968.000000</td>\n",
              "      <td>100968.000000</td>\n",
              "      <td>100968.000000</td>\n",
              "      <td>100968.000000</td>\n",
              "      <td>100968.000000</td>\n",
              "      <td>100968.000000</td>\n",
              "      <td>100968.000000</td>\n",
              "      <td>100968.000000</td>\n",
              "      <td>...</td>\n",
              "      <td>100968.000000</td>\n",
              "      <td>100968.000000</td>\n",
              "      <td>100968.000000</td>\n",
              "      <td>100968.000000</td>\n",
              "      <td>100968.000000</td>\n",
              "      <td>100968.000000</td>\n",
              "      <td>100968.000000</td>\n",
              "      <td>100968.000000</td>\n",
              "      <td>100968.000000</td>\n",
              "      <td>100968.000000</td>\n",
              "    </tr>\n",
              "    <tr>\n",
              "      <th>mean</th>\n",
              "      <td>23.425977</td>\n",
              "      <td>37.106707</td>\n",
              "      <td>0.683880</td>\n",
              "      <td>3.155832</td>\n",
              "      <td>5.990700</td>\n",
              "      <td>6.400394</td>\n",
              "      <td>4.979053</td>\n",
              "      <td>0.254407</td>\n",
              "      <td>1.084571</td>\n",
              "      <td>0.914656</td>\n",
              "      <td>...</td>\n",
              "      <td>2.253754</td>\n",
              "      <td>100.089672</td>\n",
              "      <td>2.258102</td>\n",
              "      <td>95.441556</td>\n",
              "      <td>6.098576</td>\n",
              "      <td>1.056018</td>\n",
              "      <td>26.849645</td>\n",
              "      <td>28.935366</td>\n",
              "      <td>19.007507</td>\n",
              "      <td>12.587612</td>\n",
              "    </tr>\n",
              "    <tr>\n",
              "      <th>std</th>\n",
              "      <td>15.228212</td>\n",
              "      <td>22.109641</td>\n",
              "      <td>0.498972</td>\n",
              "      <td>2.551538</td>\n",
              "      <td>4.794034</td>\n",
              "      <td>1.900097</td>\n",
              "      <td>3.100175</td>\n",
              "      <td>0.670000</td>\n",
              "      <td>2.843937</td>\n",
              "      <td>0.319389</td>\n",
              "      <td>...</td>\n",
              "      <td>0.942899</td>\n",
              "      <td>295.089512</td>\n",
              "      <td>0.905708</td>\n",
              "      <td>292.121277</td>\n",
              "      <td>1.063206</td>\n",
              "      <td>0.988896</td>\n",
              "      <td>3.256276</td>\n",
              "      <td>2.006201</td>\n",
              "      <td>0.807820</td>\n",
              "      <td>3.110742</td>\n",
              "    </tr>\n",
              "    <tr>\n",
              "      <th>min</th>\n",
              "      <td>0.000000</td>\n",
              "      <td>0.000000</td>\n",
              "      <td>0.000000</td>\n",
              "      <td>0.000000</td>\n",
              "      <td>0.000000</td>\n",
              "      <td>0.000000</td>\n",
              "      <td>0.000000</td>\n",
              "      <td>0.000000</td>\n",
              "      <td>0.000000</td>\n",
              "      <td>0.000000</td>\n",
              "      <td>...</td>\n",
              "      <td>0.000000</td>\n",
              "      <td>0.000000</td>\n",
              "      <td>0.000000</td>\n",
              "      <td>0.000000</td>\n",
              "      <td>0.000000</td>\n",
              "      <td>0.000000</td>\n",
              "      <td>0.000000</td>\n",
              "      <td>0.000000</td>\n",
              "      <td>0.000000</td>\n",
              "      <td>0.000000</td>\n",
              "    </tr>\n",
              "    <tr>\n",
              "      <th>25%</th>\n",
              "      <td>9.000000</td>\n",
              "      <td>20.000000</td>\n",
              "      <td>0.000000</td>\n",
              "      <td>1.000000</td>\n",
              "      <td>3.000000</td>\n",
              "      <td>5.000000</td>\n",
              "      <td>4.000000</td>\n",
              "      <td>0.000000</td>\n",
              "      <td>0.000000</td>\n",
              "      <td>1.000000</td>\n",
              "      <td>...</td>\n",
              "      <td>2.000000</td>\n",
              "      <td>0.000000</td>\n",
              "      <td>2.000000</td>\n",
              "      <td>0.000000</td>\n",
              "      <td>6.000000</td>\n",
              "      <td>0.000000</td>\n",
              "      <td>27.000000</td>\n",
              "      <td>29.000000</td>\n",
              "      <td>19.000000</td>\n",
              "      <td>11.000000</td>\n",
              "    </tr>\n",
              "    <tr>\n",
              "      <th>50%</th>\n",
              "      <td>22.000000</td>\n",
              "      <td>32.000000</td>\n",
              "      <td>1.000000</td>\n",
              "      <td>1.000000</td>\n",
              "      <td>3.000000</td>\n",
              "      <td>7.000000</td>\n",
              "      <td>4.000000</td>\n",
              "      <td>0.000000</td>\n",
              "      <td>0.000000</td>\n",
              "      <td>1.000000</td>\n",
              "      <td>...</td>\n",
              "      <td>2.000000</td>\n",
              "      <td>0.000000</td>\n",
              "      <td>2.000000</td>\n",
              "      <td>0.000000</td>\n",
              "      <td>6.000000</td>\n",
              "      <td>2.000000</td>\n",
              "      <td>27.000000</td>\n",
              "      <td>29.000000</td>\n",
              "      <td>19.000000</td>\n",
              "      <td>11.000000</td>\n",
              "    </tr>\n",
              "    <tr>\n",
              "      <th>75%</th>\n",
              "      <td>38.000000</td>\n",
              "      <td>49.000000</td>\n",
              "      <td>1.000000</td>\n",
              "      <td>6.000000</td>\n",
              "      <td>6.000000</td>\n",
              "      <td>7.000000</td>\n",
              "      <td>4.000000</td>\n",
              "      <td>0.000000</td>\n",
              "      <td>0.000000</td>\n",
              "      <td>1.000000</td>\n",
              "      <td>...</td>\n",
              "      <td>2.000000</td>\n",
              "      <td>0.000000</td>\n",
              "      <td>2.000000</td>\n",
              "      <td>0.000000</td>\n",
              "      <td>6.000000</td>\n",
              "      <td>2.000000</td>\n",
              "      <td>27.000000</td>\n",
              "      <td>29.000000</td>\n",
              "      <td>19.000000</td>\n",
              "      <td>15.000000</td>\n",
              "    </tr>\n",
              "    <tr>\n",
              "      <th>max</th>\n",
              "      <td>50.000000</td>\n",
              "      <td>99.000000</td>\n",
              "      <td>2.000000</td>\n",
              "      <td>9.000000</td>\n",
              "      <td>25.000000</td>\n",
              "      <td>11.000000</td>\n",
              "      <td>12.000000</td>\n",
              "      <td>3.000000</td>\n",
              "      <td>9.000000</td>\n",
              "      <td>2.000000</td>\n",
              "      <td>...</td>\n",
              "      <td>6.000000</td>\n",
              "      <td>999.000000</td>\n",
              "      <td>6.000000</td>\n",
              "      <td>999.000000</td>\n",
              "      <td>8.000000</td>\n",
              "      <td>2.000000</td>\n",
              "      <td>44.000000</td>\n",
              "      <td>47.000000</td>\n",
              "      <td>32.000000</td>\n",
              "      <td>17.000000</td>\n",
              "    </tr>\n",
              "  </tbody>\n",
              "</table>\n",
              "<p>8 rows × 29 columns</p>\n",
              "</div>\n",
              "      <button class=\"colab-df-convert\" onclick=\"convertToInteractive('df-8dffe8a9-6f2d-447f-bf07-eeca4f00e6d5')\"\n",
              "              title=\"Convert this dataframe to an interactive table.\"\n",
              "              style=\"display:none;\">\n",
              "        \n",
              "  <svg xmlns=\"http://www.w3.org/2000/svg\" height=\"24px\"viewBox=\"0 0 24 24\"\n",
              "       width=\"24px\">\n",
              "    <path d=\"M0 0h24v24H0V0z\" fill=\"none\"/>\n",
              "    <path d=\"M18.56 5.44l.94 2.06.94-2.06 2.06-.94-2.06-.94-.94-2.06-.94 2.06-2.06.94zm-11 1L8.5 8.5l.94-2.06 2.06-.94-2.06-.94L8.5 2.5l-.94 2.06-2.06.94zm10 10l.94 2.06.94-2.06 2.06-.94-2.06-.94-.94-2.06-.94 2.06-2.06.94z\"/><path d=\"M17.41 7.96l-1.37-1.37c-.4-.4-.92-.59-1.43-.59-.52 0-1.04.2-1.43.59L10.3 9.45l-7.72 7.72c-.78.78-.78 2.05 0 2.83L4 21.41c.39.39.9.59 1.41.59.51 0 1.02-.2 1.41-.59l7.78-7.78 2.81-2.81c.8-.78.8-2.07 0-2.86zM5.41 20L4 18.59l7.72-7.72 1.47 1.35L5.41 20z\"/>\n",
              "  </svg>\n",
              "      </button>\n",
              "      \n",
              "  <style>\n",
              "    .colab-df-container {\n",
              "      display:flex;\n",
              "      flex-wrap:wrap;\n",
              "      gap: 12px;\n",
              "    }\n",
              "\n",
              "    .colab-df-convert {\n",
              "      background-color: #E8F0FE;\n",
              "      border: none;\n",
              "      border-radius: 50%;\n",
              "      cursor: pointer;\n",
              "      display: none;\n",
              "      fill: #1967D2;\n",
              "      height: 32px;\n",
              "      padding: 0 0 0 0;\n",
              "      width: 32px;\n",
              "    }\n",
              "\n",
              "    .colab-df-convert:hover {\n",
              "      background-color: #E2EBFA;\n",
              "      box-shadow: 0px 1px 2px rgba(60, 64, 67, 0.3), 0px 1px 3px 1px rgba(60, 64, 67, 0.15);\n",
              "      fill: #174EA6;\n",
              "    }\n",
              "\n",
              "    [theme=dark] .colab-df-convert {\n",
              "      background-color: #3B4455;\n",
              "      fill: #D2E3FC;\n",
              "    }\n",
              "\n",
              "    [theme=dark] .colab-df-convert:hover {\n",
              "      background-color: #434B5C;\n",
              "      box-shadow: 0px 1px 3px 1px rgba(0, 0, 0, 0.15);\n",
              "      filter: drop-shadow(0px 1px 2px rgba(0, 0, 0, 0.3));\n",
              "      fill: #FFFFFF;\n",
              "    }\n",
              "  </style>\n",
              "\n",
              "      <script>\n",
              "        const buttonEl =\n",
              "          document.querySelector('#df-8dffe8a9-6f2d-447f-bf07-eeca4f00e6d5 button.colab-df-convert');\n",
              "        buttonEl.style.display =\n",
              "          google.colab.kernel.accessAllowed ? 'block' : 'none';\n",
              "\n",
              "        async function convertToInteractive(key) {\n",
              "          const element = document.querySelector('#df-8dffe8a9-6f2d-447f-bf07-eeca4f00e6d5');\n",
              "          const dataTable =\n",
              "            await google.colab.kernel.invokeFunction('convertToInteractive',\n",
              "                                                     [key], {});\n",
              "          if (!dataTable) return;\n",
              "\n",
              "          const docLinkHtml = 'Like what you see? Visit the ' +\n",
              "            '<a target=\"_blank\" href=https://colab.research.google.com/notebooks/data_table.ipynb>data table notebook</a>'\n",
              "            + ' to learn more about interactive tables.';\n",
              "          element.innerHTML = '';\n",
              "          dataTable['output_type'] = 'display_data';\n",
              "          await google.colab.output.renderOutput(dataTable, element);\n",
              "          const docLink = document.createElement('div');\n",
              "          docLink.innerHTML = docLinkHtml;\n",
              "          element.appendChild(docLink);\n",
              "        }\n",
              "      </script>\n",
              "    </div>\n",
              "  </div>\n",
              "  "
            ]
          },
          "metadata": {},
          "execution_count": 8
        }
      ]
    },
    {
      "cell_type": "code",
      "source": [
        "import seaborn as sns\n",
        "s=sns.heatmap(x.corr(), cmap = 'Reds')\n",
        "plt.title(\" heat map of the first 20 variables\")\n",
        "plt.axis('off')\n",
        "plt.show()"
      ],
      "metadata": {
        "id": "xUqgceOqadyC",
        "outputId": "66b9e304-7bc0-44dd-8a21-31a91b402763",
        "colab": {
          "base_uri": "https://localhost:8080/",
          "height": 264
        }
      },
      "execution_count": null,
      "outputs": [
        {
          "output_type": "display_data",
          "data": {
            "text/plain": [
              "<Figure size 432x288 with 2 Axes>"
            ],
            "image/png": "[encoded data removed]"
          },
          "metadata": {
            "needs_background": "light"
          }
        }
      ]
    },
    {
      "cell_type": "markdown",
      "source": [
        "#split"
      ],
      "metadata": {
        "id": "4L1VZ8OXORaC"
      }
    },
    {
      "cell_type": "code",
      "source": [
        "train_data, test_data, train_target, test_target = train_test_split(x,y, test_size=0.2,shuffle=0,random_state=10)"
      ],
      "metadata": {
        "id": "d2UcIqyygdle"
      },
      "execution_count": null,
      "outputs": []
    },
    {
      "cell_type": "markdown",
      "metadata": {
        "id": "1p-bg2iwzM7N"
      },
      "source": [
        "#class imbalance-correction"
      ]
    },
    {
      "cell_type": "code",
      "execution_count": null,
      "metadata": {
        "colab": {
          "base_uri": "https://localhost:8080/"
        },
        "id": "pdwXiujszRnM",
        "outputId": "10ca4481-255f-41a7-82e6-a1a00e8da69f"
      },
      "outputs": [
        {
          "output_type": "execute_result",
          "data": {
            "text/plain": [
              "1    33680\n",
              "4    16064\n",
              "2    12043\n",
              "5    11042\n",
              "6     6963\n",
              "7      726\n",
              "3      249\n",
              "0        7\n",
              "Name: target, dtype: int64"
            ]
          },
          "metadata": {},
          "execution_count": 10
        }
      ],
      "source": [
        "train_target.value_counts()"
      ]
    },
    {
      "cell_type": "code",
      "execution_count": null,
      "metadata": {
        "id": "xsKQbu4TzWoc"
      },
      "outputs": [],
      "source": [
        "from imblearn.over_sampling import SMOTE\n",
        "X_resampled_a, y_resampled_a = SMOTE().fit_resample(train_data, train_target)"
      ]
    },
    {
      "cell_type": "code",
      "execution_count": null,
      "metadata": {
        "colab": {
          "base_uri": "https://localhost:8080/"
        },
        "id": "J7Q7fc1lzvET",
        "outputId": "fee606a5-f929-46b1-84e2-a3dc5386c79f"
      },
      "outputs": [
        {
          "output_type": "execute_result",
          "data": {
            "text/plain": [
              "target\n",
              "0         33680\n",
              "1         33680\n",
              "2         33680\n",
              "3         33680\n",
              "4         33680\n",
              "5         33680\n",
              "6         33680\n",
              "7         33680\n",
              "dtype: int64"
            ]
          },
          "metadata": {},
          "execution_count": 13
        }
      ],
      "source": [
        "pd.DataFrame(y_resampled_a).value_counts()"
      ]
    },
    {
      "cell_type": "code",
      "execution_count": null,
      "metadata": {
        "colab": {
          "base_uri": "https://localhost:8080/",
          "height": 505
        },
        "id": "A-fuvVEo0Nce",
        "outputId": "2545d196-dcb7-42a6-b76a-756182115635"
      },
      "outputs": [
        {
          "output_type": "execute_result",
          "data": {
            "text/plain": [
              "        CASE_STATE  AGE  SEX  PERSON_TYPE  SEATING_POSITION  \\\n",
              "0                4   46    1            1                 3   \n",
              "1               43   39    1            1                 3   \n",
              "2                4   72    0            1                 3   \n",
              "3                4   14    0            6                 6   \n",
              "4                4   70    0            6                 6   \n",
              "...            ...  ...  ...          ...               ...   \n",
              "269435           2   99    2            1                 3   \n",
              "269436          38   99    2            1                25   \n",
              "269437           2   99    2            1                 3   \n",
              "269438          33   99    2            1                 3   \n",
              "269439          38   99    2            1                25   \n",
              "\n",
              "        RESTRAINT_SYSTEM-USE  AIR_BAG_AVAILABILITY/DEPLOYMENT  EJECTION  \\\n",
              "0                          5                                4         0   \n",
              "1                          5                                4         0   \n",
              "2                          5                                0         0   \n",
              "3                          5                                0         0   \n",
              "4                          5                                4         0   \n",
              "...                      ...                              ...       ...   \n",
              "269435                    11                               12         3   \n",
              "269436                    11                               12         3   \n",
              "269437                    11                               12         0   \n",
              "269438                    11                               12         0   \n",
              "269439                    11                               12         3   \n",
              "\n",
              "        EJECTION_PATH  EXTRICATION  ...  DRUG_TEST_TYPE_(2_of_3)  \\\n",
              "0                   0            1  ...                        2   \n",
              "1                   0            1  ...                        2   \n",
              "2                   0            2  ...                        2   \n",
              "3                   0            1  ...                        2   \n",
              "4                   0            1  ...                        2   \n",
              "...               ...          ...  ...                      ...   \n",
              "269435              9            2  ...                        2   \n",
              "269436              9            2  ...                        5   \n",
              "269437              0            1  ...                        2   \n",
              "269438              0            1  ...                        2   \n",
              "269439              9            2  ...                        5   \n",
              "\n",
              "        DRUG_TEST_RESULTS_(2_of_3)  DRUG_TEST_TYPE_(3_of_3)  \\\n",
              "0                                0                        2   \n",
              "1                                0                        2   \n",
              "2                                0                        2   \n",
              "3                                0                        2   \n",
              "4                                0                        2   \n",
              "...                            ...                      ...   \n",
              "269435                           0                        2   \n",
              "269436                         999                        5   \n",
              "269437                           0                        2   \n",
              "269438                           0                        2   \n",
              "269439                         999                        5   \n",
              "\n",
              "        DRUG_TEST_RESULTS_(3_of_3)  HISPANIC_ORIGIN  TAKEN_TO_HOSPITAL  \\\n",
              "0                                0                6                  2   \n",
              "1                                0                6                  0   \n",
              "2                                0                8                  2   \n",
              "3                                0                6                  2   \n",
              "4                                0                6                  0   \n",
              "...                            ...              ...                ...   \n",
              "269435                           0                6                  1   \n",
              "269436                         999                8                  1   \n",
              "269437                           0                6                  1   \n",
              "269438                           0                6                  1   \n",
              "269439                         999                8                  1   \n",
              "\n",
              "        RELATED_FACTOR_(1)-PERSON_LEVEL  RELATED_FACTOR_(2)-PERSON_LEVEL  \\\n",
              "0                                    27                               29   \n",
              "1                                    27                               29   \n",
              "2                                    27                               29   \n",
              "3                                    27                               29   \n",
              "4                                    27                               29   \n",
              "...                                 ...                              ...   \n",
              "269435                               27                               29   \n",
              "269436                               27                               29   \n",
              "269437                               27                               29   \n",
              "269438                               27                               29   \n",
              "269439                               27                               29   \n",
              "\n",
              "        RELATED_FACTOR_(3)-PERSON_LEVEL  RACE  \n",
              "0                                    19    11  \n",
              "1                                    19    11  \n",
              "2                                    19    15  \n",
              "3                                    19    11  \n",
              "4                                    19    11  \n",
              "...                                 ...   ...  \n",
              "269435                               19    11  \n",
              "269436                               19    15  \n",
              "269437                               19    11  \n",
              "269438                               19    11  \n",
              "269439                               19    15  \n",
              "\n",
              "[269440 rows x 29 columns]"
            ],
            "text/html": [
              "\n",
              "  <div id=\"df-a1a1ce30-04b6-4224-a326-beaae6191f1a\">\n",
              "    <div class=\"colab-df-container\">\n",
              "      <div>\n",
              "<style scoped>\n",
              "    .dataframe tbody tr th:only-of-type {\n",
              "        vertical-align: middle;\n",
              "    }\n",
              "\n",
              "    .dataframe tbody tr th {\n",
              "        vertical-align: top;\n",
              "    }\n",
              "\n",
              "    .dataframe thead th {\n",
              "        text-align: right;\n",
              "    }\n",
              "</style>\n",
              "<table border=\"1\" class=\"dataframe\">\n",
              "  <thead>\n",
              "    <tr style=\"text-align: right;\">\n",
              "      <th></th>\n",
              "      <th>CASE_STATE</th>\n",
              "      <th>AGE</th>\n",
              "      <th>SEX</th>\n",
              "      <th>PERSON_TYPE</th>\n",
              "      <th>SEATING_POSITION</th>\n",
              "      <th>RESTRAINT_SYSTEM-USE</th>\n",
              "      <th>AIR_BAG_AVAILABILITY/DEPLOYMENT</th>\n",
              "      <th>EJECTION</th>\n",
              "      <th>EJECTION_PATH</th>\n",
              "      <th>EXTRICATION</th>\n",
              "      <th>...</th>\n",
              "      <th>DRUG_TEST_TYPE_(2_of_3)</th>\n",
              "      <th>DRUG_TEST_RESULTS_(2_of_3)</th>\n",
              "      <th>DRUG_TEST_TYPE_(3_of_3)</th>\n",
              "      <th>DRUG_TEST_RESULTS_(3_of_3)</th>\n",
              "      <th>HISPANIC_ORIGIN</th>\n",
              "      <th>TAKEN_TO_HOSPITAL</th>\n",
              "      <th>RELATED_FACTOR_(1)-PERSON_LEVEL</th>\n",
              "      <th>RELATED_FACTOR_(2)-PERSON_LEVEL</th>\n",
              "      <th>RELATED_FACTOR_(3)-PERSON_LEVEL</th>\n",
              "      <th>RACE</th>\n",
              "    </tr>\n",
              "  </thead>\n",
              "  <tbody>\n",
              "    <tr>\n",
              "      <th>0</th>\n",
              "      <td>4</td>\n",
              "      <td>46</td>\n",
              "      <td>1</td>\n",
              "      <td>1</td>\n",
              "      <td>3</td>\n",
              "      <td>5</td>\n",
              "      <td>4</td>\n",
              "      <td>0</td>\n",
              "      <td>0</td>\n",
              "      <td>1</td>\n",
              "      <td>...</td>\n",
              "      <td>2</td>\n",
              "      <td>0</td>\n",
              "      <td>2</td>\n",
              "      <td>0</td>\n",
              "      <td>6</td>\n",
              "      <td>2</td>\n",
              "      <td>27</td>\n",
              "      <td>29</td>\n",
              "      <td>19</td>\n",
              "      <td>11</td>\n",
              "    </tr>\n",
              "    <tr>\n",
              "      <th>1</th>\n",
              "      <td>43</td>\n",
              "      <td>39</td>\n",
              "      <td>1</td>\n",
              "      <td>1</td>\n",
              "      <td>3</td>\n",
              "      <td>5</td>\n",
              "      <td>4</td>\n",
              "      <td>0</td>\n",
              "      <td>0</td>\n",
              "      <td>1</td>\n",
              "      <td>...</td>\n",
              "      <td>2</td>\n",
              "      <td>0</td>\n",
              "      <td>2</td>\n",
              "      <td>0</td>\n",
              "      <td>6</td>\n",
              "      <td>0</td>\n",
              "      <td>27</td>\n",
              "      <td>29</td>\n",
              "      <td>19</td>\n",
              "      <td>11</td>\n",
              "    </tr>\n",
              "    <tr>\n",
              "      <th>2</th>\n",
              "      <td>4</td>\n",
              "      <td>72</td>\n",
              "      <td>0</td>\n",
              "      <td>1</td>\n",
              "      <td>3</td>\n",
              "      <td>5</td>\n",
              "      <td>0</td>\n",
              "      <td>0</td>\n",
              "      <td>0</td>\n",
              "      <td>2</td>\n",
              "      <td>...</td>\n",
              "      <td>2</td>\n",
              "      <td>0</td>\n",
              "      <td>2</td>\n",
              "      <td>0</td>\n",
              "      <td>8</td>\n",
              "      <td>2</td>\n",
              "      <td>27</td>\n",
              "      <td>29</td>\n",
              "      <td>19</td>\n",
              "      <td>15</td>\n",
              "    </tr>\n",
              "    <tr>\n",
              "      <th>3</th>\n",
              "      <td>4</td>\n",
              "      <td>14</td>\n",
              "      <td>0</td>\n",
              "      <td>6</td>\n",
              "      <td>6</td>\n",
              "      <td>5</td>\n",
              "      <td>0</td>\n",
              "      <td>0</td>\n",
              "      <td>0</td>\n",
              "      <td>1</td>\n",
              "      <td>...</td>\n",
              "      <td>2</td>\n",
              "      <td>0</td>\n",
              "      <td>2</td>\n",
              "      <td>0</td>\n",
              "      <td>6</td>\n",
              "      <td>2</td>\n",
              "      <td>27</td>\n",
              "      <td>29</td>\n",
              "      <td>19</td>\n",
              "      <td>11</td>\n",
              "    </tr>\n",
              "    <tr>\n",
              "      <th>4</th>\n",
              "      <td>4</td>\n",
              "      <td>70</td>\n",
              "      <td>0</td>\n",
              "      <td>6</td>\n",
              "      <td>6</td>\n",
              "      <td>5</td>\n",
              "      <td>4</td>\n",
              "      <td>0</td>\n",
              "      <td>0</td>\n",
              "      <td>1</td>\n",
              "      <td>...</td>\n",
              "      <td>2</td>\n",
              "      <td>0</td>\n",
              "      <td>2</td>\n",
              "      <td>0</td>\n",
              "      <td>6</td>\n",
              "      <td>0</td>\n",
              "      <td>27</td>\n",
              "      <td>29</td>\n",
              "      <td>19</td>\n",
              "      <td>11</td>\n",
              "    </tr>\n",
              "    <tr>\n",
              "      <th>...</th>\n",
              "      <td>...</td>\n",
              "      <td>...</td>\n",
              "      <td>...</td>\n",
              "      <td>...</td>\n",
              "      <td>...</td>\n",
              "      <td>...</td>\n",
              "      <td>...</td>\n",
              "      <td>...</td>\n",
              "      <td>...</td>\n",
              "      <td>...</td>\n",
              "      <td>...</td>\n",
              "      <td>...</td>\n",
              "      <td>...</td>\n",
              "      <td>...</td>\n",
              "      <td>...</td>\n",
              "      <td>...</td>\n",
              "      <td>...</td>\n",
              "      <td>...</td>\n",
              "      <td>...</td>\n",
              "      <td>...</td>\n",
              "      <td>...</td>\n",
              "    </tr>\n",
              "    <tr>\n",
              "      <th>269435</th>\n",
              "      <td>2</td>\n",
              "      <td>99</td>\n",
              "      <td>2</td>\n",
              "      <td>1</td>\n",
              "      <td>3</td>\n",
              "      <td>11</td>\n",
              "      <td>12</td>\n",
              "      <td>3</td>\n",
              "      <td>9</td>\n",
              "      <td>2</td>\n",
              "      <td>...</td>\n",
              "      <td>2</td>\n",
              "      <td>0</td>\n",
              "      <td>2</td>\n",
              "      <td>0</td>\n",
              "      <td>6</td>\n",
              "      <td>1</td>\n",
              "      <td>27</td>\n",
              "      <td>29</td>\n",
              "      <td>19</td>\n",
              "      <td>11</td>\n",
              "    </tr>\n",
              "    <tr>\n",
              "      <th>269436</th>\n",
              "      <td>38</td>\n",
              "      <td>99</td>\n",
              "      <td>2</td>\n",
              "      <td>1</td>\n",
              "      <td>25</td>\n",
              "      <td>11</td>\n",
              "      <td>12</td>\n",
              "      <td>3</td>\n",
              "      <td>9</td>\n",
              "      <td>2</td>\n",
              "      <td>...</td>\n",
              "      <td>5</td>\n",
              "      <td>999</td>\n",
              "      <td>5</td>\n",
              "      <td>999</td>\n",
              "      <td>8</td>\n",
              "      <td>1</td>\n",
              "      <td>27</td>\n",
              "      <td>29</td>\n",
              "      <td>19</td>\n",
              "      <td>15</td>\n",
              "    </tr>\n",
              "    <tr>\n",
              "      <th>269437</th>\n",
              "      <td>2</td>\n",
              "      <td>99</td>\n",
              "      <td>2</td>\n",
              "      <td>1</td>\n",
              "      <td>3</td>\n",
              "      <td>11</td>\n",
              "      <td>12</td>\n",
              "      <td>0</td>\n",
              "      <td>0</td>\n",
              "      <td>1</td>\n",
              "      <td>...</td>\n",
              "      <td>2</td>\n",
              "      <td>0</td>\n",
              "      <td>2</td>\n",
              "      <td>0</td>\n",
              "      <td>6</td>\n",
              "      <td>1</td>\n",
              "      <td>27</td>\n",
              "      <td>29</td>\n",
              "      <td>19</td>\n",
              "      <td>11</td>\n",
              "    </tr>\n",
              "    <tr>\n",
              "      <th>269438</th>\n",
              "      <td>33</td>\n",
              "      <td>99</td>\n",
              "      <td>2</td>\n",
              "      <td>1</td>\n",
              "      <td>3</td>\n",
              "      <td>11</td>\n",
              "      <td>12</td>\n",
              "      <td>0</td>\n",
              "      <td>0</td>\n",
              "      <td>1</td>\n",
              "      <td>...</td>\n",
              "      <td>2</td>\n",
              "      <td>0</td>\n",
              "      <td>2</td>\n",
              "      <td>0</td>\n",
              "      <td>6</td>\n",
              "      <td>1</td>\n",
              "      <td>27</td>\n",
              "      <td>29</td>\n",
              "      <td>19</td>\n",
              "      <td>11</td>\n",
              "    </tr>\n",
              "    <tr>\n",
              "      <th>269439</th>\n",
              "      <td>38</td>\n",
              "      <td>99</td>\n",
              "      <td>2</td>\n",
              "      <td>1</td>\n",
              "      <td>25</td>\n",
              "      <td>11</td>\n",
              "      <td>12</td>\n",
              "      <td>3</td>\n",
              "      <td>9</td>\n",
              "      <td>2</td>\n",
              "      <td>...</td>\n",
              "      <td>5</td>\n",
              "      <td>999</td>\n",
              "      <td>5</td>\n",
              "      <td>999</td>\n",
              "      <td>8</td>\n",
              "      <td>1</td>\n",
              "      <td>27</td>\n",
              "      <td>29</td>\n",
              "      <td>19</td>\n",
              "      <td>15</td>\n",
              "    </tr>\n",
              "  </tbody>\n",
              "</table>\n",
              "<p>269440 rows × 29 columns</p>\n",
              "</div>\n",
              "      <button class=\"colab-df-convert\" onclick=\"convertToInteractive('df-a1a1ce30-04b6-4224-a326-beaae6191f1a')\"\n",
              "              title=\"Convert this dataframe to an interactive table.\"\n",
              "              style=\"display:none;\">\n",
              "        \n",
              "  <svg xmlns=\"http://www.w3.org/2000/svg\" height=\"24px\"viewBox=\"0 0 24 24\"\n",
              "       width=\"24px\">\n",
              "    <path d=\"M0 0h24v24H0V0z\" fill=\"none\"/>\n",
              "    <path d=\"M18.56 5.44l.94 2.06.94-2.06 2.06-.94-2.06-.94-.94-2.06-.94 2.06-2.06.94zm-11 1L8.5 8.5l.94-2.06 2.06-.94-2.06-.94L8.5 2.5l-.94 2.06-2.06.94zm10 10l.94 2.06.94-2.06 2.06-.94-2.06-.94-.94-2.06-.94 2.06-2.06.94z\"/><path d=\"M17.41 7.96l-1.37-1.37c-.4-.4-.92-.59-1.43-.59-.52 0-1.04.2-1.43.59L10.3 9.45l-7.72 7.72c-.78.78-.78 2.05 0 2.83L4 21.41c.39.39.9.59 1.41.59.51 0 1.02-.2 1.41-.59l7.78-7.78 2.81-2.81c.8-.78.8-2.07 0-2.86zM5.41 20L4 18.59l7.72-7.72 1.47 1.35L5.41 20z\"/>\n",
              "  </svg>\n",
              "      </button>\n",
              "      \n",
              "  <style>\n",
              "    .colab-df-container {\n",
              "      display:flex;\n",
              "      flex-wrap:wrap;\n",
              "      gap: 12px;\n",
              "    }\n",
              "\n",
              "    .colab-df-convert {\n",
              "      background-color: #E8F0FE;\n",
              "      border: none;\n",
              "      border-radius: 50%;\n",
              "      cursor: pointer;\n",
              "      display: none;\n",
              "      fill: #1967D2;\n",
              "      height: 32px;\n",
              "      padding: 0 0 0 0;\n",
              "      width: 32px;\n",
              "    }\n",
              "\n",
              "    .colab-df-convert:hover {\n",
              "      background-color: #E2EBFA;\n",
              "      box-shadow: 0px 1px 2px rgba(60, 64, 67, 0.3), 0px 1px 3px 1px rgba(60, 64, 67, 0.15);\n",
              "      fill: #174EA6;\n",
              "    }\n",
              "\n",
              "    [theme=dark] .colab-df-convert {\n",
              "      background-color: #3B4455;\n",
              "      fill: #D2E3FC;\n",
              "    }\n",
              "\n",
              "    [theme=dark] .colab-df-convert:hover {\n",
              "      background-color: #434B5C;\n",
              "      box-shadow: 0px 1px 3px 1px rgba(0, 0, 0, 0.15);\n",
              "      filter: drop-shadow(0px 1px 2px rgba(0, 0, 0, 0.3));\n",
              "      fill: #FFFFFF;\n",
              "    }\n",
              "  </style>\n",
              "\n",
              "      <script>\n",
              "        const buttonEl =\n",
              "          document.querySelector('#df-a1a1ce30-04b6-4224-a326-beaae6191f1a button.colab-df-convert');\n",
              "        buttonEl.style.display =\n",
              "          google.colab.kernel.accessAllowed ? 'block' : 'none';\n",
              "\n",
              "        async function convertToInteractive(key) {\n",
              "          const element = document.querySelector('#df-a1a1ce30-04b6-4224-a326-beaae6191f1a');\n",
              "          const dataTable =\n",
              "            await google.colab.kernel.invokeFunction('convertToInteractive',\n",
              "                                                     [key], {});\n",
              "          if (!dataTable) return;\n",
              "\n",
              "          const docLinkHtml = 'Like what you see? Visit the ' +\n",
              "            '<a target=\"_blank\" href=https://colab.research.google.com/notebooks/data_table.ipynb>data table notebook</a>'\n",
              "            + ' to learn more about interactive tables.';\n",
              "          element.innerHTML = '';\n",
              "          dataTable['output_type'] = 'display_data';\n",
              "          await google.colab.output.renderOutput(dataTable, element);\n",
              "          const docLink = document.createElement('div');\n",
              "          docLink.innerHTML = docLinkHtml;\n",
              "          element.appendChild(docLink);\n",
              "        }\n",
              "      </script>\n",
              "    </div>\n",
              "  </div>\n",
              "  "
            ]
          },
          "metadata": {},
          "execution_count": 14
        }
      ],
      "source": [
        "X_resampled_a"
      ]
    },
    {
      "cell_type": "markdown",
      "source": [
        "splitting Data into training and Test"
      ],
      "metadata": {
        "id": "KQ6bsRLALiip"
      }
    },
    {
      "cell_type": "markdown",
      "metadata": {
        "id": "IA3KNCDN0dxW"
      },
      "source": [
        "#Normalization\n"
      ]
    },
    {
      "cell_type": "code",
      "execution_count": null,
      "metadata": {
        "id": "on96_-eM0rqV"
      },
      "outputs": [],
      "source": [
        "scaler = MinMaxScaler() \n",
        "x_scaled = scaler.fit_transform(X_resampled_a)\n",
        "Y=y_resampled_a\n",
        "x_scaled_data= scaler.fit_transform(test_data)"
      ]
    },
    {
      "cell_type": "markdown",
      "metadata": {
        "id": "MPWNXcJjYVAM"
      },
      "source": [
        "# FEATURE SELECTION USING DECISION TREE"
      ]
    },
    {
      "cell_type": "code",
      "execution_count": null,
      "metadata": {
        "colab": {
          "base_uri": "https://localhost:8080/",
          "height": 1000
        },
        "id": "P_s-2mub5ZzQ",
        "outputId": "70909613-fca3-421e-89e5-3b503eb206b1"
      },
      "outputs": [
        {
          "output_type": "stream",
          "name": "stderr",
          "text": [
            "[Parallel(n_jobs=1)]: Using backend SequentialBackend with 1 concurrent workers.\n",
            "[Parallel(n_jobs=1)]: Done   2 out of   2 | elapsed:   32.0s finished\n",
            "[Parallel(n_jobs=1)]: Using backend SequentialBackend with 1 concurrent workers.\n"
          ]
        },
        {
          "output_type": "stream",
          "name": "stdout",
          "text": [
            ">10 0.853 (0.005)\n"
          ]
        },
        {
          "output_type": "stream",
          "name": "stderr",
          "text": [
            "[Parallel(n_jobs=1)]: Done   2 out of   2 | elapsed:   29.4s finished\n",
            "[Parallel(n_jobs=1)]: Using backend SequentialBackend with 1 concurrent workers.\n"
          ]
        },
        {
          "output_type": "stream",
          "name": "stdout",
          "text": [
            ">11 0.856 (0.006)\n"
          ]
        },
        {
          "output_type": "stream",
          "name": "stderr",
          "text": [
            "[Parallel(n_jobs=1)]: Done   2 out of   2 | elapsed:   29.4s finished\n",
            "[Parallel(n_jobs=1)]: Using backend SequentialBackend with 1 concurrent workers.\n"
          ]
        },
        {
          "output_type": "stream",
          "name": "stdout",
          "text": [
            ">12 0.857 (0.006)\n"
          ]
        },
        {
          "output_type": "stream",
          "name": "stderr",
          "text": [
            "[Parallel(n_jobs=1)]: Done   2 out of   2 | elapsed:   28.6s finished\n",
            "[Parallel(n_jobs=1)]: Using backend SequentialBackend with 1 concurrent workers.\n"
          ]
        },
        {
          "output_type": "stream",
          "name": "stdout",
          "text": [
            ">13 0.858 (0.006)\n"
          ]
        },
        {
          "output_type": "stream",
          "name": "stderr",
          "text": [
            "[Parallel(n_jobs=1)]: Done   2 out of   2 | elapsed:   30.3s finished\n",
            "[Parallel(n_jobs=1)]: Using backend SequentialBackend with 1 concurrent workers.\n"
          ]
        },
        {
          "output_type": "stream",
          "name": "stdout",
          "text": [
            ">14 0.859 (0.006)\n"
          ]
        },
        {
          "output_type": "stream",
          "name": "stderr",
          "text": [
            "[Parallel(n_jobs=1)]: Done   2 out of   2 | elapsed:   28.4s finished\n",
            "[Parallel(n_jobs=1)]: Using backend SequentialBackend with 1 concurrent workers.\n"
          ]
        },
        {
          "output_type": "stream",
          "name": "stdout",
          "text": [
            ">15 0.859 (0.006)\n"
          ]
        },
        {
          "output_type": "stream",
          "name": "stderr",
          "text": [
            "[Parallel(n_jobs=1)]: Done   2 out of   2 | elapsed:   25.6s finished\n",
            "[Parallel(n_jobs=1)]: Using backend SequentialBackend with 1 concurrent workers.\n"
          ]
        },
        {
          "output_type": "stream",
          "name": "stdout",
          "text": [
            ">16 0.861 (0.004)\n"
          ]
        },
        {
          "output_type": "stream",
          "name": "stderr",
          "text": [
            "[Parallel(n_jobs=1)]: Done   2 out of   2 | elapsed:   23.2s finished\n",
            "[Parallel(n_jobs=1)]: Using backend SequentialBackend with 1 concurrent workers.\n"
          ]
        },
        {
          "output_type": "stream",
          "name": "stdout",
          "text": [
            ">17 0.864 (0.007)\n"
          ]
        },
        {
          "output_type": "stream",
          "name": "stderr",
          "text": [
            "[Parallel(n_jobs=1)]: Done   2 out of   2 | elapsed:   24.5s finished\n",
            "[Parallel(n_jobs=1)]: Using backend SequentialBackend with 1 concurrent workers.\n"
          ]
        },
        {
          "output_type": "stream",
          "name": "stdout",
          "text": [
            ">18 0.867 (0.004)\n"
          ]
        },
        {
          "output_type": "stream",
          "name": "stderr",
          "text": [
            "[Parallel(n_jobs=1)]: Done   2 out of   2 | elapsed:   19.9s finished\n",
            "[Parallel(n_jobs=1)]: Using backend SequentialBackend with 1 concurrent workers.\n"
          ]
        },
        {
          "output_type": "stream",
          "name": "stdout",
          "text": [
            ">19 0.870 (0.007)\n"
          ]
        },
        {
          "output_type": "stream",
          "name": "stderr",
          "text": [
            "[Parallel(n_jobs=1)]: Done   2 out of   2 | elapsed:   18.4s finished\n",
            "[Parallel(n_jobs=1)]: Using backend SequentialBackend with 1 concurrent workers.\n"
          ]
        },
        {
          "output_type": "stream",
          "name": "stdout",
          "text": [
            ">20 0.870 (0.007)\n"
          ]
        },
        {
          "output_type": "stream",
          "name": "stderr",
          "text": [
            "[Parallel(n_jobs=1)]: Done   2 out of   2 | elapsed:   16.8s finished\n",
            "[Parallel(n_jobs=1)]: Using backend SequentialBackend with 1 concurrent workers.\n"
          ]
        },
        {
          "output_type": "stream",
          "name": "stdout",
          "text": [
            ">21 0.870 (0.007)\n"
          ]
        },
        {
          "output_type": "stream",
          "name": "stderr",
          "text": [
            "[Parallel(n_jobs=1)]: Done   2 out of   2 | elapsed:   15.5s finished\n",
            "[Parallel(n_jobs=1)]: Using backend SequentialBackend with 1 concurrent workers.\n"
          ]
        },
        {
          "output_type": "stream",
          "name": "stdout",
          "text": [
            ">22 0.870 (0.006)\n"
          ]
        },
        {
          "output_type": "stream",
          "name": "stderr",
          "text": [
            "[Parallel(n_jobs=1)]: Done   2 out of   2 | elapsed:   14.2s finished\n",
            "[Parallel(n_jobs=1)]: Using backend SequentialBackend with 1 concurrent workers.\n"
          ]
        },
        {
          "output_type": "stream",
          "name": "stdout",
          "text": [
            ">23 0.870 (0.007)\n"
          ]
        },
        {
          "output_type": "stream",
          "name": "stderr",
          "text": [
            "[Parallel(n_jobs=1)]: Done   2 out of   2 | elapsed:   12.4s finished\n"
          ]
        },
        {
          "output_type": "stream",
          "name": "stdout",
          "text": [
            ">24 0.870 (0.006)\n"
          ]
        },
        {
          "output_type": "display_data",
          "data": {
            "text/plain": [
              "<Figure size 432x288 with 1 Axes>"
            ],
            "image/png": "[encoded data removed]"
          },
          "metadata": {
            "needs_background": "light"
          }
        }
      ],
      "source": [
        "# explore the number of selected features for RFE\n",
        "from numpy import mean\n",
        "from numpy import std\n",
        "from sklearn.datasets import make_classification\n",
        "from sklearn.model_selection import cross_val_score\n",
        "from sklearn.model_selection import cross_validate\n",
        "from sklearn.model_selection import RepeatedStratifiedKFold\n",
        "from sklearn.feature_selection import RFE\n",
        "from sklearn.tree import DecisionTreeClassifier\n",
        "from sklearn.pipeline import Pipeline\n",
        "from matplotlib import pyplot\n",
        " #\n",
        "# get the dataset\n",
        "def get_dataset():\n",
        " X =x_scaled\n",
        " y= Y\n",
        " return X, y\n",
        " \n",
        "# get a list of models to evaluate\n",
        "def get_models():\n",
        " models = dict()\n",
        " for i in range(10, 25):\n",
        "  rfe = RFE(estimator=DecisionTreeClassifier(), n_features_to_select=i)\n",
        "  model = DecisionTreeClassifier()\n",
        "  models[str(i)] = Pipeline(steps=[('s',rfe),('m',model)])\n",
        " return models\n",
        " \n",
        "# evaluate a give model using cross-validation\n",
        "def evaluate_model(model_a, X, y):\n",
        " cv_a = cross_validate(model_a, X,y, cv=2,verbose=1,return_estimator=True)\n",
        " return cv_a['test_score']\n",
        " \n",
        "# define dataset\n",
        "X, y = get_dataset()\n",
        "# get the models to evaluate\n",
        "models = get_models()\n",
        "# evaluate the models and store results\n",
        "results, names = list(), list()\n",
        "for name, model in models.items():\n",
        " scores = evaluate_model(model, X, y)\n",
        " results.append(scores)\n",
        " names.append(name)\n",
        " print('-%s %.3f (%.3f)' % (name, mean(scores), std(scores)))\n",
        "# plot model performance for comparison"
      ]
    },
    {
      "cell_type": "code",
      "source": [
        "x=pyplot.plot(names,mean(results,axis=1))\n",
        "pyplot.xlabel(\"Number of Features selected\")\n",
        "pyplot.ylabel(\"Accuracy\")\n",
        "pyplot.title(\"Number of Features vs accuracy\")"
      ],
      "metadata": {
        "colab": {
          "base_uri": "https://localhost:8080/",
          "height": 313
        },
        "id": "0opgt1t-Iv-V",
        "outputId": "48e860b6-05d4-4d18-d9c6-6cf3bd82ff96"
      },
      "execution_count": null,
      "outputs": [
        {
          "output_type": "execute_result",
          "data": {
            "text/plain": [
              "Text(0.5, 1.0, 'Number of Features vs accuracy')"
            ]
          },
          "metadata": {},
          "execution_count": 18
        },
        {
          "output_type": "display_data",
          "data": {
            "text/plain": [
              "<Figure size 432x288 with 1 Axes>"
            ],
            "image/png": "[encoded data removed]"
          },
          "metadata": {
            "needs_background": "light"
          }
        }
      ]
    },
    {
      "cell_type": "markdown",
      "source": [
        "Result- Number of featurs are 18 since accuracy is higher and low standard deviation"
      ],
      "metadata": {
        "id": "jIseAa1uDi09"
      }
    },
    {
      "cell_type": "markdown",
      "source": [
        "Finding the selected variables"
      ],
      "metadata": {
        "id": "j_zeASOND2Xt"
      }
    },
    {
      "cell_type": "code",
      "source": [
        "\n",
        "from sklearn.feature_selection import RFE\n",
        "from sklearn.tree import DecisionTreeClassifier\n",
        "# load data\n",
        "X = x_scaled\n",
        "Y = Y\n",
        "# feature extraction\n",
        "model_d = DecisionTreeClassifier()\n",
        "rfe_a = RFE(estimator=model_d, n_features_to_select=18)\n",
        "fit = rfe_a.fit(X, Y)\n",
        "print(\"Num Features: %d\" % fit.n_features_)\n"
      ],
      "metadata": {
        "colab": {
          "base_uri": "https://localhost:8080/"
        },
        "id": "_MJaJbFlDobs",
        "outputId": "c1540779-f12e-496c-e11c-e32d0e92cfff"
      },
      "execution_count": null,
      "outputs": [
        {
          "output_type": "stream",
          "name": "stdout",
          "text": [
            "Num Features: 18\n"
          ]
        }
      ]
    },
    {
      "cell_type": "code",
      "source": [
        "d={\"variables\": x.columns,\"result\":fit.support_,\"rank\":fit.ranking_}\n",
        "k=pd.DataFrame(d,index=None)\n",
        "k"
      ],
      "metadata": {
        "colab": {
          "base_uri": "https://localhost:8080/",
          "height": 958
        },
        "id": "p3mjvfxPHNYJ",
        "outputId": "3f008b38-7f10-40e5-cb2e-c85e221fb8f9"
      },
      "execution_count": null,
      "outputs": [
        {
          "output_type": "execute_result",
          "data": {
            "text/plain": [
              "                              variables  result  rank\n",
              "0                            CASE_STATE    True     1\n",
              "1                                   AGE    True     1\n",
              "2                                   SEX    True     1\n",
              "3                           PERSON_TYPE    True     1\n",
              "4                      SEATING_POSITION    True     1\n",
              "5                  RESTRAINT_SYSTEM-USE    True     1\n",
              "6       AIR_BAG_AVAILABILITY/DEPLOYMENT    True     1\n",
              "7                              EJECTION   False     4\n",
              "8                         EJECTION_PATH    True     1\n",
              "9                           EXTRICATION   False     2\n",
              "10                NON_MOTORIST_LOCATION   False     7\n",
              "11  POLICE_REPORTED_ALCOHOL_INVOLVEMENT    True     1\n",
              "12         METHOD_ALCOHOL_DETERMINATION    True     1\n",
              "13                    ALCOHOL_TEST_TYPE    True     1\n",
              "14                  ALCOHOL_TEST_RESULT    True     1\n",
              "15     POLICE-REPORTED_DRUG_INVOLVEMENT    True     1\n",
              "16         METHOD_OF_DRUG_DETERMINATION   False     6\n",
              "17                       DRUG_TEST_TYPE   False     3\n",
              "18           DRUG_TEST_RESULTS_(1_of_3)    True     1\n",
              "19              DRUG_TEST_TYPE_(2_of_3)   False     9\n",
              "20           DRUG_TEST_RESULTS_(2_of_3)   False     8\n",
              "21              DRUG_TEST_TYPE_(3_of_3)    True     1\n",
              "22           DRUG_TEST_RESULTS_(3_of_3)   False     5\n",
              "23                      HISPANIC_ORIGIN   False    10\n",
              "24                    TAKEN_TO_HOSPITAL    True     1\n",
              "25      RELATED_FACTOR_(1)-PERSON_LEVEL    True     1\n",
              "26      RELATED_FACTOR_(2)-PERSON_LEVEL   False    11\n",
              "27      RELATED_FACTOR_(3)-PERSON_LEVEL   False    12\n",
              "28                                 RACE    True     1"
            ],
            "text/html": [
              "\n",
              "  <div id=\"df-2ab5ed4e-5ea9-40fc-b7eb-389780ae6693\">\n",
              "    <div class=\"colab-df-container\">\n",
              "      <div>\n",
              "<style scoped>\n",
              "    .dataframe tbody tr th:only-of-type {\n",
              "        vertical-align: middle;\n",
              "    }\n",
              "\n",
              "    .dataframe tbody tr th {\n",
              "        vertical-align: top;\n",
              "    }\n",
              "\n",
              "    .dataframe thead th {\n",
              "        text-align: right;\n",
              "    }\n",
              "</style>\n",
              "<table border=\"1\" class=\"dataframe\">\n",
              "  <thead>\n",
              "    <tr style=\"text-align: right;\">\n",
              "      <th></th>\n",
              "      <th>variables</th>\n",
              "      <th>result</th>\n",
              "      <th>rank</th>\n",
              "    </tr>\n",
              "  </thead>\n",
              "  <tbody>\n",
              "    <tr>\n",
              "      <th>0</th>\n",
              "      <td>CASE_STATE</td>\n",
              "      <td>True</td>\n",
              "      <td>1</td>\n",
              "    </tr>\n",
              "    <tr>\n",
              "      <th>1</th>\n",
              "      <td>AGE</td>\n",
              "      <td>True</td>\n",
              "      <td>1</td>\n",
              "    </tr>\n",
              "    <tr>\n",
              "      <th>2</th>\n",
              "      <td>SEX</td>\n",
              "      <td>True</td>\n",
              "      <td>1</td>\n",
              "    </tr>\n",
              "    <tr>\n",
              "      <th>3</th>\n",
              "      <td>PERSON_TYPE</td>\n",
              "      <td>True</td>\n",
              "      <td>1</td>\n",
              "    </tr>\n",
              "    <tr>\n",
              "      <th>4</th>\n",
              "      <td>SEATING_POSITION</td>\n",
              "      <td>True</td>\n",
              "      <td>1</td>\n",
              "    </tr>\n",
              "    <tr>\n",
              "      <th>5</th>\n",
              "      <td>RESTRAINT_SYSTEM-USE</td>\n",
              "      <td>True</td>\n",
              "      <td>1</td>\n",
              "    </tr>\n",
              "    <tr>\n",
              "      <th>6</th>\n",
              "      <td>AIR_BAG_AVAILABILITY/DEPLOYMENT</td>\n",
              "      <td>True</td>\n",
              "      <td>1</td>\n",
              "    </tr>\n",
              "    <tr>\n",
              "      <th>7</th>\n",
              "      <td>EJECTION</td>\n",
              "      <td>False</td>\n",
              "      <td>4</td>\n",
              "    </tr>\n",
              "    <tr>\n",
              "      <th>8</th>\n",
              "      <td>EJECTION_PATH</td>\n",
              "      <td>True</td>\n",
              "      <td>1</td>\n",
              "    </tr>\n",
              "    <tr>\n",
              "      <th>9</th>\n",
              "      <td>EXTRICATION</td>\n",
              "      <td>False</td>\n",
              "      <td>2</td>\n",
              "    </tr>\n",
              "    <tr>\n",
              "      <th>10</th>\n",
              "      <td>NON_MOTORIST_LOCATION</td>\n",
              "      <td>False</td>\n",
              "      <td>7</td>\n",
              "    </tr>\n",
              "    <tr>\n",
              "      <th>11</th>\n",
              "      <td>POLICE_REPORTED_ALCOHOL_INVOLVEMENT</td>\n",
              "      <td>True</td>\n",
              "      <td>1</td>\n",
              "    </tr>\n",
              "    <tr>\n",
              "      <th>12</th>\n",
              "      <td>METHOD_ALCOHOL_DETERMINATION</td>\n",
              "      <td>True</td>\n",
              "      <td>1</td>\n",
              "    </tr>\n",
              "    <tr>\n",
              "      <th>13</th>\n",
              "      <td>ALCOHOL_TEST_TYPE</td>\n",
              "      <td>True</td>\n",
              "      <td>1</td>\n",
              "    </tr>\n",
              "    <tr>\n",
              "      <th>14</th>\n",
              "      <td>ALCOHOL_TEST_RESULT</td>\n",
              "      <td>True</td>\n",
              "      <td>1</td>\n",
              "    </tr>\n",
              "    <tr>\n",
              "      <th>15</th>\n",
              "      <td>POLICE-REPORTED_DRUG_INVOLVEMENT</td>\n",
              "      <td>True</td>\n",
              "      <td>1</td>\n",
              "    </tr>\n",
              "    <tr>\n",
              "      <th>16</th>\n",
              "      <td>METHOD_OF_DRUG_DETERMINATION</td>\n",
              "      <td>False</td>\n",
              "      <td>6</td>\n",
              "    </tr>\n",
              "    <tr>\n",
              "      <th>17</th>\n",
              "      <td>DRUG_TEST_TYPE</td>\n",
              "      <td>False</td>\n",
              "      <td>3</td>\n",
              "    </tr>\n",
              "    <tr>\n",
              "      <th>18</th>\n",
              "      <td>DRUG_TEST_RESULTS_(1_of_3)</td>\n",
              "      <td>True</td>\n",
              "      <td>1</td>\n",
              "    </tr>\n",
              "    <tr>\n",
              "      <th>19</th>\n",
              "      <td>DRUG_TEST_TYPE_(2_of_3)</td>\n",
              "      <td>False</td>\n",
              "      <td>9</td>\n",
              "    </tr>\n",
              "    <tr>\n",
              "      <th>20</th>\n",
              "      <td>DRUG_TEST_RESULTS_(2_of_3)</td>\n",
              "      <td>False</td>\n",
              "      <td>8</td>\n",
              "    </tr>\n",
              "    <tr>\n",
              "      <th>21</th>\n",
              "      <td>DRUG_TEST_TYPE_(3_of_3)</td>\n",
              "      <td>True</td>\n",
              "      <td>1</td>\n",
              "    </tr>\n",
              "    <tr>\n",
              "      <th>22</th>\n",
              "      <td>DRUG_TEST_RESULTS_(3_of_3)</td>\n",
              "      <td>False</td>\n",
              "      <td>5</td>\n",
              "    </tr>\n",
              "    <tr>\n",
              "      <th>23</th>\n",
              "      <td>HISPANIC_ORIGIN</td>\n",
              "      <td>False</td>\n",
              "      <td>10</td>\n",
              "    </tr>\n",
              "    <tr>\n",
              "      <th>24</th>\n",
              "      <td>TAKEN_TO_HOSPITAL</td>\n",
              "      <td>True</td>\n",
              "      <td>1</td>\n",
              "    </tr>\n",
              "    <tr>\n",
              "      <th>25</th>\n",
              "      <td>RELATED_FACTOR_(1)-PERSON_LEVEL</td>\n",
              "      <td>True</td>\n",
              "      <td>1</td>\n",
              "    </tr>\n",
              "    <tr>\n",
              "      <th>26</th>\n",
              "      <td>RELATED_FACTOR_(2)-PERSON_LEVEL</td>\n",
              "      <td>False</td>\n",
              "      <td>11</td>\n",
              "    </tr>\n",
              "    <tr>\n",
              "      <th>27</th>\n",
              "      <td>RELATED_FACTOR_(3)-PERSON_LEVEL</td>\n",
              "      <td>False</td>\n",
              "      <td>12</td>\n",
              "    </tr>\n",
              "    <tr>\n",
              "      <th>28</th>\n",
              "      <td>RACE</td>\n",
              "      <td>True</td>\n",
              "      <td>1</td>\n",
              "    </tr>\n",
              "  </tbody>\n",
              "</table>\n",
              "</div>\n",
              "      <button class=\"colab-df-convert\" onclick=\"convertToInteractive('df-2ab5ed4e-5ea9-40fc-b7eb-389780ae6693')\"\n",
              "              title=\"Convert this dataframe to an interactive table.\"\n",
              "              style=\"display:none;\">\n",
              "        \n",
              "  <svg xmlns=\"http://www.w3.org/2000/svg\" height=\"24px\"viewBox=\"0 0 24 24\"\n",
              "       width=\"24px\">\n",
              "    <path d=\"M0 0h24v24H0V0z\" fill=\"none\"/>\n",
              "    <path d=\"M18.56 5.44l.94 2.06.94-2.06 2.06-.94-2.06-.94-.94-2.06-.94 2.06-2.06.94zm-11 1L8.5 8.5l.94-2.06 2.06-.94-2.06-.94L8.5 2.5l-.94 2.06-2.06.94zm10 10l.94 2.06.94-2.06 2.06-.94-2.06-.94-.94-2.06-.94 2.06-2.06.94z\"/><path d=\"M17.41 7.96l-1.37-1.37c-.4-.4-.92-.59-1.43-.59-.52 0-1.04.2-1.43.59L10.3 9.45l-7.72 7.72c-.78.78-.78 2.05 0 2.83L4 21.41c.39.39.9.59 1.41.59.51 0 1.02-.2 1.41-.59l7.78-7.78 2.81-2.81c.8-.78.8-2.07 0-2.86zM5.41 20L4 18.59l7.72-7.72 1.47 1.35L5.41 20z\"/>\n",
              "  </svg>\n",
              "      </button>\n",
              "      \n",
              "  <style>\n",
              "    .colab-df-container {\n",
              "      display:flex;\n",
              "      flex-wrap:wrap;\n",
              "      gap: 12px;\n",
              "    }\n",
              "\n",
              "    .colab-df-convert {\n",
              "      background-color: #E8F0FE;\n",
              "      border: none;\n",
              "      border-radius: 50%;\n",
              "      cursor: pointer;\n",
              "      display: none;\n",
              "      fill: #1967D2;\n",
              "      height: 32px;\n",
              "      padding: 0 0 0 0;\n",
              "      width: 32px;\n",
              "    }\n",
              "\n",
              "    .colab-df-convert:hover {\n",
              "      background-color: #E2EBFA;\n",
              "      box-shadow: 0px 1px 2px rgba(60, 64, 67, 0.3), 0px 1px 3px 1px rgba(60, 64, 67, 0.15);\n",
              "      fill: #174EA6;\n",
              "    }\n",
              "\n",
              "    [theme=dark] .colab-df-convert {\n",
              "      background-color: #3B4455;\n",
              "      fill: #D2E3FC;\n",
              "    }\n",
              "\n",
              "    [theme=dark] .colab-df-convert:hover {\n",
              "      background-color: #434B5C;\n",
              "      box-shadow: 0px 1px 3px 1px rgba(0, 0, 0, 0.15);\n",
              "      filter: drop-shadow(0px 1px 2px rgba(0, 0, 0, 0.3));\n",
              "      fill: #FFFFFF;\n",
              "    }\n",
              "  </style>\n",
              "\n",
              "      <script>\n",
              "        const buttonEl =\n",
              "          document.querySelector('#df-2ab5ed4e-5ea9-40fc-b7eb-389780ae6693 button.colab-df-convert');\n",
              "        buttonEl.style.display =\n",
              "          google.colab.kernel.accessAllowed ? 'block' : 'none';\n",
              "\n",
              "        async function convertToInteractive(key) {\n",
              "          const element = document.querySelector('#df-2ab5ed4e-5ea9-40fc-b7eb-389780ae6693');\n",
              "          const dataTable =\n",
              "            await google.colab.kernel.invokeFunction('convertToInteractive',\n",
              "                                                     [key], {});\n",
              "          if (!dataTable) return;\n",
              "\n",
              "          const docLinkHtml = 'Like what you see? Visit the ' +\n",
              "            '<a target=\"_blank\" href=https://colab.research.google.com/notebooks/data_table.ipynb>data table notebook</a>'\n",
              "            + ' to learn more about interactive tables.';\n",
              "          element.innerHTML = '';\n",
              "          dataTable['output_type'] = 'display_data';\n",
              "          await google.colab.output.renderOutput(dataTable, element);\n",
              "          const docLink = document.createElement('div');\n",
              "          docLink.innerHTML = docLinkHtml;\n",
              "          element.appendChild(docLink);\n",
              "        }\n",
              "      </script>\n",
              "    </div>\n",
              "  </div>\n",
              "  "
            ]
          },
          "metadata": {},
          "execution_count": 9
        }
      ]
    },
    {
      "cell_type": "markdown",
      "source": [
        "##selected variables"
      ],
      "metadata": {
        "id": "ayOjS6QtH_1Q"
      }
    },
    {
      "cell_type": "code",
      "source": [
        "k_selected=k[k[\"result\"]==True]\n",
        "k_selected"
      ],
      "metadata": {
        "colab": {
          "base_uri": "https://localhost:8080/",
          "height": 613
        },
        "id": "udNMHvrtHcRv",
        "outputId": "aa51d7dc-b7d9-477e-83d7-908e2102f4ee"
      },
      "execution_count": null,
      "outputs": [
        {
          "output_type": "execute_result",
          "data": {
            "text/plain": [
              "                              variables  result  rank\n",
              "0                            CASE_STATE    True     1\n",
              "1                                   AGE    True     1\n",
              "2                                   SEX    True     1\n",
              "3                           PERSON_TYPE    True     1\n",
              "4                      SEATING_POSITION    True     1\n",
              "5                  RESTRAINT_SYSTEM-USE    True     1\n",
              "6       AIR_BAG_AVAILABILITY/DEPLOYMENT    True     1\n",
              "8                         EJECTION_PATH    True     1\n",
              "11  POLICE_REPORTED_ALCOHOL_INVOLVEMENT    True     1\n",
              "12         METHOD_ALCOHOL_DETERMINATION    True     1\n",
              "13                    ALCOHOL_TEST_TYPE    True     1\n",
              "14                  ALCOHOL_TEST_RESULT    True     1\n",
              "15     POLICE-REPORTED_DRUG_INVOLVEMENT    True     1\n",
              "18           DRUG_TEST_RESULTS_(1_of_3)    True     1\n",
              "21              DRUG_TEST_TYPE_(3_of_3)    True     1\n",
              "24                    TAKEN_TO_HOSPITAL    True     1\n",
              "25      RELATED_FACTOR_(1)-PERSON_LEVEL    True     1\n",
              "28                                 RACE    True     1"
            ],
            "text/html": [
              "\n",
              "  <div id=\"df-d57f48f7-7a1e-40ad-8c66-955ebd55d77c\">\n",
              "    <div class=\"colab-df-container\">\n",
              "      <div>\n",
              "<style scoped>\n",
              "    .dataframe tbody tr th:only-of-type {\n",
              "        vertical-align: middle;\n",
              "    }\n",
              "\n",
              "    .dataframe tbody tr th {\n",
              "        vertical-align: top;\n",
              "    }\n",
              "\n",
              "    .dataframe thead th {\n",
              "        text-align: right;\n",
              "    }\n",
              "</style>\n",
              "<table border=\"1\" class=\"dataframe\">\n",
              "  <thead>\n",
              "    <tr style=\"text-align: right;\">\n",
              "      <th></th>\n",
              "      <th>variables</th>\n",
              "      <th>result</th>\n",
              "      <th>rank</th>\n",
              "    </tr>\n",
              "  </thead>\n",
              "  <tbody>\n",
              "    <tr>\n",
              "      <th>0</th>\n",
              "      <td>CASE_STATE</td>\n",
              "      <td>True</td>\n",
              "      <td>1</td>\n",
              "    </tr>\n",
              "    <tr>\n",
              "      <th>1</th>\n",
              "      <td>AGE</td>\n",
              "      <td>True</td>\n",
              "      <td>1</td>\n",
              "    </tr>\n",
              "    <tr>\n",
              "      <th>2</th>\n",
              "      <td>SEX</td>\n",
              "      <td>True</td>\n",
              "      <td>1</td>\n",
              "    </tr>\n",
              "    <tr>\n",
              "      <th>3</th>\n",
              "      <td>PERSON_TYPE</td>\n",
              "      <td>True</td>\n",
              "      <td>1</td>\n",
              "    </tr>\n",
              "    <tr>\n",
              "      <th>4</th>\n",
              "      <td>SEATING_POSITION</td>\n",
              "      <td>True</td>\n",
              "      <td>1</td>\n",
              "    </tr>\n",
              "    <tr>\n",
              "      <th>5</th>\n",
              "      <td>RESTRAINT_SYSTEM-USE</td>\n",
              "      <td>True</td>\n",
              "      <td>1</td>\n",
              "    </tr>\n",
              "    <tr>\n",
              "      <th>6</th>\n",
              "      <td>AIR_BAG_AVAILABILITY/DEPLOYMENT</td>\n",
              "      <td>True</td>\n",
              "      <td>1</td>\n",
              "    </tr>\n",
              "    <tr>\n",
              "      <th>8</th>\n",
              "      <td>EJECTION_PATH</td>\n",
              "      <td>True</td>\n",
              "      <td>1</td>\n",
              "    </tr>\n",
              "    <tr>\n",
              "      <th>11</th>\n",
              "      <td>POLICE_REPORTED_ALCOHOL_INVOLVEMENT</td>\n",
              "      <td>True</td>\n",
              "      <td>1</td>\n",
              "    </tr>\n",
              "    <tr>\n",
              "      <th>12</th>\n",
              "      <td>METHOD_ALCOHOL_DETERMINATION</td>\n",
              "      <td>True</td>\n",
              "      <td>1</td>\n",
              "    </tr>\n",
              "    <tr>\n",
              "      <th>13</th>\n",
              "      <td>ALCOHOL_TEST_TYPE</td>\n",
              "      <td>True</td>\n",
              "      <td>1</td>\n",
              "    </tr>\n",
              "    <tr>\n",
              "      <th>14</th>\n",
              "      <td>ALCOHOL_TEST_RESULT</td>\n",
              "      <td>True</td>\n",
              "      <td>1</td>\n",
              "    </tr>\n",
              "    <tr>\n",
              "      <th>15</th>\n",
              "      <td>POLICE-REPORTED_DRUG_INVOLVEMENT</td>\n",
              "      <td>True</td>\n",
              "      <td>1</td>\n",
              "    </tr>\n",
              "    <tr>\n",
              "      <th>18</th>\n",
              "      <td>DRUG_TEST_RESULTS_(1_of_3)</td>\n",
              "      <td>True</td>\n",
              "      <td>1</td>\n",
              "    </tr>\n",
              "    <tr>\n",
              "      <th>21</th>\n",
              "      <td>DRUG_TEST_TYPE_(3_of_3)</td>\n",
              "      <td>True</td>\n",
              "      <td>1</td>\n",
              "    </tr>\n",
              "    <tr>\n",
              "      <th>24</th>\n",
              "      <td>TAKEN_TO_HOSPITAL</td>\n",
              "      <td>True</td>\n",
              "      <td>1</td>\n",
              "    </tr>\n",
              "    <tr>\n",
              "      <th>25</th>\n",
              "      <td>RELATED_FACTOR_(1)-PERSON_LEVEL</td>\n",
              "      <td>True</td>\n",
              "      <td>1</td>\n",
              "    </tr>\n",
              "    <tr>\n",
              "      <th>28</th>\n",
              "      <td>RACE</td>\n",
              "      <td>True</td>\n",
              "      <td>1</td>\n",
              "    </tr>\n",
              "  </tbody>\n",
              "</table>\n",
              "</div>\n",
              "      <button class=\"colab-df-convert\" onclick=\"convertToInteractive('df-d57f48f7-7a1e-40ad-8c66-955ebd55d77c')\"\n",
              "              title=\"Convert this dataframe to an interactive table.\"\n",
              "              style=\"display:none;\">\n",
              "        \n",
              "  <svg xmlns=\"http://www.w3.org/2000/svg\" height=\"24px\"viewBox=\"0 0 24 24\"\n",
              "       width=\"24px\">\n",
              "    <path d=\"M0 0h24v24H0V0z\" fill=\"none\"/>\n",
              "    <path d=\"M18.56 5.44l.94 2.06.94-2.06 2.06-.94-2.06-.94-.94-2.06-.94 2.06-2.06.94zm-11 1L8.5 8.5l.94-2.06 2.06-.94-2.06-.94L8.5 2.5l-.94 2.06-2.06.94zm10 10l.94 2.06.94-2.06 2.06-.94-2.06-.94-.94-2.06-.94 2.06-2.06.94z\"/><path d=\"M17.41 7.96l-1.37-1.37c-.4-.4-.92-.59-1.43-.59-.52 0-1.04.2-1.43.59L10.3 9.45l-7.72 7.72c-.78.78-.78 2.05 0 2.83L4 21.41c.39.39.9.59 1.41.59.51 0 1.02-.2 1.41-.59l7.78-7.78 2.81-2.81c.8-.78.8-2.07 0-2.86zM5.41 20L4 18.59l7.72-7.72 1.47 1.35L5.41 20z\"/>\n",
              "  </svg>\n",
              "      </button>\n",
              "      \n",
              "  <style>\n",
              "    .colab-df-container {\n",
              "      display:flex;\n",
              "      flex-wrap:wrap;\n",
              "      gap: 12px;\n",
              "    }\n",
              "\n",
              "    .colab-df-convert {\n",
              "      background-color: #E8F0FE;\n",
              "      border: none;\n",
              "      border-radius: 50%;\n",
              "      cursor: pointer;\n",
              "      display: none;\n",
              "      fill: #1967D2;\n",
              "      height: 32px;\n",
              "      padding: 0 0 0 0;\n",
              "      width: 32px;\n",
              "    }\n",
              "\n",
              "    .colab-df-convert:hover {\n",
              "      background-color: #E2EBFA;\n",
              "      box-shadow: 0px 1px 2px rgba(60, 64, 67, 0.3), 0px 1px 3px 1px rgba(60, 64, 67, 0.15);\n",
              "      fill: #174EA6;\n",
              "    }\n",
              "\n",
              "    [theme=dark] .colab-df-convert {\n",
              "      background-color: #3B4455;\n",
              "      fill: #D2E3FC;\n",
              "    }\n",
              "\n",
              "    [theme=dark] .colab-df-convert:hover {\n",
              "      background-color: #434B5C;\n",
              "      box-shadow: 0px 1px 3px 1px rgba(0, 0, 0, 0.15);\n",
              "      filter: drop-shadow(0px 1px 2px rgba(0, 0, 0, 0.3));\n",
              "      fill: #FFFFFF;\n",
              "    }\n",
              "  </style>\n",
              "\n",
              "      <script>\n",
              "        const buttonEl =\n",
              "          document.querySelector('#df-d57f48f7-7a1e-40ad-8c66-955ebd55d77c button.colab-df-convert');\n",
              "        buttonEl.style.display =\n",
              "          google.colab.kernel.accessAllowed ? 'block' : 'none';\n",
              "\n",
              "        async function convertToInteractive(key) {\n",
              "          const element = document.querySelector('#df-d57f48f7-7a1e-40ad-8c66-955ebd55d77c');\n",
              "          const dataTable =\n",
              "            await google.colab.kernel.invokeFunction('convertToInteractive',\n",
              "                                                     [key], {});\n",
              "          if (!dataTable) return;\n",
              "\n",
              "          const docLinkHtml = 'Like what you see? Visit the ' +\n",
              "            '<a target=\"_blank\" href=https://colab.research.google.com/notebooks/data_table.ipynb>data table notebook</a>'\n",
              "            + ' to learn more about interactive tables.';\n",
              "          element.innerHTML = '';\n",
              "          dataTable['output_type'] = 'display_data';\n",
              "          await google.colab.output.renderOutput(dataTable, element);\n",
              "          const docLink = document.createElement('div');\n",
              "          docLink.innerHTML = docLinkHtml;\n",
              "          element.appendChild(docLink);\n",
              "        }\n",
              "      </script>\n",
              "    </div>\n",
              "  </div>\n",
              "  "
            ]
          },
          "metadata": {},
          "execution_count": 10
        }
      ]
    },
    {
      "cell_type": "markdown",
      "source": [
        "##Ignored variables"
      ],
      "metadata": {
        "id": "jui4A5UqJc6n"
      }
    },
    {
      "cell_type": "code",
      "source": [
        "k_not_selected=k[k[\"result\"]==False]\n",
        "k_not_selected"
      ],
      "metadata": {
        "colab": {
          "base_uri": "https://localhost:8080/",
          "height": 394
        },
        "id": "WUR-_TZbIpUw",
        "outputId": "4c3f89e2-ab94-48ad-f05b-5a168819a9c1"
      },
      "execution_count": null,
      "outputs": [
        {
          "output_type": "execute_result",
          "data": {
            "text/plain": [
              "                          variables  result  rank\n",
              "7                          EJECTION   False     4\n",
              "9                       EXTRICATION   False     2\n",
              "10            NON_MOTORIST_LOCATION   False     7\n",
              "16     METHOD_OF_DRUG_DETERMINATION   False     6\n",
              "17                   DRUG_TEST_TYPE   False     3\n",
              "19          DRUG_TEST_TYPE_(2_of_3)   False     9\n",
              "20       DRUG_TEST_RESULTS_(2_of_3)   False     8\n",
              "22       DRUG_TEST_RESULTS_(3_of_3)   False     5\n",
              "23                  HISPANIC_ORIGIN   False    10\n",
              "26  RELATED_FACTOR_(2)-PERSON_LEVEL   False    11\n",
              "27  RELATED_FACTOR_(3)-PERSON_LEVEL   False    12"
            ],
            "text/html": [
              "\n",
              "  <div id=\"df-6edc6a00-bbf6-4739-a91b-40b10e0dce53\">\n",
              "    <div class=\"colab-df-container\">\n",
              "      <div>\n",
              "<style scoped>\n",
              "    .dataframe tbody tr th:only-of-type {\n",
              "        vertical-align: middle;\n",
              "    }\n",
              "\n",
              "    .dataframe tbody tr th {\n",
              "        vertical-align: top;\n",
              "    }\n",
              "\n",
              "    .dataframe thead th {\n",
              "        text-align: right;\n",
              "    }\n",
              "</style>\n",
              "<table border=\"1\" class=\"dataframe\">\n",
              "  <thead>\n",
              "    <tr style=\"text-align: right;\">\n",
              "      <th></th>\n",
              "      <th>variables</th>\n",
              "      <th>result</th>\n",
              "      <th>rank</th>\n",
              "    </tr>\n",
              "  </thead>\n",
              "  <tbody>\n",
              "    <tr>\n",
              "      <th>7</th>\n",
              "      <td>EJECTION</td>\n",
              "      <td>False</td>\n",
              "      <td>4</td>\n",
              "    </tr>\n",
              "    <tr>\n",
              "      <th>9</th>\n",
              "      <td>EXTRICATION</td>\n",
              "      <td>False</td>\n",
              "      <td>2</td>\n",
              "    </tr>\n",
              "    <tr>\n",
              "      <th>10</th>\n",
              "      <td>NON_MOTORIST_LOCATION</td>\n",
              "      <td>False</td>\n",
              "      <td>7</td>\n",
              "    </tr>\n",
              "    <tr>\n",
              "      <th>16</th>\n",
              "      <td>METHOD_OF_DRUG_DETERMINATION</td>\n",
              "      <td>False</td>\n",
              "      <td>6</td>\n",
              "    </tr>\n",
              "    <tr>\n",
              "      <th>17</th>\n",
              "      <td>DRUG_TEST_TYPE</td>\n",
              "      <td>False</td>\n",
              "      <td>3</td>\n",
              "    </tr>\n",
              "    <tr>\n",
              "      <th>19</th>\n",
              "      <td>DRUG_TEST_TYPE_(2_of_3)</td>\n",
              "      <td>False</td>\n",
              "      <td>9</td>\n",
              "    </tr>\n",
              "    <tr>\n",
              "      <th>20</th>\n",
              "      <td>DRUG_TEST_RESULTS_(2_of_3)</td>\n",
              "      <td>False</td>\n",
              "      <td>8</td>\n",
              "    </tr>\n",
              "    <tr>\n",
              "      <th>22</th>\n",
              "      <td>DRUG_TEST_RESULTS_(3_of_3)</td>\n",
              "      <td>False</td>\n",
              "      <td>5</td>\n",
              "    </tr>\n",
              "    <tr>\n",
              "      <th>23</th>\n",
              "      <td>HISPANIC_ORIGIN</td>\n",
              "      <td>False</td>\n",
              "      <td>10</td>\n",
              "    </tr>\n",
              "    <tr>\n",
              "      <th>26</th>\n",
              "      <td>RELATED_FACTOR_(2)-PERSON_LEVEL</td>\n",
              "      <td>False</td>\n",
              "      <td>11</td>\n",
              "    </tr>\n",
              "    <tr>\n",
              "      <th>27</th>\n",
              "      <td>RELATED_FACTOR_(3)-PERSON_LEVEL</td>\n",
              "      <td>False</td>\n",
              "      <td>12</td>\n",
              "    </tr>\n",
              "  </tbody>\n",
              "</table>\n",
              "</div>\n",
              "      <button class=\"colab-df-convert\" onclick=\"convertToInteractive('df-6edc6a00-bbf6-4739-a91b-40b10e0dce53')\"\n",
              "              title=\"Convert this dataframe to an interactive table.\"\n",
              "              style=\"display:none;\">\n",
              "        \n",
              "  <svg xmlns=\"http://www.w3.org/2000/svg\" height=\"24px\"viewBox=\"0 0 24 24\"\n",
              "       width=\"24px\">\n",
              "    <path d=\"M0 0h24v24H0V0z\" fill=\"none\"/>\n",
              "    <path d=\"M18.56 5.44l.94 2.06.94-2.06 2.06-.94-2.06-.94-.94-2.06-.94 2.06-2.06.94zm-11 1L8.5 8.5l.94-2.06 2.06-.94-2.06-.94L8.5 2.5l-.94 2.06-2.06.94zm10 10l.94 2.06.94-2.06 2.06-.94-2.06-.94-.94-2.06-.94 2.06-2.06.94z\"/><path d=\"M17.41 7.96l-1.37-1.37c-.4-.4-.92-.59-1.43-.59-.52 0-1.04.2-1.43.59L10.3 9.45l-7.72 7.72c-.78.78-.78 2.05 0 2.83L4 21.41c.39.39.9.59 1.41.59.51 0 1.02-.2 1.41-.59l7.78-7.78 2.81-2.81c.8-.78.8-2.07 0-2.86zM5.41 20L4 18.59l7.72-7.72 1.47 1.35L5.41 20z\"/>\n",
              "  </svg>\n",
              "      </button>\n",
              "      \n",
              "  <style>\n",
              "    .colab-df-container {\n",
              "      display:flex;\n",
              "      flex-wrap:wrap;\n",
              "      gap: 12px;\n",
              "    }\n",
              "\n",
              "    .colab-df-convert {\n",
              "      background-color: #E8F0FE;\n",
              "      border: none;\n",
              "      border-radius: 50%;\n",
              "      cursor: pointer;\n",
              "      display: none;\n",
              "      fill: #1967D2;\n",
              "      height: 32px;\n",
              "      padding: 0 0 0 0;\n",
              "      width: 32px;\n",
              "    }\n",
              "\n",
              "    .colab-df-convert:hover {\n",
              "      background-color: #E2EBFA;\n",
              "      box-shadow: 0px 1px 2px rgba(60, 64, 67, 0.3), 0px 1px 3px 1px rgba(60, 64, 67, 0.15);\n",
              "      fill: #174EA6;\n",
              "    }\n",
              "\n",
              "    [theme=dark] .colab-df-convert {\n",
              "      background-color: #3B4455;\n",
              "      fill: #D2E3FC;\n",
              "    }\n",
              "\n",
              "    [theme=dark] .colab-df-convert:hover {\n",
              "      background-color: #434B5C;\n",
              "      box-shadow: 0px 1px 3px 1px rgba(0, 0, 0, 0.15);\n",
              "      filter: drop-shadow(0px 1px 2px rgba(0, 0, 0, 0.3));\n",
              "      fill: #FFFFFF;\n",
              "    }\n",
              "  </style>\n",
              "\n",
              "      <script>\n",
              "        const buttonEl =\n",
              "          document.querySelector('#df-6edc6a00-bbf6-4739-a91b-40b10e0dce53 button.colab-df-convert');\n",
              "        buttonEl.style.display =\n",
              "          google.colab.kernel.accessAllowed ? 'block' : 'none';\n",
              "\n",
              "        async function convertToInteractive(key) {\n",
              "          const element = document.querySelector('#df-6edc6a00-bbf6-4739-a91b-40b10e0dce53');\n",
              "          const dataTable =\n",
              "            await google.colab.kernel.invokeFunction('convertToInteractive',\n",
              "                                                     [key], {});\n",
              "          if (!dataTable) return;\n",
              "\n",
              "          const docLinkHtml = 'Like what you see? Visit the ' +\n",
              "            '<a target=\"_blank\" href=https://colab.research.google.com/notebooks/data_table.ipynb>data table notebook</a>'\n",
              "            + ' to learn more about interactive tables.';\n",
              "          element.innerHTML = '';\n",
              "          dataTable['output_type'] = 'display_data';\n",
              "          await google.colab.output.renderOutput(dataTable, element);\n",
              "          const docLink = document.createElement('div');\n",
              "          docLink.innerHTML = docLinkHtml;\n",
              "          element.appendChild(docLink);\n",
              "        }\n",
              "      </script>\n",
              "    </div>\n",
              "  </div>\n",
              "  "
            ]
          },
          "metadata": {},
          "execution_count": 11
        }
      ]
    },
    {
      "cell_type": "markdown",
      "source": [
        "## droping traindata\n",
        "\n",
        "\n"
      ],
      "metadata": {
        "id": "5i5pySrfZHm8"
      }
    },
    {
      "cell_type": "code",
      "source": [
        "x_new=X_resampled_a.drop(k_not_selected[\"variables\"],axis=1)"
      ],
      "metadata": {
        "id": "R70d3XZyJBi7"
      },
      "execution_count": null,
      "outputs": []
    },
    {
      "cell_type": "markdown",
      "source": [
        "Feature selection completed"
      ],
      "metadata": {
        "id": "RwGADCbu_WUi"
      }
    },
    {
      "cell_type": "markdown",
      "source": [
        "## Normalisiation of selected data"
      ],
      "metadata": {
        "id": "xNKvY8tSRld_"
      }
    },
    {
      "cell_type": "code",
      "source": [
        "scaler = MinMaxScaler() \n",
        "x_scaled_new = scaler.fit_transform(x_new)"
      ],
      "metadata": {
        "id": "zN9AKAdNRe-O"
      },
      "execution_count": null,
      "outputs": []
    },
    {
      "cell_type": "markdown",
      "source": [
        "## Test_data preparation"
      ],
      "metadata": {
        "id": "XT-gaVGu_rHj"
      }
    },
    {
      "cell_type": "markdown",
      "source": [
        "### feature selection"
      ],
      "metadata": {
        "id": "rFInkNeJjNwe"
      }
    },
    {
      "cell_type": "code",
      "source": [
        "test_data_new=test_data.drop(k_not_selected[\"variables\"],axis=1)\n"
      ],
      "metadata": {
        "id": "g-9vOv0SyZpi"
      },
      "execution_count": null,
      "outputs": []
    },
    {
      "cell_type": "markdown",
      "source": [
        "###  Normalisiation"
      ],
      "metadata": {
        "id": "sR4yEr5IjTdj"
      }
    },
    {
      "cell_type": "code",
      "source": [
        "scaler = MinMaxScaler() \n",
        "x_test_scaled = scaler.fit_transform(test_data_new)\n"
      ],
      "metadata": {
        "id": "uJdikfitzpyL"
      },
      "execution_count": null,
      "outputs": []
    },
    {
      "cell_type": "markdown",
      "source": [
        "# Decision Tree"
      ],
      "metadata": {
        "id": "mv0U3d4q6Wf_"
      }
    },
    {
      "cell_type": "markdown",
      "source": [
        "## Hyper parameter tuning (GridSearchCV)"
      ],
      "metadata": {
        "id": "HsyGr6l5_cK8"
      }
    },
    {
      "cell_type": "code",
      "source": [
        "from sklearn.tree import DecisionTreeClassifier\n",
        "from sklearn.model_selection import GridSearchCV\n",
        "from sklearn.metrics import classification_report, confusion_matrix \n",
        "parameters = {'criterion':('gini', 'entropy'), 'max_depth':np.arange(8,12),'splitter': ['best'],'min_impurity_decrease':np.arange(0,0.2,0.05),'min_samples_leaf':(1,2)}\n",
        "model=DecisionTreeClassifier()\n",
        "clf_a = GridSearchCV(model, parameters,verbose=3,scoring='accuracy',cv=10)\n",
        "clf_a.fit(x_scaled_new,Y)\n",
        "print(clf_a.best_params_) "
      ],
      "metadata": {
        "colab": {
          "base_uri": "https://localhost:8080/"
        },
        "id": "wgwSCm1LULW3",
        "outputId": "bde66aba-9da5-4c1e-f5aa-f20b78ba60df"
      },
      "execution_count": null,
      "outputs": [
        {
          "output_type": "stream",
          "name": "stdout",
          "text": [
            "Fitting 10 folds for each of 32 candidates, totalling 320 fits\n",
            "[CV 1/10] END criterion=gini, max_depth=8, min_impurity_decrease=0.0, splitter=best;, score=0.698 total time=   1.0s\n",
            "[CV 2/10] END criterion=gini, max_depth=8, min_impurity_decrease=0.0, splitter=best;, score=0.700 total time=   0.9s\n",
            "[CV 3/10] END criterion=gini, max_depth=8, min_impurity_decrease=0.0, splitter=best;, score=0.711 total time=   0.9s\n",
            "[CV 4/10] END criterion=gini, max_depth=8, min_impurity_decrease=0.0, splitter=best;, score=0.712 total time=   0.9s\n",
            "[CV 5/10] END criterion=gini, max_depth=8, min_impurity_decrease=0.0, splitter=best;, score=0.712 total time=   0.9s\n",
            "[CV 6/10] END criterion=gini, max_depth=8, min_impurity_decrease=0.0, splitter=best;, score=0.712 total time=   0.9s\n",
            "[CV 7/10] END criterion=gini, max_depth=8, min_impurity_decrease=0.0, splitter=best;, score=0.714 total time=   0.9s\n",
            "[CV 8/10] END criterion=gini, max_depth=8, min_impurity_decrease=0.0, splitter=best;, score=0.713 total time=   0.9s\n",
            "[CV 9/10] END criterion=gini, max_depth=8, min_impurity_decrease=0.0, splitter=best;, score=0.711 total time=   0.9s\n",
            "[CV 10/10] END criterion=gini, max_depth=8, min_impurity_decrease=0.0, splitter=best;, score=0.713 total time=   0.9s\n",
            "[CV 1/10] END criterion=gini, max_depth=8, min_impurity_decrease=0.05, splitter=best;, score=0.546 total time=   0.5s\n",
            "[CV 2/10] END criterion=gini, max_depth=8, min_impurity_decrease=0.05, splitter=best;, score=0.550 total time=   0.5s\n",
            "[CV 3/10] END criterion=gini, max_depth=8, min_impurity_decrease=0.05, splitter=best;, score=0.551 total time=   0.5s\n",
            "[CV 4/10] END criterion=gini, max_depth=8, min_impurity_decrease=0.05, splitter=best;, score=0.549 total time=   0.5s\n",
            "[CV 5/10] END criterion=gini, max_depth=8, min_impurity_decrease=0.05, splitter=best;, score=0.550 total time=   0.5s\n",
            "[CV 6/10] END criterion=gini, max_depth=8, min_impurity_decrease=0.05, splitter=best;, score=0.548 total time=   0.5s\n",
            "[CV 7/10] END criterion=gini, max_depth=8, min_impurity_decrease=0.05, splitter=best;, score=0.550 total time=   0.6s\n",
            "[CV 8/10] END criterion=gini, max_depth=8, min_impurity_decrease=0.05, splitter=best;, score=0.551 total time=   0.6s\n",
            "[CV 9/10] END criterion=gini, max_depth=8, min_impurity_decrease=0.05, splitter=best;, score=0.550 total time=   0.6s\n",
            "[CV 10/10] END criterion=gini, max_depth=8, min_impurity_decrease=0.05, splitter=best;, score=0.552 total time=   0.6s\n",
            "[CV 1/10] END criterion=gini, max_depth=8, min_impurity_decrease=0.1, splitter=best;, score=0.125 total time=   0.2s\n",
            "[CV 2/10] END criterion=gini, max_depth=8, min_impurity_decrease=0.1, splitter=best;, score=0.125 total time=   0.2s\n",
            "[CV 3/10] END criterion=gini, max_depth=8, min_impurity_decrease=0.1, splitter=best;, score=0.125 total time=   0.2s\n",
            "[CV 4/10] END criterion=gini, max_depth=8, min_impurity_decrease=0.1, splitter=best;, score=0.125 total time=   0.2s\n",
            "[CV 5/10] END criterion=gini, max_depth=8, min_impurity_decrease=0.1, splitter=best;, score=0.125 total time=   0.2s\n",
            "[CV 6/10] END criterion=gini, max_depth=8, min_impurity_decrease=0.1, splitter=best;, score=0.125 total time=   0.2s\n",
            "[CV 7/10] END criterion=gini, max_depth=8, min_impurity_decrease=0.1, splitter=best;, score=0.125 total time=   0.2s\n",
            "[CV 8/10] END criterion=gini, max_depth=8, min_impurity_decrease=0.1, splitter=best;, score=0.125 total time=   0.2s\n",
            "[CV 9/10] END criterion=gini, max_depth=8, min_impurity_decrease=0.1, splitter=best;, score=0.125 total time=   0.2s\n",
            "[CV 10/10] END criterion=gini, max_depth=8, min_impurity_decrease=0.1, splitter=best;, score=0.125 total time=   0.2s\n",
            "[CV 1/10] END criterion=gini, max_depth=8, min_impurity_decrease=0.15000000000000002, splitter=best;, score=0.125 total time=   0.2s\n",
            "[CV 2/10] END criterion=gini, max_depth=8, min_impurity_decrease=0.15000000000000002, splitter=best;, score=0.125 total time=   0.2s\n",
            "[CV 3/10] END criterion=gini, max_depth=8, min_impurity_decrease=0.15000000000000002, splitter=best;, score=0.125 total time=   0.2s\n",
            "[CV 4/10] END criterion=gini, max_depth=8, min_impurity_decrease=0.15000000000000002, splitter=best;, score=0.125 total time=   0.2s\n",
            "[CV 5/10] END criterion=gini, max_depth=8, min_impurity_decrease=0.15000000000000002, splitter=best;, score=0.125 total time=   0.2s\n",
            "[CV 6/10] END criterion=gini, max_depth=8, min_impurity_decrease=0.15000000000000002, splitter=best;, score=0.125 total time=   0.2s\n",
            "[CV 7/10] END criterion=gini, max_depth=8, min_impurity_decrease=0.15000000000000002, splitter=best;, score=0.125 total time=   0.2s\n",
            "[CV 8/10] END criterion=gini, max_depth=8, min_impurity_decrease=0.15000000000000002, splitter=best;, score=0.125 total time=   0.2s\n",
            "[CV 9/10] END criterion=gini, max_depth=8, min_impurity_decrease=0.15000000000000002, splitter=best;, score=0.125 total time=   0.2s\n",
            "[CV 10/10] END criterion=gini, max_depth=8, min_impurity_decrease=0.15000000000000002, splitter=best;, score=0.125 total time=   0.2s\n",
            "[CV 1/10] END criterion=gini, max_depth=9, min_impurity_decrease=0.0, splitter=best;, score=0.712 total time=   1.0s\n",
            "[CV 2/10] END criterion=gini, max_depth=9, min_impurity_decrease=0.0, splitter=best;, score=0.712 total time=   0.9s\n",
            "[CV 3/10] END criterion=gini, max_depth=9, min_impurity_decrease=0.0, splitter=best;, score=0.723 total time=   0.9s\n",
            "[CV 4/10] END criterion=gini, max_depth=9, min_impurity_decrease=0.0, splitter=best;, score=0.724 total time=   1.0s\n",
            "[CV 5/10] END criterion=gini, max_depth=9, min_impurity_decrease=0.0, splitter=best;, score=0.724 total time=   1.0s\n",
            "[CV 6/10] END criterion=gini, max_depth=9, min_impurity_decrease=0.0, splitter=best;, score=0.724 total time=   1.0s\n",
            "[CV 7/10] END criterion=gini, max_depth=9, min_impurity_decrease=0.0, splitter=best;, score=0.723 total time=   1.0s\n",
            "[CV 8/10] END criterion=gini, max_depth=9, min_impurity_decrease=0.0, splitter=best;, score=0.725 total time=   0.9s\n",
            "[CV 9/10] END criterion=gini, max_depth=9, min_impurity_decrease=0.0, splitter=best;, score=0.723 total time=   1.0s\n",
            "[CV 10/10] END criterion=gini, max_depth=9, min_impurity_decrease=0.0, splitter=best;, score=0.725 total time=   1.0s\n",
            "[CV 1/10] END criterion=gini, max_depth=9, min_impurity_decrease=0.05, splitter=best;, score=0.546 total time=   0.6s\n",
            "[CV 2/10] END criterion=gini, max_depth=9, min_impurity_decrease=0.05, splitter=best;, score=0.550 total time=   0.6s\n",
            "[CV 3/10] END criterion=gini, max_depth=9, min_impurity_decrease=0.05, splitter=best;, score=0.551 total time=   0.6s\n",
            "[CV 4/10] END criterion=gini, max_depth=9, min_impurity_decrease=0.05, splitter=best;, score=0.549 total time=   0.6s\n",
            "[CV 5/10] END criterion=gini, max_depth=9, min_impurity_decrease=0.05, splitter=best;, score=0.550 total time=   0.5s\n",
            "[CV 6/10] END criterion=gini, max_depth=9, min_impurity_decrease=0.05, splitter=best;, score=0.548 total time=   0.5s\n",
            "[CV 7/10] END criterion=gini, max_depth=9, min_impurity_decrease=0.05, splitter=best;, score=0.550 total time=   0.5s\n",
            "[CV 8/10] END criterion=gini, max_depth=9, min_impurity_decrease=0.05, splitter=best;, score=0.551 total time=   0.6s\n",
            "[CV 9/10] END criterion=gini, max_depth=9, min_impurity_decrease=0.05, splitter=best;, score=0.550 total time=   0.5s\n",
            "[CV 10/10] END criterion=gini, max_depth=9, min_impurity_decrease=0.05, splitter=best;, score=0.552 total time=   0.6s\n",
            "[CV 1/10] END criterion=gini, max_depth=9, min_impurity_decrease=0.1, splitter=best;, score=0.125 total time=   0.2s\n",
            "[CV 2/10] END criterion=gini, max_depth=9, min_impurity_decrease=0.1, splitter=best;, score=0.125 total time=   0.2s\n",
            "[CV 3/10] END criterion=gini, max_depth=9, min_impurity_decrease=0.1, splitter=best;, score=0.125 total time=   0.2s\n",
            "[CV 4/10] END criterion=gini, max_depth=9, min_impurity_decrease=0.1, splitter=best;, score=0.125 total time=   0.2s\n",
            "[CV 5/10] END criterion=gini, max_depth=9, min_impurity_decrease=0.1, splitter=best;, score=0.125 total time=   0.2s\n",
            "[CV 6/10] END criterion=gini, max_depth=9, min_impurity_decrease=0.1, splitter=best;, score=0.125 total time=   0.2s\n",
            "[CV 7/10] END criterion=gini, max_depth=9, min_impurity_decrease=0.1, splitter=best;, score=0.125 total time=   0.2s\n",
            "[CV 8/10] END criterion=gini, max_depth=9, min_impurity_decrease=0.1, splitter=best;, score=0.125 total time=   0.2s\n",
            "[CV 9/10] END criterion=gini, max_depth=9, min_impurity_decrease=0.1, splitter=best;, score=0.125 total time=   0.2s\n",
            "[CV 10/10] END criterion=gini, max_depth=9, min_impurity_decrease=0.1, splitter=best;, score=0.125 total time=   0.2s\n",
            "[CV 1/10] END criterion=gini, max_depth=9, min_impurity_decrease=0.15000000000000002, splitter=best;, score=0.125 total time=   0.2s\n",
            "[CV 2/10] END criterion=gini, max_depth=9, min_impurity_decrease=0.15000000000000002, splitter=best;, score=0.125 total time=   0.2s\n",
            "[CV 3/10] END criterion=gini, max_depth=9, min_impurity_decrease=0.15000000000000002, splitter=best;, score=0.125 total time=   0.2s\n",
            "[CV 4/10] END criterion=gini, max_depth=9, min_impurity_decrease=0.15000000000000002, splitter=best;, score=0.125 total time=   0.2s\n",
            "[CV 5/10] END criterion=gini, max_depth=9, min_impurity_decrease=0.15000000000000002, splitter=best;, score=0.125 total time=   0.2s\n",
            "[CV 6/10] END criterion=gini, max_depth=9, min_impurity_decrease=0.15000000000000002, splitter=best;, score=0.125 total time=   0.2s\n",
            "[CV 7/10] END criterion=gini, max_depth=9, min_impurity_decrease=0.15000000000000002, splitter=best;, score=0.125 total time=   0.2s\n",
            "[CV 8/10] END criterion=gini, max_depth=9, min_impurity_decrease=0.15000000000000002, splitter=best;, score=0.125 total time=   0.2s\n",
            "[CV 9/10] END criterion=gini, max_depth=9, min_impurity_decrease=0.15000000000000002, splitter=best;, score=0.125 total time=   0.2s\n",
            "[CV 10/10] END criterion=gini, max_depth=9, min_impurity_decrease=0.15000000000000002, splitter=best;, score=0.125 total time=   0.2s\n",
            "[CV 1/10] END criterion=gini, max_depth=10, min_impurity_decrease=0.0, splitter=best;, score=0.720 total time=   1.0s\n",
            "[CV 2/10] END criterion=gini, max_depth=10, min_impurity_decrease=0.0, splitter=best;, score=0.724 total time=   1.0s\n",
            "[CV 3/10] END criterion=gini, max_depth=10, min_impurity_decrease=0.0, splitter=best;, score=0.735 total time=   1.0s\n",
            "[CV 4/10] END criterion=gini, max_depth=10, min_impurity_decrease=0.0, splitter=best;, score=0.735 total time=   1.0s\n",
            "[CV 5/10] END criterion=gini, max_depth=10, min_impurity_decrease=0.0, splitter=best;, score=0.732 total time=   1.0s\n",
            "[CV 6/10] END criterion=gini, max_depth=10, min_impurity_decrease=0.0, splitter=best;, score=0.735 total time=   1.0s\n",
            "[CV 7/10] END criterion=gini, max_depth=10, min_impurity_decrease=0.0, splitter=best;, score=0.735 total time=   1.0s\n",
            "[CV 8/10] END criterion=gini, max_depth=10, min_impurity_decrease=0.0, splitter=best;, score=0.735 total time=   1.0s\n",
            "[CV 9/10] END criterion=gini, max_depth=10, min_impurity_decrease=0.0, splitter=best;, score=0.735 total time=   1.0s\n",
            "[CV 10/10] END criterion=gini, max_depth=10, min_impurity_decrease=0.0, splitter=best;, score=0.735 total time=   1.0s\n",
            "[CV 1/10] END criterion=gini, max_depth=10, min_impurity_decrease=0.05, splitter=best;, score=0.546 total time=   0.5s\n",
            "[CV 2/10] END criterion=gini, max_depth=10, min_impurity_decrease=0.05, splitter=best;, score=0.550 total time=   0.6s\n",
            "[CV 3/10] END criterion=gini, max_depth=10, min_impurity_decrease=0.05, splitter=best;, score=0.551 total time=   0.5s\n",
            "[CV 4/10] END criterion=gini, max_depth=10, min_impurity_decrease=0.05, splitter=best;, score=0.549 total time=   0.6s\n",
            "[CV 5/10] END criterion=gini, max_depth=10, min_impurity_decrease=0.05, splitter=best;, score=0.550 total time=   0.6s\n",
            "[CV 6/10] END criterion=gini, max_depth=10, min_impurity_decrease=0.05, splitter=best;, score=0.548 total time=   0.6s\n",
            "[CV 7/10] END criterion=gini, max_depth=10, min_impurity_decrease=0.05, splitter=best;, score=0.550 total time=   0.6s\n",
            "[CV 8/10] END criterion=gini, max_depth=10, min_impurity_decrease=0.05, splitter=best;, score=0.551 total time=   0.6s\n",
            "[CV 9/10] END criterion=gini, max_depth=10, min_impurity_decrease=0.05, splitter=best;, score=0.550 total time=   0.6s\n",
            "[CV 10/10] END criterion=gini, max_depth=10, min_impurity_decrease=0.05, splitter=best;, score=0.552 total time=   0.6s\n",
            "[CV 1/10] END criterion=gini, max_depth=10, min_impurity_decrease=0.1, splitter=best;, score=0.125 total time=   0.2s\n",
            "[CV 2/10] END criterion=gini, max_depth=10, min_impurity_decrease=0.1, splitter=best;, score=0.125 total time=   0.2s\n",
            "[CV 3/10] END criterion=gini, max_depth=10, min_impurity_decrease=0.1, splitter=best;, score=0.125 total time=   0.2s\n",
            "[CV 4/10] END criterion=gini, max_depth=10, min_impurity_decrease=0.1, splitter=best;, score=0.125 total time=   0.2s\n",
            "[CV 5/10] END criterion=gini, max_depth=10, min_impurity_decrease=0.1, splitter=best;, score=0.125 total time=   0.2s\n",
            "[CV 6/10] END criterion=gini, max_depth=10, min_impurity_decrease=0.1, splitter=best;, score=0.125 total time=   0.2s\n",
            "[CV 7/10] END criterion=gini, max_depth=10, min_impurity_decrease=0.1, splitter=best;, score=0.125 total time=   0.2s\n",
            "[CV 8/10] END criterion=gini, max_depth=10, min_impurity_decrease=0.1, splitter=best;, score=0.125 total time=   0.2s\n",
            "[CV 9/10] END criterion=gini, max_depth=10, min_impurity_decrease=0.1, splitter=best;, score=0.125 total time=   0.2s\n",
            "[CV 10/10] END criterion=gini, max_depth=10, min_impurity_decrease=0.1, splitter=best;, score=0.125 total time=   0.2s\n",
            "[CV 1/10] END criterion=gini, max_depth=10, min_impurity_decrease=0.15000000000000002, splitter=best;, score=0.125 total time=   0.2s\n",
            "[CV 2/10] END criterion=gini, max_depth=10, min_impurity_decrease=0.15000000000000002, splitter=best;, score=0.125 total time=   0.2s\n",
            "[CV 3/10] END criterion=gini, max_depth=10, min_impurity_decrease=0.15000000000000002, splitter=best;, score=0.125 total time=   0.2s\n",
            "[CV 4/10] END criterion=gini, max_depth=10, min_impurity_decrease=0.15000000000000002, splitter=best;, score=0.125 total time=   0.2s\n",
            "[CV 5/10] END criterion=gini, max_depth=10, min_impurity_decrease=0.15000000000000002, splitter=best;, score=0.125 total time=   0.2s\n",
            "[CV 6/10] END criterion=gini, max_depth=10, min_impurity_decrease=0.15000000000000002, splitter=best;, score=0.125 total time=   0.2s\n",
            "[CV 7/10] END criterion=gini, max_depth=10, min_impurity_decrease=0.15000000000000002, splitter=best;, score=0.125 total time=   0.2s\n",
            "[CV 8/10] END criterion=gini, max_depth=10, min_impurity_decrease=0.15000000000000002, splitter=best;, score=0.125 total time=   0.2s\n",
            "[CV 9/10] END criterion=gini, max_depth=10, min_impurity_decrease=0.15000000000000002, splitter=best;, score=0.125 total time=   0.2s\n",
            "[CV 10/10] END criterion=gini, max_depth=10, min_impurity_decrease=0.15000000000000002, splitter=best;, score=0.125 total time=   0.2s\n",
            "[CV 1/10] END criterion=gini, max_depth=11, min_impurity_decrease=0.0, splitter=best;, score=0.727 total time=   1.2s\n",
            "[CV 2/10] END criterion=gini, max_depth=11, min_impurity_decrease=0.0, splitter=best;, score=0.731 total time=   1.3s\n",
            "[CV 3/10] END criterion=gini, max_depth=11, min_impurity_decrease=0.0, splitter=best;, score=0.741 total time=   1.1s\n",
            "[CV 4/10] END criterion=gini, max_depth=11, min_impurity_decrease=0.0, splitter=best;, score=0.745 total time=   1.0s\n",
            "[CV 5/10] END criterion=gini, max_depth=11, min_impurity_decrease=0.0, splitter=best;, score=0.742 total time=   1.1s\n",
            "[CV 6/10] END criterion=gini, max_depth=11, min_impurity_decrease=0.0, splitter=best;, score=0.744 total time=   1.0s\n",
            "[CV 7/10] END criterion=gini, max_depth=11, min_impurity_decrease=0.0, splitter=best;, score=0.744 total time=   1.0s\n",
            "[CV 8/10] END criterion=gini, max_depth=11, min_impurity_decrease=0.0, splitter=best;, score=0.743 total time=   1.0s\n",
            "[CV 9/10] END criterion=gini, max_depth=11, min_impurity_decrease=0.0, splitter=best;, score=0.742 total time=   1.0s\n",
            "[CV 10/10] END criterion=gini, max_depth=11, min_impurity_decrease=0.0, splitter=best;, score=0.743 total time=   1.0s\n",
            "[CV 1/10] END criterion=gini, max_depth=11, min_impurity_decrease=0.05, splitter=best;, score=0.546 total time=   0.5s\n",
            "[CV 2/10] END criterion=gini, max_depth=11, min_impurity_decrease=0.05, splitter=best;, score=0.550 total time=   0.5s\n",
            "[CV 3/10] END criterion=gini, max_depth=11, min_impurity_decrease=0.05, splitter=best;, score=0.551 total time=   0.5s\n",
            "[CV 4/10] END criterion=gini, max_depth=11, min_impurity_decrease=0.05, splitter=best;, score=0.549 total time=   0.6s\n",
            "[CV 5/10] END criterion=gini, max_depth=11, min_impurity_decrease=0.05, splitter=best;, score=0.550 total time=   0.5s\n",
            "[CV 6/10] END criterion=gini, max_depth=11, min_impurity_decrease=0.05, splitter=best;, score=0.548 total time=   0.6s\n",
            "[CV 7/10] END criterion=gini, max_depth=11, min_impurity_decrease=0.05, splitter=best;, score=0.550 total time=   0.5s\n",
            "[CV 8/10] END criterion=gini, max_depth=11, min_impurity_decrease=0.05, splitter=best;, score=0.551 total time=   0.6s\n",
            "[CV 9/10] END criterion=gini, max_depth=11, min_impurity_decrease=0.05, splitter=best;, score=0.550 total time=   0.5s\n",
            "[CV 10/10] END criterion=gini, max_depth=11, min_impurity_decrease=0.05, splitter=best;, score=0.552 total time=   0.6s\n",
            "[CV 1/10] END criterion=gini, max_depth=11, min_impurity_decrease=0.1, splitter=best;, score=0.125 total time=   0.2s\n",
            "[CV 2/10] END criterion=gini, max_depth=11, min_impurity_decrease=0.1, splitter=best;, score=0.125 total time=   0.2s\n",
            "[CV 3/10] END criterion=gini, max_depth=11, min_impurity_decrease=0.1, splitter=best;, score=0.125 total time=   0.2s\n",
            "[CV 4/10] END criterion=gini, max_depth=11, min_impurity_decrease=0.1, splitter=best;, score=0.125 total time=   0.2s\n",
            "[CV 5/10] END criterion=gini, max_depth=11, min_impurity_decrease=0.1, splitter=best;, score=0.125 total time=   0.2s\n",
            "[CV 6/10] END criterion=gini, max_depth=11, min_impurity_decrease=0.1, splitter=best;, score=0.125 total time=   0.2s\n",
            "[CV 7/10] END criterion=gini, max_depth=11, min_impurity_decrease=0.1, splitter=best;, score=0.125 total time=   0.2s\n",
            "[CV 8/10] END criterion=gini, max_depth=11, min_impurity_decrease=0.1, splitter=best;, score=0.125 total time=   0.2s\n",
            "[CV 9/10] END criterion=gini, max_depth=11, min_impurity_decrease=0.1, splitter=best;, score=0.125 total time=   0.2s\n",
            "[CV 10/10] END criterion=gini, max_depth=11, min_impurity_decrease=0.1, splitter=best;, score=0.125 total time=   0.2s\n",
            "[CV 1/10] END criterion=gini, max_depth=11, min_impurity_decrease=0.15000000000000002, splitter=best;, score=0.125 total time=   0.2s\n",
            "[CV 2/10] END criterion=gini, max_depth=11, min_impurity_decrease=0.15000000000000002, splitter=best;, score=0.125 total time=   0.2s\n",
            "[CV 3/10] END criterion=gini, max_depth=11, min_impurity_decrease=0.15000000000000002, splitter=best;, score=0.125 total time=   0.2s\n",
            "[CV 4/10] END criterion=gini, max_depth=11, min_impurity_decrease=0.15000000000000002, splitter=best;, score=0.125 total time=   0.2s\n",
            "[CV 5/10] END criterion=gini, max_depth=11, min_impurity_decrease=0.15000000000000002, splitter=best;, score=0.125 total time=   0.2s\n",
            "[CV 6/10] END criterion=gini, max_depth=11, min_impurity_decrease=0.15000000000000002, splitter=best;, score=0.125 total time=   0.2s\n",
            "[CV 7/10] END criterion=gini, max_depth=11, min_impurity_decrease=0.15000000000000002, splitter=best;, score=0.125 total time=   0.2s\n",
            "[CV 8/10] END criterion=gini, max_depth=11, min_impurity_decrease=0.15000000000000002, splitter=best;, score=0.125 total time=   0.2s\n",
            "[CV 9/10] END criterion=gini, max_depth=11, min_impurity_decrease=0.15000000000000002, splitter=best;, score=0.125 total time=   0.2s\n",
            "[CV 10/10] END criterion=gini, max_depth=11, min_impurity_decrease=0.15000000000000002, splitter=best;, score=0.125 total time=   0.2s\n",
            "[CV 1/10] END criterion=entropy, max_depth=8, min_impurity_decrease=0.0, splitter=best;, score=0.706 total time=   0.9s\n",
            "[CV 2/10] END criterion=entropy, max_depth=8, min_impurity_decrease=0.0, splitter=best;, score=0.706 total time=   0.9s\n",
            "[CV 3/10] END criterion=entropy, max_depth=8, min_impurity_decrease=0.0, splitter=best;, score=0.718 total time=   1.2s\n",
            "[CV 4/10] END criterion=entropy, max_depth=8, min_impurity_decrease=0.0, splitter=best;, score=0.719 total time=   1.4s\n",
            "[CV 5/10] END criterion=entropy, max_depth=8, min_impurity_decrease=0.0, splitter=best;, score=0.721 total time=   1.6s\n",
            "[CV 6/10] END criterion=entropy, max_depth=8, min_impurity_decrease=0.0, splitter=best;, score=0.723 total time=   1.6s\n",
            "[CV 7/10] END criterion=entropy, max_depth=8, min_impurity_decrease=0.0, splitter=best;, score=0.724 total time=   1.9s\n",
            "[CV 8/10] END criterion=entropy, max_depth=8, min_impurity_decrease=0.0, splitter=best;, score=0.721 total time=   1.6s\n",
            "[CV 9/10] END criterion=entropy, max_depth=8, min_impurity_decrease=0.0, splitter=best;, score=0.723 total time=   1.8s\n",
            "[CV 10/10] END criterion=entropy, max_depth=8, min_impurity_decrease=0.0, splitter=best;, score=0.722 total time=   1.8s\n",
            "[CV 1/10] END criterion=entropy, max_depth=8, min_impurity_decrease=0.05, splitter=best;, score=0.614 total time=   1.5s\n",
            "[CV 2/10] END criterion=entropy, max_depth=8, min_impurity_decrease=0.05, splitter=best;, score=0.615 total time=   1.1s\n",
            "[CV 3/10] END criterion=entropy, max_depth=8, min_impurity_decrease=0.05, splitter=best;, score=0.628 total time=   1.1s\n",
            "[CV 4/10] END criterion=entropy, max_depth=8, min_impurity_decrease=0.05, splitter=best;, score=0.627 total time=   1.1s\n",
            "[CV 5/10] END criterion=entropy, max_depth=8, min_impurity_decrease=0.05, splitter=best;, score=0.628 total time=   1.1s\n",
            "[CV 6/10] END criterion=entropy, max_depth=8, min_impurity_decrease=0.05, splitter=best;, score=0.630 total time=   1.0s\n",
            "[CV 7/10] END criterion=entropy, max_depth=8, min_impurity_decrease=0.05, splitter=best;, score=0.630 total time=   1.1s\n",
            "[CV 8/10] END criterion=entropy, max_depth=8, min_impurity_decrease=0.05, splitter=best;, score=0.632 total time=   1.0s\n",
            "[CV 9/10] END criterion=entropy, max_depth=8, min_impurity_decrease=0.05, splitter=best;, score=0.630 total time=   0.7s\n",
            "[CV 10/10] END criterion=entropy, max_depth=8, min_impurity_decrease=0.05, splitter=best;, score=0.633 total time=   0.6s\n",
            "[CV 1/10] END criterion=entropy, max_depth=8, min_impurity_decrease=0.1, splitter=best;, score=0.559 total time=   0.5s\n",
            "[CV 2/10] END criterion=entropy, max_depth=8, min_impurity_decrease=0.1, splitter=best;, score=0.562 total time=   0.5s\n",
            "[CV 3/10] END criterion=entropy, max_depth=8, min_impurity_decrease=0.1, splitter=best;, score=0.562 total time=   0.5s\n",
            "[CV 4/10] END criterion=entropy, max_depth=8, min_impurity_decrease=0.1, splitter=best;, score=0.559 total time=   0.5s\n",
            "[CV 5/10] END criterion=entropy, max_depth=8, min_impurity_decrease=0.1, splitter=best;, score=0.562 total time=   0.5s\n",
            "[CV 6/10] END criterion=entropy, max_depth=8, min_impurity_decrease=0.1, splitter=best;, score=0.562 total time=   0.5s\n",
            "[CV 7/10] END criterion=entropy, max_depth=8, min_impurity_decrease=0.1, splitter=best;, score=0.560 total time=   0.5s\n",
            "[CV 8/10] END criterion=entropy, max_depth=8, min_impurity_decrease=0.1, splitter=best;, score=0.563 total time=   0.5s\n",
            "[CV 9/10] END criterion=entropy, max_depth=8, min_impurity_decrease=0.1, splitter=best;, score=0.562 total time=   0.5s\n",
            "[CV 10/10] END criterion=entropy, max_depth=8, min_impurity_decrease=0.1, splitter=best;, score=0.565 total time=   0.5s\n",
            "[CV 1/10] END criterion=entropy, max_depth=8, min_impurity_decrease=0.15000000000000002, splitter=best;, score=0.559 total time=   0.5s\n",
            "[CV 2/10] END criterion=entropy, max_depth=8, min_impurity_decrease=0.15000000000000002, splitter=best;, score=0.562 total time=   0.5s\n",
            "[CV 3/10] END criterion=entropy, max_depth=8, min_impurity_decrease=0.15000000000000002, splitter=best;, score=0.562 total time=   0.5s\n",
            "[CV 4/10] END criterion=entropy, max_depth=8, min_impurity_decrease=0.15000000000000002, splitter=best;, score=0.559 total time=   0.5s\n",
            "[CV 5/10] END criterion=entropy, max_depth=8, min_impurity_decrease=0.15000000000000002, splitter=best;, score=0.562 total time=   0.5s\n",
            "[CV 6/10] END criterion=entropy, max_depth=8, min_impurity_decrease=0.15000000000000002, splitter=best;, score=0.562 total time=   0.5s\n",
            "[CV 7/10] END criterion=entropy, max_depth=8, min_impurity_decrease=0.15000000000000002, splitter=best;, score=0.560 total time=   0.5s\n",
            "[CV 8/10] END criterion=entropy, max_depth=8, min_impurity_decrease=0.15000000000000002, splitter=best;, score=0.563 total time=   0.5s\n",
            "[CV 9/10] END criterion=entropy, max_depth=8, min_impurity_decrease=0.15000000000000002, splitter=best;, score=0.562 total time=   0.5s\n",
            "[CV 10/10] END criterion=entropy, max_depth=8, min_impurity_decrease=0.15000000000000002, splitter=best;, score=0.565 total time=   0.5s\n",
            "[CV 1/10] END criterion=entropy, max_depth=9, min_impurity_decrease=0.0, splitter=best;, score=0.718 total time=   0.9s\n",
            "[CV 2/10] END criterion=entropy, max_depth=9, min_impurity_decrease=0.0, splitter=best;, score=0.716 total time=   0.9s\n",
            "[CV 3/10] END criterion=entropy, max_depth=9, min_impurity_decrease=0.0, splitter=best;, score=0.726 total time=   0.9s\n",
            "[CV 4/10] END criterion=entropy, max_depth=9, min_impurity_decrease=0.0, splitter=best;, score=0.726 total time=   0.9s\n",
            "[CV 5/10] END criterion=entropy, max_depth=9, min_impurity_decrease=0.0, splitter=best;, score=0.729 total time=   0.9s\n",
            "[CV 6/10] END criterion=entropy, max_depth=9, min_impurity_decrease=0.0, splitter=best;, score=0.737 total time=   0.9s\n",
            "[CV 7/10] END criterion=entropy, max_depth=9, min_impurity_decrease=0.0, splitter=best;, score=0.737 total time=   0.9s\n",
            "[CV 8/10] END criterion=entropy, max_depth=9, min_impurity_decrease=0.0, splitter=best;, score=0.730 total time=   0.9s\n",
            "[CV 9/10] END criterion=entropy, max_depth=9, min_impurity_decrease=0.0, splitter=best;, score=0.733 total time=   0.9s\n",
            "[CV 10/10] END criterion=entropy, max_depth=9, min_impurity_decrease=0.0, splitter=best;, score=0.729 total time=   0.9s\n",
            "[CV 1/10] END criterion=entropy, max_depth=9, min_impurity_decrease=0.05, splitter=best;, score=0.614 total time=   0.6s\n",
            "[CV 2/10] END criterion=entropy, max_depth=9, min_impurity_decrease=0.05, splitter=best;, score=0.615 total time=   0.6s\n",
            "[CV 3/10] END criterion=entropy, max_depth=9, min_impurity_decrease=0.05, splitter=best;, score=0.628 total time=   0.6s\n",
            "[CV 4/10] END criterion=entropy, max_depth=9, min_impurity_decrease=0.05, splitter=best;, score=0.627 total time=   0.6s\n",
            "[CV 5/10] END criterion=entropy, max_depth=9, min_impurity_decrease=0.05, splitter=best;, score=0.628 total time=   0.6s\n",
            "[CV 6/10] END criterion=entropy, max_depth=9, min_impurity_decrease=0.05, splitter=best;, score=0.630 total time=   0.6s\n",
            "[CV 7/10] END criterion=entropy, max_depth=9, min_impurity_decrease=0.05, splitter=best;, score=0.630 total time=   0.6s\n",
            "[CV 8/10] END criterion=entropy, max_depth=9, min_impurity_decrease=0.05, splitter=best;, score=0.632 total time=   0.6s\n",
            "[CV 9/10] END criterion=entropy, max_depth=9, min_impurity_decrease=0.05, splitter=best;, score=0.630 total time=   0.6s\n",
            "[CV 10/10] END criterion=entropy, max_depth=9, min_impurity_decrease=0.05, splitter=best;, score=0.633 total time=   0.6s\n",
            "[CV 1/10] END criterion=entropy, max_depth=9, min_impurity_decrease=0.1, splitter=best;, score=0.559 total time=   0.5s\n",
            "[CV 2/10] END criterion=entropy, max_depth=9, min_impurity_decrease=0.1, splitter=best;, score=0.562 total time=   0.5s\n",
            "[CV 3/10] END criterion=entropy, max_depth=9, min_impurity_decrease=0.1, splitter=best;, score=0.562 total time=   0.5s\n",
            "[CV 4/10] END criterion=entropy, max_depth=9, min_impurity_decrease=0.1, splitter=best;, score=0.559 total time=   0.5s\n",
            "[CV 5/10] END criterion=entropy, max_depth=9, min_impurity_decrease=0.1, splitter=best;, score=0.562 total time=   0.5s\n",
            "[CV 6/10] END criterion=entropy, max_depth=9, min_impurity_decrease=0.1, splitter=best;, score=0.562 total time=   0.5s\n",
            "[CV 7/10] END criterion=entropy, max_depth=9, min_impurity_decrease=0.1, splitter=best;, score=0.560 total time=   0.5s\n",
            "[CV 8/10] END criterion=entropy, max_depth=9, min_impurity_decrease=0.1, splitter=best;, score=0.563 total time=   0.5s\n",
            "[CV 9/10] END criterion=entropy, max_depth=9, min_impurity_decrease=0.1, splitter=best;, score=0.562 total time=   0.5s\n",
            "[CV 10/10] END criterion=entropy, max_depth=9, min_impurity_decrease=0.1, splitter=best;, score=0.565 total time=   0.5s\n",
            "[CV 1/10] END criterion=entropy, max_depth=9, min_impurity_decrease=0.15000000000000002, splitter=best;, score=0.559 total time=   0.5s\n",
            "[CV 2/10] END criterion=entropy, max_depth=9, min_impurity_decrease=0.15000000000000002, splitter=best;, score=0.562 total time=   0.5s\n",
            "[CV 3/10] END criterion=entropy, max_depth=9, min_impurity_decrease=0.15000000000000002, splitter=best;, score=0.562 total time=   0.5s\n",
            "[CV 4/10] END criterion=entropy, max_depth=9, min_impurity_decrease=0.15000000000000002, splitter=best;, score=0.559 total time=   0.5s\n",
            "[CV 5/10] END criterion=entropy, max_depth=9, min_impurity_decrease=0.15000000000000002, splitter=best;, score=0.562 total time=   0.5s\n",
            "[CV 6/10] END criterion=entropy, max_depth=9, min_impurity_decrease=0.15000000000000002, splitter=best;, score=0.562 total time=   0.5s\n",
            "[CV 7/10] END criterion=entropy, max_depth=9, min_impurity_decrease=0.15000000000000002, splitter=best;, score=0.560 total time=   0.5s\n",
            "[CV 8/10] END criterion=entropy, max_depth=9, min_impurity_decrease=0.15000000000000002, splitter=best;, score=0.563 total time=   0.5s\n",
            "[CV 9/10] END criterion=entropy, max_depth=9, min_impurity_decrease=0.15000000000000002, splitter=best;, score=0.562 total time=   0.5s\n",
            "[CV 10/10] END criterion=entropy, max_depth=9, min_impurity_decrease=0.15000000000000002, splitter=best;, score=0.565 total time=   0.5s\n",
            "[CV 1/10] END criterion=entropy, max_depth=10, min_impurity_decrease=0.0, splitter=best;, score=0.722 total time=   0.9s\n",
            "[CV 2/10] END criterion=entropy, max_depth=10, min_impurity_decrease=0.0, splitter=best;, score=0.724 total time=   0.9s\n",
            "[CV 3/10] END criterion=entropy, max_depth=10, min_impurity_decrease=0.0, splitter=best;, score=0.733 total time=   1.0s\n",
            "[CV 4/10] END criterion=entropy, max_depth=10, min_impurity_decrease=0.0, splitter=best;, score=0.731 total time=   0.9s\n",
            "[CV 5/10] END criterion=entropy, max_depth=10, min_impurity_decrease=0.0, splitter=best;, score=0.733 total time=   0.9s\n",
            "[CV 6/10] END criterion=entropy, max_depth=10, min_impurity_decrease=0.0, splitter=best;, score=0.745 total time=   1.0s\n",
            "[CV 7/10] END criterion=entropy, max_depth=10, min_impurity_decrease=0.0, splitter=best;, score=0.742 total time=   0.9s\n",
            "[CV 8/10] END criterion=entropy, max_depth=10, min_impurity_decrease=0.0, splitter=best;, score=0.736 total time=   0.9s\n",
            "[CV 9/10] END criterion=entropy, max_depth=10, min_impurity_decrease=0.0, splitter=best;, score=0.738 total time=   0.9s\n",
            "[CV 10/10] END criterion=entropy, max_depth=10, min_impurity_decrease=0.0, splitter=best;, score=0.738 total time=   1.0s\n",
            "[CV 1/10] END criterion=entropy, max_depth=10, min_impurity_decrease=0.05, splitter=best;, score=0.614 total time=   0.6s\n",
            "[CV 2/10] END criterion=entropy, max_depth=10, min_impurity_decrease=0.05, splitter=best;, score=0.615 total time=   0.6s\n",
            "[CV 3/10] END criterion=entropy, max_depth=10, min_impurity_decrease=0.05, splitter=best;, score=0.628 total time=   0.6s\n",
            "[CV 4/10] END criterion=entropy, max_depth=10, min_impurity_decrease=0.05, splitter=best;, score=0.627 total time=   0.6s\n",
            "[CV 5/10] END criterion=entropy, max_depth=10, min_impurity_decrease=0.05, splitter=best;, score=0.628 total time=   0.6s\n",
            "[CV 6/10] END criterion=entropy, max_depth=10, min_impurity_decrease=0.05, splitter=best;, score=0.630 total time=   0.6s\n",
            "[CV 7/10] END criterion=entropy, max_depth=10, min_impurity_decrease=0.05, splitter=best;, score=0.630 total time=   0.6s\n",
            "[CV 8/10] END criterion=entropy, max_depth=10, min_impurity_decrease=0.05, splitter=best;, score=0.632 total time=   0.6s\n",
            "[CV 9/10] END criterion=entropy, max_depth=10, min_impurity_decrease=0.05, splitter=best;, score=0.630 total time=   0.6s\n",
            "[CV 10/10] END criterion=entropy, max_depth=10, min_impurity_decrease=0.05, splitter=best;, score=0.633 total time=   0.6s\n",
            "[CV 1/10] END criterion=entropy, max_depth=10, min_impurity_decrease=0.1, splitter=best;, score=0.559 total time=   0.5s\n",
            "[CV 2/10] END criterion=entropy, max_depth=10, min_impurity_decrease=0.1, splitter=best;, score=0.562 total time=   0.5s\n",
            "[CV 3/10] END criterion=entropy, max_depth=10, min_impurity_decrease=0.1, splitter=best;, score=0.562 total time=   0.5s\n",
            "[CV 4/10] END criterion=entropy, max_depth=10, min_impurity_decrease=0.1, splitter=best;, score=0.559 total time=   0.5s\n",
            "[CV 5/10] END criterion=entropy, max_depth=10, min_impurity_decrease=0.1, splitter=best;, score=0.562 total time=   0.5s\n",
            "[CV 6/10] END criterion=entropy, max_depth=10, min_impurity_decrease=0.1, splitter=best;, score=0.562 total time=   0.5s\n",
            "[CV 7/10] END criterion=entropy, max_depth=10, min_impurity_decrease=0.1, splitter=best;, score=0.560 total time=   0.5s\n",
            "[CV 8/10] END criterion=entropy, max_depth=10, min_impurity_decrease=0.1, splitter=best;, score=0.563 total time=   0.5s\n",
            "[CV 9/10] END criterion=entropy, max_depth=10, min_impurity_decrease=0.1, splitter=best;, score=0.562 total time=   0.5s\n",
            "[CV 10/10] END criterion=entropy, max_depth=10, min_impurity_decrease=0.1, splitter=best;, score=0.565 total time=   0.5s\n",
            "[CV 1/10] END criterion=entropy, max_depth=10, min_impurity_decrease=0.15000000000000002, splitter=best;, score=0.559 total time=   0.5s\n",
            "[CV 2/10] END criterion=entropy, max_depth=10, min_impurity_decrease=0.15000000000000002, splitter=best;, score=0.562 total time=   0.5s\n",
            "[CV 3/10] END criterion=entropy, max_depth=10, min_impurity_decrease=0.15000000000000002, splitter=best;, score=0.562 total time=   0.5s\n",
            "[CV 4/10] END criterion=entropy, max_depth=10, min_impurity_decrease=0.15000000000000002, splitter=best;, score=0.559 total time=   0.5s\n",
            "[CV 5/10] END criterion=entropy, max_depth=10, min_impurity_decrease=0.15000000000000002, splitter=best;, score=0.562 total time=   0.5s\n",
            "[CV 6/10] END criterion=entropy, max_depth=10, min_impurity_decrease=0.15000000000000002, splitter=best;, score=0.562 total time=   0.5s\n",
            "[CV 7/10] END criterion=entropy, max_depth=10, min_impurity_decrease=0.15000000000000002, splitter=best;, score=0.560 total time=   0.5s\n",
            "[CV 8/10] END criterion=entropy, max_depth=10, min_impurity_decrease=0.15000000000000002, splitter=best;, score=0.563 total time=   0.5s\n",
            "[CV 9/10] END criterion=entropy, max_depth=10, min_impurity_decrease=0.15000000000000002, splitter=best;, score=0.562 total time=   0.6s\n",
            "[CV 10/10] END criterion=entropy, max_depth=10, min_impurity_decrease=0.15000000000000002, splitter=best;, score=0.565 total time=   0.9s\n",
            "[CV 1/10] END criterion=entropy, max_depth=11, min_impurity_decrease=0.0, splitter=best;, score=0.729 total time=   2.1s\n",
            "[CV 2/10] END criterion=entropy, max_depth=11, min_impurity_decrease=0.0, splitter=best;, score=0.730 total time=   2.0s\n",
            "[CV 3/10] END criterion=entropy, max_depth=11, min_impurity_decrease=0.0, splitter=best;, score=0.741 total time=   2.9s\n",
            "[CV 4/10] END criterion=entropy, max_depth=11, min_impurity_decrease=0.0, splitter=best;, score=0.740 total time=   1.8s\n",
            "[CV 5/10] END criterion=entropy, max_depth=11, min_impurity_decrease=0.0, splitter=best;, score=0.741 total time=   1.0s\n",
            "[CV 6/10] END criterion=entropy, max_depth=11, min_impurity_decrease=0.0, splitter=best;, score=0.751 total time=   1.0s\n",
            "[CV 7/10] END criterion=entropy, max_depth=11, min_impurity_decrease=0.0, splitter=best;, score=0.748 total time=   1.0s\n",
            "[CV 8/10] END criterion=entropy, max_depth=11, min_impurity_decrease=0.0, splitter=best;, score=0.747 total time=   1.0s\n",
            "[CV 9/10] END criterion=entropy, max_depth=11, min_impurity_decrease=0.0, splitter=best;, score=0.745 total time=   1.0s\n",
            "[CV 10/10] END criterion=entropy, max_depth=11, min_impurity_decrease=0.0, splitter=best;, score=0.748 total time=   1.0s\n",
            "[CV 1/10] END criterion=entropy, max_depth=11, min_impurity_decrease=0.05, splitter=best;, score=0.614 total time=   0.6s\n",
            "[CV 2/10] END criterion=entropy, max_depth=11, min_impurity_decrease=0.05, splitter=best;, score=0.615 total time=   0.6s\n",
            "[CV 3/10] END criterion=entropy, max_depth=11, min_impurity_decrease=0.05, splitter=best;, score=0.628 total time=   0.6s\n",
            "[CV 4/10] END criterion=entropy, max_depth=11, min_impurity_decrease=0.05, splitter=best;, score=0.627 total time=   0.6s\n",
            "[CV 5/10] END criterion=entropy, max_depth=11, min_impurity_decrease=0.05, splitter=best;, score=0.628 total time=   0.6s\n",
            "[CV 6/10] END criterion=entropy, max_depth=11, min_impurity_decrease=0.05, splitter=best;, score=0.630 total time=   0.6s\n",
            "[CV 7/10] END criterion=entropy, max_depth=11, min_impurity_decrease=0.05, splitter=best;, score=0.630 total time=   0.6s\n",
            "[CV 8/10] END criterion=entropy, max_depth=11, min_impurity_decrease=0.05, splitter=best;, score=0.632 total time=   0.6s\n",
            "[CV 9/10] END criterion=entropy, max_depth=11, min_impurity_decrease=0.05, splitter=best;, score=0.630 total time=   0.6s\n",
            "[CV 10/10] END criterion=entropy, max_depth=11, min_impurity_decrease=0.05, splitter=best;, score=0.633 total time=   0.6s\n",
            "[CV 1/10] END criterion=entropy, max_depth=11, min_impurity_decrease=0.1, splitter=best;, score=0.559 total time=   0.5s\n",
            "[CV 2/10] END criterion=entropy, max_depth=11, min_impurity_decrease=0.1, splitter=best;, score=0.562 total time=   0.5s\n",
            "[CV 3/10] END criterion=entropy, max_depth=11, min_impurity_decrease=0.1, splitter=best;, score=0.562 total time=   0.5s\n",
            "[CV 4/10] END criterion=entropy, max_depth=11, min_impurity_decrease=0.1, splitter=best;, score=0.559 total time=   0.5s\n",
            "[CV 5/10] END criterion=entropy, max_depth=11, min_impurity_decrease=0.1, splitter=best;, score=0.562 total time=   0.5s\n",
            "[CV 6/10] END criterion=entropy, max_depth=11, min_impurity_decrease=0.1, splitter=best;, score=0.562 total time=   0.5s\n",
            "[CV 7/10] END criterion=entropy, max_depth=11, min_impurity_decrease=0.1, splitter=best;, score=0.560 total time=   0.5s\n",
            "[CV 8/10] END criterion=entropy, max_depth=11, min_impurity_decrease=0.1, splitter=best;, score=0.563 total time=   0.5s\n",
            "[CV 9/10] END criterion=entropy, max_depth=11, min_impurity_decrease=0.1, splitter=best;, score=0.562 total time=   0.5s\n",
            "[CV 10/10] END criterion=entropy, max_depth=11, min_impurity_decrease=0.1, splitter=best;, score=0.565 total time=   0.5s\n",
            "[CV 1/10] END criterion=entropy, max_depth=11, min_impurity_decrease=0.15000000000000002, splitter=best;, score=0.559 total time=   0.6s\n",
            "[CV 2/10] END criterion=entropy, max_depth=11, min_impurity_decrease=0.15000000000000002, splitter=best;, score=0.562 total time=   0.5s\n",
            "[CV 3/10] END criterion=entropy, max_depth=11, min_impurity_decrease=0.15000000000000002, splitter=best;, score=0.562 total time=   0.5s\n",
            "[CV 4/10] END criterion=entropy, max_depth=11, min_impurity_decrease=0.15000000000000002, splitter=best;, score=0.559 total time=   0.5s\n",
            "[CV 5/10] END criterion=entropy, max_depth=11, min_impurity_decrease=0.15000000000000002, splitter=best;, score=0.562 total time=   0.9s\n",
            "[CV 6/10] END criterion=entropy, max_depth=11, min_impurity_decrease=0.15000000000000002, splitter=best;, score=0.562 total time=   0.9s\n",
            "[CV 7/10] END criterion=entropy, max_depth=11, min_impurity_decrease=0.15000000000000002, splitter=best;, score=0.560 total time=   1.2s\n",
            "[CV 8/10] END criterion=entropy, max_depth=11, min_impurity_decrease=0.15000000000000002, splitter=best;, score=0.563 total time=   1.0s\n",
            "[CV 9/10] END criterion=entropy, max_depth=11, min_impurity_decrease=0.15000000000000002, splitter=best;, score=0.562 total time=   0.9s\n",
            "[CV 10/10] END criterion=entropy, max_depth=11, min_impurity_decrease=0.15000000000000002, splitter=best;, score=0.565 total time=   1.0s\n",
            "{'criterion': 'entropy', 'max_depth': 11, 'min_impurity_decrease': 0.0, 'splitter': 'best'}\n"
          ]
        }
      ]
    },
    {
      "cell_type": "markdown",
      "source": [
        "## predictions"
      ],
      "metadata": {
        "id": "J6yyL6iej2BH"
      }
    },
    {
      "cell_type": "code",
      "source": [
        "grid_predictions = clf_a.predict(x_test_scaled) \n",
        "   \n",
        "# print classification report \n",
        "print(classification_report(test_target, grid_predictions)) \n"
      ],
      "metadata": {
        "colab": {
          "base_uri": "https://localhost:8080/"
        },
        "id": "av_0tkn7yW9r",
        "outputId": "3fe488ef-54a8-41ff-c551-68b49ac7058e"
      },
      "execution_count": null,
      "outputs": [
        {
          "output_type": "stream",
          "name": "stdout",
          "text": [
            "              precision    recall  f1-score   support\n",
            "\n",
            "           0       0.00      0.00      0.00         2\n",
            "           1       1.00      1.00      1.00      8436\n",
            "           2       0.59      0.37      0.46      3029\n",
            "           3       0.13      0.58      0.21        50\n",
            "           4       0.84      0.90      0.87      3943\n",
            "           5       0.43      0.68      0.53      2848\n",
            "           6       0.36      0.07      0.12      1711\n",
            "           7       0.28      0.79      0.41       175\n",
            "\n",
            "    accuracy                           0.76     20194\n",
            "   macro avg       0.45      0.55      0.45     20194\n",
            "weighted avg       0.76      0.76      0.74     20194\n",
            "\n"
          ]
        }
      ]
    },
    {
      "cell_type": "markdown",
      "source": [
        "F1 score (weighted)=0.75"
      ],
      "metadata": {
        "id": "hj8G-Jat0Y7y"
      }
    },
    {
      "cell_type": "markdown",
      "source": [
        "## conclusion"
      ],
      "metadata": {
        "id": "bFqT4vcU1JkK"
      }
    },
    {
      "cell_type": "code",
      "source": [
        "from sklearn.tree import DecisionTreeClassifier\n",
        "from sklearn.metrics import classification_report, confusion_matrix \n",
        "from sklearn.model_selection import cross_validate\n",
        "model=DecisionTreeClassifier(criterion='entropy',max_depth=12,min_impurity_decrease=0.0,splitter='best',min_samples_leaf=2)\n",
        "cv_results_a = cross_validate(model, x_scaled_new,Y, cv=10,verbose=1,return_estimator=True)\n",
        "accuracies_a = cv_results_a['test_score']\n",
        "accuracies_a=list(accuracies_a)\n",
        "models=cv_results_a['estimator']\n",
        "model = models[accuracies_a.index(max(accuracies_a))]\n",
        "predictions = model.predict(x_test_scaled) \n",
        "   \n",
        "# print classification report \n",
        "print(classification_report(test_target, predictions)) \n"
      ],
      "metadata": {
        "colab": {
          "base_uri": "https://localhost:8080/"
        },
        "id": "bM6aqvdf1IOC",
        "outputId": "ce3bea63-17e1-4c4a-9575-7eba714bc3fe"
      },
      "execution_count": null,
      "outputs": [
        {
          "output_type": "stream",
          "name": "stderr",
          "text": [
            "[Parallel(n_jobs=1)]: Using backend SequentialBackend with 1 concurrent workers.\n"
          ]
        },
        {
          "output_type": "stream",
          "name": "stdout",
          "text": [
            "              precision    recall  f1-score   support\n",
            "\n",
            "           0       0.00      0.00      0.00         2\n",
            "           1       1.00      1.00      1.00      8436\n",
            "           2       0.49      0.68      0.57      3029\n",
            "           3       0.13      0.48      0.21        50\n",
            "           4       0.85      0.91      0.88      3943\n",
            "           5       0.44      0.36      0.40      2848\n",
            "           6       0.35      0.11      0.17      1711\n",
            "           7       0.40      0.77      0.52       175\n",
            "\n",
            "    accuracy                           0.76     20194\n",
            "   macro avg       0.46      0.54      0.47     20194\n",
            "weighted avg       0.75      0.76      0.75     20194\n",
            "\n"
          ]
        },
        {
          "output_type": "stream",
          "name": "stderr",
          "text": [
            "[Parallel(n_jobs=1)]: Done  10 out of  10 | elapsed:   12.7s finished\n"
          ]
        }
      ]
    },
    {
      "cell_type": "code",
      "source": [
        "# saving the model\n",
        "import pickle\n",
        "filename = '/content/gdrive/MyDrive/Ml_project/fars_models/decision_tree.sav'\n",
        "pickle.dump(model, open(filename, 'wb'))"
      ],
      "metadata": {
        "id": "6LCO2gLTJ5yB"
      },
      "execution_count": null,
      "outputs": []
    },
    {
      "cell_type": "markdown",
      "source": [
        "## Tree image"
      ],
      "metadata": {
        "id": "2p5QRQPijf4a"
      }
    },
    {
      "cell_type": "code",
      "source": [
        "import matplotlib.pyplot as plt\n",
        "from sklearn import tree\n",
        "%matplotlib inline\n",
        "plt.figure(figsize=(30,30))\n",
        "tree.plot_tree(model, filled=0, fontsize=8,max_depth=5)"
      ],
      "metadata": {
        "id": "8K-JYTbNY3YJ"
      },
      "execution_count": null,
      "outputs": []
    },
    {
      "cell_type": "markdown",
      "source": [
        "## Accuracy =0.75\n",
        "\n"
      ],
      "metadata": {
        "id": "08FvO62e--5l"
      }
    },
    {
      "cell_type": "markdown",
      "source": [
        "#Random Forest"
      ],
      "metadata": {
        "id": "kKB1gW_46jgL"
      }
    },
    {
      "cell_type": "markdown",
      "source": [
        "## Hyper parameter tuning (GridSearch CV)"
      ],
      "metadata": {
        "id": "vZBZK7DKfugB"
      }
    },
    {
      "cell_type": "code",
      "source": [
        "from sklearn.ensemble import RandomForestClassifier\n",
        "from sklearn.model_selection import GridSearchCV\n",
        "from sklearn.metrics import classification_report, confusion_matrix \n",
        "parameters = {'criterion':('gini', 'entropy'), 'max_depth':np.arange(8,12),'min_impurity_decrease':np.arange(0,0.2,0.05)}\n",
        "model=RandomForestClassifier()\n",
        "clf_a = GridSearchCV(model, parameters,verbose=3,scoring='accuracy',cv=10)\n",
        "clf_a.fit(x_scaled_new,Y)\n",
        "print(clf_a.best_params_) "
      ],
      "metadata": {
        "colab": {
          "base_uri": "https://localhost:8080/"
        },
        "id": "arCzBGngfu36",
        "outputId": "96c9e2ca-d30a-4778-b471-9417c47bea98"
      },
      "execution_count": null,
      "outputs": [
        {
          "output_type": "stream",
          "name": "stdout",
          "text": [
            "Fitting 10 folds for each of 32 candidates, totalling 320 fits\n",
            "[CV 1/10] END criterion=gini, max_depth=8, min_impurity_decrease=0.0;, score=0.711 total time=  20.8s\n",
            "[CV 2/10] END criterion=gini, max_depth=8, min_impurity_decrease=0.0;, score=0.709 total time=  20.2s\n",
            "[CV 3/10] END criterion=gini, max_depth=8, min_impurity_decrease=0.0;, score=0.724 total time=  20.1s\n",
            "[CV 4/10] END criterion=gini, max_depth=8, min_impurity_decrease=0.0;, score=0.728 total time=  17.8s\n",
            "[CV 5/10] END criterion=gini, max_depth=8, min_impurity_decrease=0.0;, score=0.728 total time=  16.9s\n",
            "[CV 6/10] END criterion=gini, max_depth=8, min_impurity_decrease=0.0;, score=0.724 total time=  17.5s\n",
            "[CV 7/10] END criterion=gini, max_depth=8, min_impurity_decrease=0.0;, score=0.726 total time=  18.6s\n",
            "[CV 8/10] END criterion=gini, max_depth=8, min_impurity_decrease=0.0;, score=0.728 total time=  23.2s\n",
            "[CV 9/10] END criterion=gini, max_depth=8, min_impurity_decrease=0.0;, score=0.729 total time=  20.9s\n",
            "[CV 10/10] END criterion=gini, max_depth=8, min_impurity_decrease=0.0;, score=0.728 total time=  20.1s\n",
            "[CV 1/10] END criterion=gini, max_depth=8, min_impurity_decrease=0.05;, score=0.602 total time=   9.9s\n",
            "[CV 2/10] END criterion=gini, max_depth=8, min_impurity_decrease=0.05;, score=0.576 total time=  12.9s\n",
            "[CV 3/10] END criterion=gini, max_depth=8, min_impurity_decrease=0.05;, score=0.576 total time=  10.7s\n",
            "[CV 4/10] END criterion=gini, max_depth=8, min_impurity_decrease=0.05;, score=0.594 total time=  12.7s\n",
            "[CV 5/10] END criterion=gini, max_depth=8, min_impurity_decrease=0.05;, score=0.573 total time=  10.6s\n",
            "[CV 6/10] END criterion=gini, max_depth=8, min_impurity_decrease=0.05;, score=0.604 total time=   8.5s\n",
            "[CV 7/10] END criterion=gini, max_depth=8, min_impurity_decrease=0.05;, score=0.601 total time=   8.6s\n",
            "[CV 8/10] END criterion=gini, max_depth=8, min_impurity_decrease=0.05;, score=0.578 total time=   8.5s\n",
            "[CV 9/10] END criterion=gini, max_depth=8, min_impurity_decrease=0.05;, score=0.601 total time=   8.4s\n",
            "[CV 10/10] END criterion=gini, max_depth=8, min_impurity_decrease=0.05;, score=0.603 total time=   9.9s\n",
            "[CV 1/10] END criterion=gini, max_depth=8, min_impurity_decrease=0.1;, score=0.125 total time=   6.1s\n",
            "[CV 2/10] END criterion=gini, max_depth=8, min_impurity_decrease=0.1;, score=0.125 total time=   5.5s\n",
            "[CV 3/10] END criterion=gini, max_depth=8, min_impurity_decrease=0.1;, score=0.125 total time=   5.6s\n",
            "[CV 4/10] END criterion=gini, max_depth=8, min_impurity_decrease=0.1;, score=0.125 total time=   5.5s\n",
            "[CV 5/10] END criterion=gini, max_depth=8, min_impurity_decrease=0.1;, score=0.125 total time=   5.6s\n",
            "[CV 6/10] END criterion=gini, max_depth=8, min_impurity_decrease=0.1;, score=0.125 total time=   5.8s\n",
            "[CV 7/10] END criterion=gini, max_depth=8, min_impurity_decrease=0.1;, score=0.125 total time=   6.3s\n",
            "[CV 8/10] END criterion=gini, max_depth=8, min_impurity_decrease=0.1;, score=0.125 total time=   5.9s\n",
            "[CV 9/10] END criterion=gini, max_depth=8, min_impurity_decrease=0.1;, score=0.125 total time=   6.7s\n",
            "[CV 10/10] END criterion=gini, max_depth=8, min_impurity_decrease=0.1;, score=0.125 total time=   7.0s\n",
            "[CV 1/10] END criterion=gini, max_depth=8, min_impurity_decrease=0.15000000000000002;, score=0.125 total time=   6.4s\n",
            "[CV 2/10] END criterion=gini, max_depth=8, min_impurity_decrease=0.15000000000000002;, score=0.125 total time=   5.9s\n",
            "[CV 3/10] END criterion=gini, max_depth=8, min_impurity_decrease=0.15000000000000002;, score=0.125 total time=   6.4s\n",
            "[CV 4/10] END criterion=gini, max_depth=8, min_impurity_decrease=0.15000000000000002;, score=0.125 total time=   5.9s\n",
            "[CV 5/10] END criterion=gini, max_depth=8, min_impurity_decrease=0.15000000000000002;, score=0.125 total time=   6.0s\n",
            "[CV 6/10] END criterion=gini, max_depth=8, min_impurity_decrease=0.15000000000000002;, score=0.125 total time=   5.4s\n",
            "[CV 7/10] END criterion=gini, max_depth=8, min_impurity_decrease=0.15000000000000002;, score=0.125 total time=   5.3s\n",
            "[CV 8/10] END criterion=gini, max_depth=8, min_impurity_decrease=0.15000000000000002;, score=0.125 total time=   6.7s\n",
            "[CV 9/10] END criterion=gini, max_depth=8, min_impurity_decrease=0.15000000000000002;, score=0.125 total time=   6.7s\n",
            "[CV 10/10] END criterion=gini, max_depth=8, min_impurity_decrease=0.15000000000000002;, score=0.125 total time=   6.1s\n",
            "[CV 1/10] END criterion=gini, max_depth=9, min_impurity_decrease=0.0;, score=0.719 total time=  21.0s\n",
            "[CV 2/10] END criterion=gini, max_depth=9, min_impurity_decrease=0.0;, score=0.719 total time=  20.4s\n",
            "[CV 3/10] END criterion=gini, max_depth=9, min_impurity_decrease=0.0;, score=0.733 total time=  19.6s\n",
            "[CV 4/10] END criterion=gini, max_depth=9, min_impurity_decrease=0.0;, score=0.740 total time=  18.5s\n",
            "[CV 5/10] END criterion=gini, max_depth=9, min_impurity_decrease=0.0;, score=0.734 total time=  19.7s\n",
            "[CV 6/10] END criterion=gini, max_depth=9, min_impurity_decrease=0.0;, score=0.732 total time=  19.2s\n",
            "[CV 7/10] END criterion=gini, max_depth=9, min_impurity_decrease=0.0;, score=0.738 total time=  19.8s\n",
            "[CV 8/10] END criterion=gini, max_depth=9, min_impurity_decrease=0.0;, score=0.736 total time=  20.7s\n",
            "[CV 9/10] END criterion=gini, max_depth=9, min_impurity_decrease=0.0;, score=0.734 total time=  20.7s\n",
            "[CV 10/10] END criterion=gini, max_depth=9, min_impurity_decrease=0.0;, score=0.738 total time=  19.0s\n",
            "[CV 1/10] END criterion=gini, max_depth=9, min_impurity_decrease=0.05;, score=0.593 total time=   8.5s\n",
            "[CV 2/10] END criterion=gini, max_depth=9, min_impurity_decrease=0.05;, score=0.593 total time=   8.7s\n",
            "[CV 3/10] END criterion=gini, max_depth=9, min_impurity_decrease=0.05;, score=0.593 total time=   9.5s\n",
            "[CV 4/10] END criterion=gini, max_depth=9, min_impurity_decrease=0.05;, score=0.598 total time=   9.7s\n",
            "[CV 5/10] END criterion=gini, max_depth=9, min_impurity_decrease=0.05;, score=0.573 total time=   8.9s\n",
            "[CV 6/10] END criterion=gini, max_depth=9, min_impurity_decrease=0.05;, score=0.605 total time=  11.1s\n",
            "[CV 7/10] END criterion=gini, max_depth=9, min_impurity_decrease=0.05;, score=0.574 total time=  10.4s\n",
            "[CV 8/10] END criterion=gini, max_depth=9, min_impurity_decrease=0.05;, score=0.602 total time=  12.0s\n",
            "[CV 9/10] END criterion=gini, max_depth=9, min_impurity_decrease=0.05;, score=0.602 total time=  10.1s\n",
            "[CV 10/10] END criterion=gini, max_depth=9, min_impurity_decrease=0.05;, score=0.579 total time=   9.7s\n",
            "[CV 1/10] END criterion=gini, max_depth=9, min_impurity_decrease=0.1;, score=0.125 total time=   6.2s\n",
            "[CV 2/10] END criterion=gini, max_depth=9, min_impurity_decrease=0.1;, score=0.125 total time=   6.3s\n",
            "[CV 3/10] END criterion=gini, max_depth=9, min_impurity_decrease=0.1;, score=0.125 total time=   5.9s\n",
            "[CV 4/10] END criterion=gini, max_depth=9, min_impurity_decrease=0.1;, score=0.125 total time=   6.1s\n",
            "[CV 5/10] END criterion=gini, max_depth=9, min_impurity_decrease=0.1;, score=0.125 total time=   6.1s\n",
            "[CV 6/10] END criterion=gini, max_depth=9, min_impurity_decrease=0.1;, score=0.125 total time=   5.8s\n",
            "[CV 7/10] END criterion=gini, max_depth=9, min_impurity_decrease=0.1;, score=0.125 total time=   6.4s\n",
            "[CV 8/10] END criterion=gini, max_depth=9, min_impurity_decrease=0.1;, score=0.125 total time=   6.0s\n",
            "[CV 9/10] END criterion=gini, max_depth=9, min_impurity_decrease=0.1;, score=0.125 total time=   5.7s\n",
            "[CV 10/10] END criterion=gini, max_depth=9, min_impurity_decrease=0.1;, score=0.125 total time=   5.7s\n",
            "[CV 1/10] END criterion=gini, max_depth=9, min_impurity_decrease=0.15000000000000002;, score=0.125 total time=   5.6s\n",
            "[CV 2/10] END criterion=gini, max_depth=9, min_impurity_decrease=0.15000000000000002;, score=0.125 total time=   6.3s\n",
            "[CV 3/10] END criterion=gini, max_depth=9, min_impurity_decrease=0.15000000000000002;, score=0.125 total time=   5.8s\n",
            "[CV 4/10] END criterion=gini, max_depth=9, min_impurity_decrease=0.15000000000000002;, score=0.125 total time=   5.6s\n",
            "[CV 5/10] END criterion=gini, max_depth=9, min_impurity_decrease=0.15000000000000002;, score=0.125 total time=   5.6s\n",
            "[CV 6/10] END criterion=gini, max_depth=9, min_impurity_decrease=0.15000000000000002;, score=0.125 total time=   6.1s\n",
            "[CV 7/10] END criterion=gini, max_depth=9, min_impurity_decrease=0.15000000000000002;, score=0.125 total time=   5.9s\n",
            "[CV 8/10] END criterion=gini, max_depth=9, min_impurity_decrease=0.15000000000000002;, score=0.125 total time=   5.6s\n",
            "[CV 9/10] END criterion=gini, max_depth=9, min_impurity_decrease=0.15000000000000002;, score=0.125 total time=   5.7s\n",
            "[CV 10/10] END criterion=gini, max_depth=9, min_impurity_decrease=0.15000000000000002;, score=0.125 total time=   7.1s\n",
            "[CV 1/10] END criterion=gini, max_depth=10, min_impurity_decrease=0.0;, score=0.728 total time=  23.3s\n",
            "[CV 2/10] END criterion=gini, max_depth=10, min_impurity_decrease=0.0;, score=0.729 total time=  22.1s\n",
            "[CV 3/10] END criterion=gini, max_depth=10, min_impurity_decrease=0.0;, score=0.739 total time=  21.6s\n",
            "[CV 4/10] END criterion=gini, max_depth=10, min_impurity_decrease=0.0;, score=0.747 total time=  20.8s\n",
            "[CV 5/10] END criterion=gini, max_depth=10, min_impurity_decrease=0.0;, score=0.745 total time=  24.0s\n",
            "[CV 6/10] END criterion=gini, max_depth=10, min_impurity_decrease=0.0;, score=0.745 total time=  23.6s\n",
            "[CV 7/10] END criterion=gini, max_depth=10, min_impurity_decrease=0.0;, score=0.745 total time=  22.1s\n",
            "[CV 8/10] END criterion=gini, max_depth=10, min_impurity_decrease=0.0;, score=0.746 total time=  22.1s\n",
            "[CV 9/10] END criterion=gini, max_depth=10, min_impurity_decrease=0.0;, score=0.745 total time=  21.4s\n",
            "[CV 10/10] END criterion=gini, max_depth=10, min_impurity_decrease=0.0;, score=0.747 total time=  21.1s\n",
            "[CV 1/10] END criterion=gini, max_depth=10, min_impurity_decrease=0.05;, score=0.573 total time=  12.7s\n",
            "[CV 2/10] END criterion=gini, max_depth=10, min_impurity_decrease=0.05;, score=0.598 total time=  10.4s\n",
            "[CV 3/10] END criterion=gini, max_depth=10, min_impurity_decrease=0.05;, score=0.600 total time=  13.3s\n",
            "[CV 4/10] END criterion=gini, max_depth=10, min_impurity_decrease=0.05;, score=0.570 total time=  10.0s\n",
            "[CV 5/10] END criterion=gini, max_depth=10, min_impurity_decrease=0.05;, score=0.596 total time=   9.9s\n",
            "[CV 6/10] END criterion=gini, max_depth=10, min_impurity_decrease=0.05;, score=0.602 total time=   9.9s\n",
            "[CV 7/10] END criterion=gini, max_depth=10, min_impurity_decrease=0.05;, score=0.605 total time=  11.6s\n",
            "[CV 8/10] END criterion=gini, max_depth=10, min_impurity_decrease=0.05;, score=0.603 total time=   9.2s\n",
            "[CV 9/10] END criterion=gini, max_depth=10, min_impurity_decrease=0.05;, score=0.605 total time=   9.8s\n",
            "[CV 10/10] END criterion=gini, max_depth=10, min_impurity_decrease=0.05;, score=0.607 total time=   8.9s\n",
            "[CV 1/10] END criterion=gini, max_depth=10, min_impurity_decrease=0.1;, score=0.125 total time=   5.3s\n",
            "[CV 2/10] END criterion=gini, max_depth=10, min_impurity_decrease=0.1;, score=0.125 total time=   5.5s\n",
            "[CV 3/10] END criterion=gini, max_depth=10, min_impurity_decrease=0.1;, score=0.125 total time=   5.4s\n",
            "[CV 4/10] END criterion=gini, max_depth=10, min_impurity_decrease=0.1;, score=0.125 total time=   5.4s\n",
            "[CV 5/10] END criterion=gini, max_depth=10, min_impurity_decrease=0.1;, score=0.125 total time=   5.5s\n",
            "[CV 6/10] END criterion=gini, max_depth=10, min_impurity_decrease=0.1;, score=0.125 total time=   5.5s\n",
            "[CV 7/10] END criterion=gini, max_depth=10, min_impurity_decrease=0.1;, score=0.125 total time=   5.5s\n",
            "[CV 8/10] END criterion=gini, max_depth=10, min_impurity_decrease=0.1;, score=0.125 total time=   5.7s\n",
            "[CV 9/10] END criterion=gini, max_depth=10, min_impurity_decrease=0.1;, score=0.125 total time=   5.5s\n",
            "[CV 10/10] END criterion=gini, max_depth=10, min_impurity_decrease=0.1;, score=0.125 total time=   5.7s\n",
            "[CV 1/10] END criterion=gini, max_depth=10, min_impurity_decrease=0.15000000000000002;, score=0.125 total time=   5.7s\n",
            "[CV 2/10] END criterion=gini, max_depth=10, min_impurity_decrease=0.15000000000000002;, score=0.125 total time=   5.5s\n",
            "[CV 3/10] END criterion=gini, max_depth=10, min_impurity_decrease=0.15000000000000002;, score=0.125 total time=   5.6s\n",
            "[CV 4/10] END criterion=gini, max_depth=10, min_impurity_decrease=0.15000000000000002;, score=0.125 total time=   5.6s\n",
            "[CV 5/10] END criterion=gini, max_depth=10, min_impurity_decrease=0.15000000000000002;, score=0.125 total time=   5.9s\n",
            "[CV 6/10] END criterion=gini, max_depth=10, min_impurity_decrease=0.15000000000000002;, score=0.125 total time=   6.1s\n",
            "[CV 7/10] END criterion=gini, max_depth=10, min_impurity_decrease=0.15000000000000002;, score=0.125 total time=   5.7s\n",
            "[CV 8/10] END criterion=gini, max_depth=10, min_impurity_decrease=0.15000000000000002;, score=0.125 total time=   5.9s\n",
            "[CV 9/10] END criterion=gini, max_depth=10, min_impurity_decrease=0.15000000000000002;, score=0.125 total time=   6.3s\n",
            "[CV 10/10] END criterion=gini, max_depth=10, min_impurity_decrease=0.15000000000000002;, score=0.125 total time=   5.6s\n",
            "[CV 1/10] END criterion=gini, max_depth=11, min_impurity_decrease=0.0;, score=0.735 total time=  22.5s\n",
            "[CV 2/10] END criterion=gini, max_depth=11, min_impurity_decrease=0.0;, score=0.735 total time=  22.8s\n",
            "[CV 3/10] END criterion=gini, max_depth=11, min_impurity_decrease=0.0;, score=0.750 total time=  22.8s\n",
            "[CV 4/10] END criterion=gini, max_depth=11, min_impurity_decrease=0.0;, score=0.756 total time=  20.6s\n",
            "[CV 5/10] END criterion=gini, max_depth=11, min_impurity_decrease=0.0;, score=0.753 total time=  21.4s\n",
            "[CV 6/10] END criterion=gini, max_depth=11, min_impurity_decrease=0.0;, score=0.752 total time=  22.1s\n",
            "[CV 7/10] END criterion=gini, max_depth=11, min_impurity_decrease=0.0;, score=0.755 total time=  21.4s\n",
            "[CV 8/10] END criterion=gini, max_depth=11, min_impurity_decrease=0.0;, score=0.756 total time=  20.2s\n",
            "[CV 9/10] END criterion=gini, max_depth=11, min_impurity_decrease=0.0;, score=0.756 total time=  21.3s\n",
            "[CV 10/10] END criterion=gini, max_depth=11, min_impurity_decrease=0.0;, score=0.756 total time=  23.9s\n",
            "[CV 1/10] END criterion=gini, max_depth=11, min_impurity_decrease=0.05;, score=0.600 total time=   8.6s\n",
            "[CV 2/10] END criterion=gini, max_depth=11, min_impurity_decrease=0.05;, score=0.576 total time=   8.9s\n",
            "[CV 3/10] END criterion=gini, max_depth=11, min_impurity_decrease=0.05;, score=0.593 total time=  10.1s\n",
            "[CV 4/10] END criterion=gini, max_depth=11, min_impurity_decrease=0.05;, score=0.594 total time=   9.7s\n",
            "[CV 5/10] END criterion=gini, max_depth=11, min_impurity_decrease=0.05;, score=0.596 total time=   9.3s\n",
            "[CV 6/10] END criterion=gini, max_depth=11, min_impurity_decrease=0.05;, score=0.603 total time=   8.8s\n",
            "[CV 7/10] END criterion=gini, max_depth=11, min_impurity_decrease=0.05;, score=0.599 total time=   9.0s\n",
            "[CV 8/10] END criterion=gini, max_depth=11, min_impurity_decrease=0.05;, score=0.578 total time=   9.5s\n",
            "[CV 9/10] END criterion=gini, max_depth=11, min_impurity_decrease=0.05;, score=0.580 total time=   8.6s\n",
            "[CV 10/10] END criterion=gini, max_depth=11, min_impurity_decrease=0.05;, score=0.604 total time=   9.8s\n",
            "[CV 1/10] END criterion=gini, max_depth=11, min_impurity_decrease=0.1;, score=0.125 total time=   6.9s\n",
            "[CV 2/10] END criterion=gini, max_depth=11, min_impurity_decrease=0.1;, score=0.125 total time=   5.4s\n",
            "[CV 3/10] END criterion=gini, max_depth=11, min_impurity_decrease=0.1;, score=0.125 total time=   5.7s\n",
            "[CV 4/10] END criterion=gini, max_depth=11, min_impurity_decrease=0.1;, score=0.125 total time=   5.7s\n",
            "[CV 5/10] END criterion=gini, max_depth=11, min_impurity_decrease=0.1;, score=0.125 total time=   5.8s\n",
            "[CV 6/10] END criterion=gini, max_depth=11, min_impurity_decrease=0.1;, score=0.125 total time=   6.0s\n",
            "[CV 7/10] END criterion=gini, max_depth=11, min_impurity_decrease=0.1;, score=0.125 total time=   7.6s\n",
            "[CV 8/10] END criterion=gini, max_depth=11, min_impurity_decrease=0.1;, score=0.125 total time=   6.8s\n",
            "[CV 9/10] END criterion=gini, max_depth=11, min_impurity_decrease=0.1;, score=0.125 total time=   6.1s\n",
            "[CV 10/10] END criterion=gini, max_depth=11, min_impurity_decrease=0.1;, score=0.125 total time=   6.0s\n",
            "[CV 1/10] END criterion=gini, max_depth=11, min_impurity_decrease=0.15000000000000002;, score=0.125 total time=   5.8s\n",
            "[CV 2/10] END criterion=gini, max_depth=11, min_impurity_decrease=0.15000000000000002;, score=0.125 total time=   6.1s\n",
            "[CV 3/10] END criterion=gini, max_depth=11, min_impurity_decrease=0.15000000000000002;, score=0.125 total time=   7.7s\n",
            "[CV 4/10] END criterion=gini, max_depth=11, min_impurity_decrease=0.15000000000000002;, score=0.125 total time=   5.8s\n",
            "[CV 5/10] END criterion=gini, max_depth=11, min_impurity_decrease=0.15000000000000002;, score=0.125 total time=   6.2s\n",
            "[CV 6/10] END criterion=gini, max_depth=11, min_impurity_decrease=0.15000000000000002;, score=0.125 total time=   7.4s\n",
            "[CV 7/10] END criterion=gini, max_depth=11, min_impurity_decrease=0.15000000000000002;, score=0.125 total time=   6.6s\n",
            "[CV 8/10] END criterion=gini, max_depth=11, min_impurity_decrease=0.15000000000000002;, score=0.125 total time=   6.8s\n",
            "[CV 9/10] END criterion=gini, max_depth=11, min_impurity_decrease=0.15000000000000002;, score=0.125 total time=   6.1s\n",
            "[CV 10/10] END criterion=gini, max_depth=11, min_impurity_decrease=0.15000000000000002;, score=0.125 total time=   6.7s\n",
            "[CV 1/10] END criterion=entropy, max_depth=8, min_impurity_decrease=0.0;, score=0.709 total time=  19.7s\n",
            "[CV 2/10] END criterion=entropy, max_depth=8, min_impurity_decrease=0.0;, score=0.713 total time=  18.0s\n",
            "[CV 3/10] END criterion=entropy, max_depth=8, min_impurity_decrease=0.0;, score=0.725 total time=  16.6s\n",
            "[CV 4/10] END criterion=entropy, max_depth=8, min_impurity_decrease=0.0;, score=0.727 total time=  17.7s\n",
            "[CV 5/10] END criterion=entropy, max_depth=8, min_impurity_decrease=0.0;, score=0.724 total time=  21.9s\n",
            "[CV 6/10] END criterion=entropy, max_depth=8, min_impurity_decrease=0.0;, score=0.728 total time=  19.3s\n",
            "[CV 7/10] END criterion=entropy, max_depth=8, min_impurity_decrease=0.0;, score=0.727 total time=  18.3s\n",
            "[CV 8/10] END criterion=entropy, max_depth=8, min_impurity_decrease=0.0;, score=0.726 total time=  18.4s\n",
            "[CV 9/10] END criterion=entropy, max_depth=8, min_impurity_decrease=0.0;, score=0.728 total time=  22.5s\n",
            "[CV 10/10] END criterion=entropy, max_depth=8, min_impurity_decrease=0.0;, score=0.726 total time=  22.7s\n",
            "[CV 1/10] END criterion=entropy, max_depth=8, min_impurity_decrease=0.05;, score=0.605 total time=  13.5s\n",
            "[CV 2/10] END criterion=entropy, max_depth=8, min_impurity_decrease=0.05;, score=0.618 total time=  12.7s\n",
            "[CV 3/10] END criterion=entropy, max_depth=8, min_impurity_decrease=0.05;, score=0.607 total time=  12.6s\n",
            "[CV 4/10] END criterion=entropy, max_depth=8, min_impurity_decrease=0.05;, score=0.612 total time=  13.3s\n",
            "[CV 5/10] END criterion=entropy, max_depth=8, min_impurity_decrease=0.05;, score=0.616 total time=  13.6s\n",
            "[CV 6/10] END criterion=entropy, max_depth=8, min_impurity_decrease=0.05;, score=0.601 total time=  12.2s\n",
            "[CV 7/10] END criterion=entropy, max_depth=8, min_impurity_decrease=0.05;, score=0.612 total time=  12.4s\n",
            "[CV 8/10] END criterion=entropy, max_depth=8, min_impurity_decrease=0.05;, score=0.619 total time=  12.1s\n",
            "[CV 9/10] END criterion=entropy, max_depth=8, min_impurity_decrease=0.05;, score=0.621 total time=  12.6s\n",
            "[CV 10/10] END criterion=entropy, max_depth=8, min_impurity_decrease=0.05;, score=0.620 total time=  12.8s\n",
            "[CV 1/10] END criterion=entropy, max_depth=8, min_impurity_decrease=0.1;, score=0.589 total time=  11.4s\n",
            "[CV 2/10] END criterion=entropy, max_depth=8, min_impurity_decrease=0.1;, score=0.600 total time=  10.8s\n",
            "[CV 3/10] END criterion=entropy, max_depth=8, min_impurity_decrease=0.1;, score=0.598 total time=  10.8s\n",
            "[CV 4/10] END criterion=entropy, max_depth=8, min_impurity_decrease=0.1;, score=0.593 total time=  11.1s\n",
            "[CV 5/10] END criterion=entropy, max_depth=8, min_impurity_decrease=0.1;, score=0.599 total time=  11.7s\n",
            "[CV 6/10] END criterion=entropy, max_depth=8, min_impurity_decrease=0.1;, score=0.599 total time=  13.2s\n",
            "[CV 7/10] END criterion=entropy, max_depth=8, min_impurity_decrease=0.1;, score=0.599 total time=  11.7s\n",
            "[CV 8/10] END criterion=entropy, max_depth=8, min_impurity_decrease=0.1;, score=0.600 total time=  12.8s\n",
            "[CV 9/10] END criterion=entropy, max_depth=8, min_impurity_decrease=0.1;, score=0.584 total time=  12.4s\n",
            "[CV 10/10] END criterion=entropy, max_depth=8, min_impurity_decrease=0.1;, score=0.601 total time=  10.5s\n",
            "[CV 1/10] END criterion=entropy, max_depth=8, min_impurity_decrease=0.15000000000000002;, score=0.586 total time=   9.3s\n",
            "[CV 2/10] END criterion=entropy, max_depth=8, min_impurity_decrease=0.15000000000000002;, score=0.599 total time=   9.8s\n",
            "[CV 3/10] END criterion=entropy, max_depth=8, min_impurity_decrease=0.15000000000000002;, score=0.591 total time=  10.4s\n",
            "[CV 4/10] END criterion=entropy, max_depth=8, min_impurity_decrease=0.15000000000000002;, score=0.570 total time=  12.4s\n",
            "[CV 5/10] END criterion=entropy, max_depth=8, min_impurity_decrease=0.15000000000000002;, score=0.599 total time=  10.3s\n",
            "[CV 6/10] END criterion=entropy, max_depth=8, min_impurity_decrease=0.15000000000000002;, score=0.597 total time=  10.3s\n",
            "[CV 7/10] END criterion=entropy, max_depth=8, min_impurity_decrease=0.15000000000000002;, score=0.595 total time=  10.1s\n",
            "[CV 8/10] END criterion=entropy, max_depth=8, min_impurity_decrease=0.15000000000000002;, score=0.598 total time=   9.2s\n",
            "[CV 9/10] END criterion=entropy, max_depth=8, min_impurity_decrease=0.15000000000000002;, score=0.577 total time=  10.4s\n",
            "[CV 10/10] END criterion=entropy, max_depth=8, min_impurity_decrease=0.15000000000000002;, score=0.593 total time=  10.2s\n",
            "[CV 1/10] END criterion=entropy, max_depth=9, min_impurity_decrease=0.0;, score=0.721 total time=  20.3s\n",
            "[CV 2/10] END criterion=entropy, max_depth=9, min_impurity_decrease=0.0;, score=0.720 total time=  22.3s\n",
            "[CV 3/10] END criterion=entropy, max_depth=9, min_impurity_decrease=0.0;, score=0.734 total time=  22.3s\n",
            "[CV 4/10] END criterion=entropy, max_depth=9, min_impurity_decrease=0.0;, score=0.739 total time=  21.2s\n",
            "[CV 5/10] END criterion=entropy, max_depth=9, min_impurity_decrease=0.0;, score=0.737 total time=  29.3s\n",
            "[CV 6/10] END criterion=entropy, max_depth=9, min_impurity_decrease=0.0;, score=0.736 total time=  21.8s\n",
            "[CV 7/10] END criterion=entropy, max_depth=9, min_impurity_decrease=0.0;, score=0.740 total time=  21.1s\n",
            "[CV 8/10] END criterion=entropy, max_depth=9, min_impurity_decrease=0.0;, score=0.737 total time=  18.9s\n",
            "[CV 9/10] END criterion=entropy, max_depth=9, min_impurity_decrease=0.0;, score=0.738 total time=  23.2s\n",
            "[CV 10/10] END criterion=entropy, max_depth=9, min_impurity_decrease=0.0;, score=0.741 total time=  31.4s\n",
            "[CV 1/10] END criterion=entropy, max_depth=9, min_impurity_decrease=0.05;, score=0.616 total time=  16.7s\n",
            "[CV 2/10] END criterion=entropy, max_depth=9, min_impurity_decrease=0.05;, score=0.619 total time=  17.4s\n",
            "[CV 3/10] END criterion=entropy, max_depth=9, min_impurity_decrease=0.05;, score=0.605 total time=  16.0s\n",
            "[CV 4/10] END criterion=entropy, max_depth=9, min_impurity_decrease=0.05;, score=0.599 total time=  12.5s\n",
            "[CV 5/10] END criterion=entropy, max_depth=9, min_impurity_decrease=0.05;, score=0.610 total time=  13.5s\n",
            "[CV 6/10] END criterion=entropy, max_depth=9, min_impurity_decrease=0.05;, score=0.616 total time=  13.7s\n",
            "[CV 7/10] END criterion=entropy, max_depth=9, min_impurity_decrease=0.05;, score=0.612 total time=  11.8s\n",
            "[CV 8/10] END criterion=entropy, max_depth=9, min_impurity_decrease=0.05;, score=0.621 total time=  12.2s\n",
            "[CV 9/10] END criterion=entropy, max_depth=9, min_impurity_decrease=0.05;, score=0.611 total time=  12.4s\n",
            "[CV 10/10] END criterion=entropy, max_depth=9, min_impurity_decrease=0.05;, score=0.612 total time=  12.5s\n",
            "[CV 1/10] END criterion=entropy, max_depth=9, min_impurity_decrease=0.1;, score=0.594 total time=  10.4s\n",
            "[CV 2/10] END criterion=entropy, max_depth=9, min_impurity_decrease=0.1;, score=0.588 total time=  10.7s\n",
            "[CV 3/10] END criterion=entropy, max_depth=9, min_impurity_decrease=0.1;, score=0.598 total time=  11.4s\n",
            "[CV 4/10] END criterion=entropy, max_depth=9, min_impurity_decrease=0.1;, score=0.583 total time=  12.4s\n",
            "[CV 5/10] END criterion=entropy, max_depth=9, min_impurity_decrease=0.1;, score=0.598 total time=  13.1s\n",
            "[CV 6/10] END criterion=entropy, max_depth=9, min_impurity_decrease=0.1;, score=0.596 total time=  14.0s\n",
            "[CV 7/10] END criterion=entropy, max_depth=9, min_impurity_decrease=0.1;, score=0.591 total time=  16.0s\n",
            "[CV 8/10] END criterion=entropy, max_depth=9, min_impurity_decrease=0.1;, score=0.593 total time=  15.7s\n",
            "[CV 9/10] END criterion=entropy, max_depth=9, min_impurity_decrease=0.1;, score=0.600 total time=  14.3s\n",
            "[CV 10/10] END criterion=entropy, max_depth=9, min_impurity_decrease=0.1;, score=0.602 total time=  11.7s\n",
            "[CV 1/10] END criterion=entropy, max_depth=9, min_impurity_decrease=0.15000000000000002;, score=0.584 total time=   9.8s\n",
            "[CV 2/10] END criterion=entropy, max_depth=9, min_impurity_decrease=0.15000000000000002;, score=0.595 total time=   9.3s\n",
            "[CV 3/10] END criterion=entropy, max_depth=9, min_impurity_decrease=0.15000000000000002;, score=0.591 total time=   9.1s\n",
            "[CV 4/10] END criterion=entropy, max_depth=9, min_impurity_decrease=0.15000000000000002;, score=0.558 total time=   9.6s\n",
            "[CV 5/10] END criterion=entropy, max_depth=9, min_impurity_decrease=0.15000000000000002;, score=0.597 total time=   9.8s\n",
            "[CV 6/10] END criterion=entropy, max_depth=9, min_impurity_decrease=0.15000000000000002;, score=0.590 total time=  11.2s\n",
            "[CV 7/10] END criterion=entropy, max_depth=9, min_impurity_decrease=0.15000000000000002;, score=0.599 total time=  12.5s\n",
            "[CV 8/10] END criterion=entropy, max_depth=9, min_impurity_decrease=0.15000000000000002;, score=0.600 total time=  10.7s\n",
            "[CV 9/10] END criterion=entropy, max_depth=9, min_impurity_decrease=0.15000000000000002;, score=0.601 total time=  10.8s\n",
            "[CV 10/10] END criterion=entropy, max_depth=9, min_impurity_decrease=0.15000000000000002;, score=0.601 total time=   9.9s\n",
            "[CV 1/10] END criterion=entropy, max_depth=10, min_impurity_decrease=0.0;, score=0.731 total time=  18.7s\n",
            "[CV 2/10] END criterion=entropy, max_depth=10, min_impurity_decrease=0.0;, score=0.733 total time=  22.9s\n",
            "[CV 3/10] END criterion=entropy, max_depth=10, min_impurity_decrease=0.0;, score=0.747 total time=  24.2s\n",
            "[CV 4/10] END criterion=entropy, max_depth=10, min_impurity_decrease=0.0;, score=0.750 total time=  24.5s\n",
            "[CV 5/10] END criterion=entropy, max_depth=10, min_impurity_decrease=0.0;, score=0.748 total time=  20.4s\n",
            "[CV 6/10] END criterion=entropy, max_depth=10, min_impurity_decrease=0.0;, score=0.749 total time=  21.6s\n",
            "[CV 7/10] END criterion=entropy, max_depth=10, min_impurity_decrease=0.0;, score=0.749 total time=  21.3s\n",
            "[CV 8/10] END criterion=entropy, max_depth=10, min_impurity_decrease=0.0;, score=0.749 total time=  21.0s\n",
            "[CV 9/10] END criterion=entropy, max_depth=10, min_impurity_decrease=0.0;, score=0.753 total time=  19.6s\n",
            "[CV 10/10] END criterion=entropy, max_depth=10, min_impurity_decrease=0.0;, score=0.751 total time=  19.5s\n",
            "[CV 1/10] END criterion=entropy, max_depth=10, min_impurity_decrease=0.05;, score=0.614 total time=  12.0s\n",
            "[CV 2/10] END criterion=entropy, max_depth=10, min_impurity_decrease=0.05;, score=0.611 total time=  12.7s\n",
            "[CV 3/10] END criterion=entropy, max_depth=10, min_impurity_decrease=0.05;, score=0.611 total time=  15.0s\n",
            "[CV 4/10] END criterion=entropy, max_depth=10, min_impurity_decrease=0.05;, score=0.613 total time=  14.4s\n",
            "[CV 5/10] END criterion=entropy, max_depth=10, min_impurity_decrease=0.05;, score=0.615 total time=  16.0s\n",
            "[CV 6/10] END criterion=entropy, max_depth=10, min_impurity_decrease=0.05;, score=0.612 total time=  20.1s\n",
            "[CV 7/10] END criterion=entropy, max_depth=10, min_impurity_decrease=0.05;, score=0.611 total time=  13.0s\n",
            "[CV 8/10] END criterion=entropy, max_depth=10, min_impurity_decrease=0.05;, score=0.610 total time=  14.3s\n",
            "[CV 9/10] END criterion=entropy, max_depth=10, min_impurity_decrease=0.05;, score=0.613 total time=  12.9s\n",
            "[CV 10/10] END criterion=entropy, max_depth=10, min_impurity_decrease=0.05;, score=0.615 total time=  13.3s\n",
            "[CV 1/10] END criterion=entropy, max_depth=10, min_impurity_decrease=0.1;, score=0.595 total time=  10.9s\n",
            "[CV 2/10] END criterion=entropy, max_depth=10, min_impurity_decrease=0.1;, score=0.596 total time=  11.0s\n",
            "[CV 3/10] END criterion=entropy, max_depth=10, min_impurity_decrease=0.1;, score=0.597 total time=  10.5s\n",
            "[CV 4/10] END criterion=entropy, max_depth=10, min_impurity_decrease=0.1;, score=0.595 total time=  11.4s\n",
            "[CV 5/10] END criterion=entropy, max_depth=10, min_impurity_decrease=0.1;, score=0.599 total time=  10.5s\n",
            "[CV 6/10] END criterion=entropy, max_depth=10, min_impurity_decrease=0.1;, score=0.596 total time=  10.8s\n",
            "[CV 7/10] END criterion=entropy, max_depth=10, min_impurity_decrease=0.1;, score=0.598 total time=  11.2s\n",
            "[CV 8/10] END criterion=entropy, max_depth=10, min_impurity_decrease=0.1;, score=0.601 total time=  11.0s\n",
            "[CV 9/10] END criterion=entropy, max_depth=10, min_impurity_decrease=0.1;, score=0.601 total time=  12.0s\n",
            "[CV 10/10] END criterion=entropy, max_depth=10, min_impurity_decrease=0.1;, score=0.601 total time=  11.3s\n",
            "[CV 1/10] END criterion=entropy, max_depth=10, min_impurity_decrease=0.15000000000000002;, score=0.592 total time=  11.1s\n",
            "[CV 2/10] END criterion=entropy, max_depth=10, min_impurity_decrease=0.15000000000000002;, score=0.599 total time=  10.9s\n",
            "[CV 3/10] END criterion=entropy, max_depth=10, min_impurity_decrease=0.15000000000000002;, score=0.602 total time=  12.8s\n",
            "[CV 4/10] END criterion=entropy, max_depth=10, min_impurity_decrease=0.15000000000000002;, score=0.595 total time=   9.6s\n",
            "[CV 5/10] END criterion=entropy, max_depth=10, min_impurity_decrease=0.15000000000000002;, score=0.598 total time=   9.1s\n",
            "[CV 6/10] END criterion=entropy, max_depth=10, min_impurity_decrease=0.15000000000000002;, score=0.591 total time=  10.1s\n",
            "[CV 7/10] END criterion=entropy, max_depth=10, min_impurity_decrease=0.15000000000000002;, score=0.597 total time=   9.8s\n",
            "[CV 8/10] END criterion=entropy, max_depth=10, min_impurity_decrease=0.15000000000000002;, score=0.599 total time=  10.1s\n",
            "[CV 9/10] END criterion=entropy, max_depth=10, min_impurity_decrease=0.15000000000000002;, score=0.600 total time=   8.9s\n",
            "[CV 10/10] END criterion=entropy, max_depth=10, min_impurity_decrease=0.15000000000000002;, score=0.578 total time=   9.0s\n",
            "[CV 1/10] END criterion=entropy, max_depth=11, min_impurity_decrease=0.0;, score=0.739 total time=  22.7s\n",
            "[CV 2/10] END criterion=entropy, max_depth=11, min_impurity_decrease=0.0;, score=0.743 total time=  21.4s\n",
            "[CV 3/10] END criterion=entropy, max_depth=11, min_impurity_decrease=0.0;, score=0.755 total time=  22.0s\n",
            "[CV 4/10] END criterion=entropy, max_depth=11, min_impurity_decrease=0.0;, score=0.760 total time=  21.8s\n",
            "[CV 5/10] END criterion=entropy, max_depth=11, min_impurity_decrease=0.0;, score=0.758 total time=  22.2s\n",
            "[CV 6/10] END criterion=entropy, max_depth=11, min_impurity_decrease=0.0;, score=0.758 total time=  21.9s\n",
            "[CV 7/10] END criterion=entropy, max_depth=11, min_impurity_decrease=0.0;, score=0.760 total time=  20.6s\n",
            "[CV 8/10] END criterion=entropy, max_depth=11, min_impurity_decrease=0.0;, score=0.761 total time=  19.6s\n",
            "[CV 9/10] END criterion=entropy, max_depth=11, min_impurity_decrease=0.0;, score=0.762 total time=  20.0s\n",
            "[CV 10/10] END criterion=entropy, max_depth=11, min_impurity_decrease=0.0;, score=0.763 total time=  20.2s\n",
            "[CV 1/10] END criterion=entropy, max_depth=11, min_impurity_decrease=0.05;, score=0.605 total time=  11.7s\n",
            "[CV 2/10] END criterion=entropy, max_depth=11, min_impurity_decrease=0.05;, score=0.613 total time=  11.9s\n",
            "[CV 3/10] END criterion=entropy, max_depth=11, min_impurity_decrease=0.05;, score=0.615 total time=  12.9s\n",
            "[CV 4/10] END criterion=entropy, max_depth=11, min_impurity_decrease=0.05;, score=0.609 total time=  12.8s\n",
            "[CV 5/10] END criterion=entropy, max_depth=11, min_impurity_decrease=0.05;, score=0.609 total time=  13.4s\n",
            "[CV 6/10] END criterion=entropy, max_depth=11, min_impurity_decrease=0.05;, score=0.613 total time=  13.5s\n",
            "[CV 7/10] END criterion=entropy, max_depth=11, min_impurity_decrease=0.05;, score=0.614 total time=  13.9s\n",
            "[CV 8/10] END criterion=entropy, max_depth=11, min_impurity_decrease=0.05;, score=0.611 total time=  15.3s\n",
            "[CV 9/10] END criterion=entropy, max_depth=11, min_impurity_decrease=0.05;, score=0.616 total time=  14.3s\n",
            "[CV 10/10] END criterion=entropy, max_depth=11, min_impurity_decrease=0.05;, score=0.613 total time=  12.3s\n",
            "[CV 1/10] END criterion=entropy, max_depth=11, min_impurity_decrease=0.1;, score=0.587 total time=  11.1s\n",
            "[CV 2/10] END criterion=entropy, max_depth=11, min_impurity_decrease=0.1;, score=0.598 total time=  11.7s\n",
            "[CV 3/10] END criterion=entropy, max_depth=11, min_impurity_decrease=0.1;, score=0.587 total time=  10.7s\n",
            "[CV 4/10] END criterion=entropy, max_depth=11, min_impurity_decrease=0.1;, score=0.594 total time=  11.5s\n",
            "[CV 5/10] END criterion=entropy, max_depth=11, min_impurity_decrease=0.1;, score=0.584 total time=   9.7s\n",
            "[CV 6/10] END criterion=entropy, max_depth=11, min_impurity_decrease=0.1;, score=0.597 total time=  10.7s\n",
            "[CV 7/10] END criterion=entropy, max_depth=11, min_impurity_decrease=0.1;, score=0.598 total time=  11.6s\n",
            "[CV 8/10] END criterion=entropy, max_depth=11, min_impurity_decrease=0.1;, score=0.603 total time=  10.5s\n",
            "[CV 9/10] END criterion=entropy, max_depth=11, min_impurity_decrease=0.1;, score=0.600 total time=  10.8s\n",
            "[CV 10/10] END criterion=entropy, max_depth=11, min_impurity_decrease=0.1;, score=0.604 total time=  10.5s\n",
            "[CV 1/10] END criterion=entropy, max_depth=11, min_impurity_decrease=0.15000000000000002;, score=0.595 total time=   8.5s\n",
            "[CV 2/10] END criterion=entropy, max_depth=11, min_impurity_decrease=0.15000000000000002;, score=0.584 total time=   9.1s\n",
            "[CV 3/10] END criterion=entropy, max_depth=11, min_impurity_decrease=0.15000000000000002;, score=0.598 total time=   9.0s\n",
            "[CV 4/10] END criterion=entropy, max_depth=11, min_impurity_decrease=0.15000000000000002;, score=0.591 total time=   9.3s\n",
            "[CV 5/10] END criterion=entropy, max_depth=11, min_impurity_decrease=0.15000000000000002;, score=0.574 total time=   9.2s\n",
            "[CV 6/10] END criterion=entropy, max_depth=11, min_impurity_decrease=0.15000000000000002;, score=0.594 total time=   9.2s\n",
            "[CV 7/10] END criterion=entropy, max_depth=11, min_impurity_decrease=0.15000000000000002;, score=0.600 total time=   9.2s\n",
            "[CV 8/10] END criterion=entropy, max_depth=11, min_impurity_decrease=0.15000000000000002;, score=0.602 total time=   9.3s\n",
            "[CV 9/10] END criterion=entropy, max_depth=11, min_impurity_decrease=0.15000000000000002;, score=0.577 total time=   9.6s\n",
            "[CV 10/10] END criterion=entropy, max_depth=11, min_impurity_decrease=0.15000000000000002;, score=0.601 total time=   9.4s\n",
            "{'criterion': 'entropy', 'max_depth': 11, 'min_impurity_decrease': 0.0}\n"
          ]
        }
      ]
    },
    {
      "cell_type": "markdown",
      "source": [
        "## conclusion"
      ],
      "metadata": {
        "id": "bCHBGUPWsMdZ"
      }
    },
    {
      "cell_type": "code",
      "source": [
        "from sklearn.ensemble import RandomForestClassifier\n",
        "from sklearn.metrics import classification_report, confusion_matrix \n",
        "from sklearn.model_selection import cross_validate\n",
        "model=RandomForestClassifier(criterion='entropy',max_depth=11,min_impurity_decrease=0.0)\n",
        "cv_results = cross_validate(model, x_scaled_new,Y, cv=10,verbose=1,return_estimator=True)\n",
        "accuracies = cv_results['test_score']\n",
        "accuracies=list(accuracies)\n",
        "models=cv_results['estimator']\n",
        "model = models[accuracies.index(max(accuracies))]\n",
        "predictions = model.predict(x_test_scaled) \n",
        "   \n",
        "# print classification report \n",
        "print(classification_report(test_target, predictions)) "
      ],
      "metadata": {
        "colab": {
          "base_uri": "https://localhost:8080/"
        },
        "id": "QMC6Ld1sp8No",
        "outputId": "ef581006-4de5-40c2-aeaf-da47b73f3984"
      },
      "execution_count": null,
      "outputs": [
        {
          "output_type": "stream",
          "name": "stderr",
          "text": [
            "[Parallel(n_jobs=1)]: Using backend SequentialBackend with 1 concurrent workers.\n",
            "[Parallel(n_jobs=1)]: Done  10 out of  10 | elapsed:  3.1min finished\n"
          ]
        },
        {
          "output_type": "stream",
          "name": "stdout",
          "text": [
            "              precision    recall  f1-score   support\n",
            "\n",
            "           0       0.00      0.00      0.00         2\n",
            "           1       1.00      1.00      1.00      8436\n",
            "           2       0.53      0.71      0.60      3029\n",
            "           3       0.10      0.56      0.17        50\n",
            "           4       0.84      0.95      0.89      3943\n",
            "           5       0.47      0.40      0.43      2848\n",
            "           6       0.52      0.05      0.08      1711\n",
            "           7       0.52      0.83      0.64       175\n",
            "\n",
            "    accuracy                           0.78     20194\n",
            "   macro avg       0.50      0.56      0.48     20194\n",
            "weighted avg       0.78      0.78      0.76     20194\n",
            "\n"
          ]
        }
      ]
    },
    {
      "cell_type": "code",
      "source": [
        "# saving the model\n",
        "import pickle\n",
        "filename = '/content/gdrive/MyDrive/Ml_project/fars_models/random_forest_tree.sav'\n",
        "pickle.dump(model, open(filename, 'wb'))"
      ],
      "metadata": {
        "id": "-yAjUhZ2KR7T"
      },
      "execution_count": null,
      "outputs": []
    },
    {
      "cell_type": "markdown",
      "source": [
        "## Accuracy=0.76"
      ],
      "metadata": {
        "id": "a_iRH0G8zawP"
      }
    },
    {
      "cell_type": "markdown",
      "source": [
        "#SVM (SVC)"
      ],
      "metadata": {
        "id": "RJLBstoU62zr"
      }
    },
    {
      "cell_type": "markdown",
      "source": [
        "## Hyper parameter tuning (Bayesion optimization)"
      ],
      "metadata": {
        "id": "g1sLLOgJz4Dn"
      }
    },
    {
      "cell_type": "code",
      "source": [
        "!pip install scikit-optimize"
      ],
      "metadata": {
        "colab": {
          "base_uri": "https://localhost:8080/"
        },
        "id": "M5BVO3lSORQZ",
        "outputId": "f4ee92e3-86a7-47a5-fcc8-cac7a628b1e2"
      },
      "execution_count": null,
      "outputs": [
        {
          "output_type": "stream",
          "name": "stdout",
          "text": [
            "Looking in indexes: https://pypi.org/simple, https://us-python.pkg.dev/colab-wheels/public/simple/\n",
            "Requirement already satisfied: scikit-optimize in /usr/local/lib/python3.8/dist-packages (0.9.0)\n",
            "Requirement already satisfied: numpy>=1.13.3 in /usr/local/lib/python3.8/dist-packages (from scikit-optimize) (1.21.6)\n",
            "Requirement already satisfied: scipy>=0.19.1 in /usr/local/lib/python3.8/dist-packages (from scikit-optimize) (1.7.3)\n",
            "Requirement already satisfied: joblib>=0.11 in /usr/local/lib/python3.8/dist-packages (from scikit-optimize) (1.2.0)\n",
            "Requirement already satisfied: pyaml>=16.9 in /usr/local/lib/python3.8/dist-packages (from scikit-optimize) (21.10.1)\n",
            "Requirement already satisfied: scikit-learn>=0.20.0 in /usr/local/lib/python3.8/dist-packages (from scikit-optimize) (1.0.2)\n",
            "Requirement already satisfied: PyYAML in /usr/local/lib/python3.8/dist-packages (from pyaml>=16.9->scikit-optimize) (6.0)\n",
            "Requirement already satisfied: threadpoolctl>=2.0.0 in /usr/local/lib/python3.8/dist-packages (from scikit-learn>=0.20.0->scikit-optimize) (3.1.0)\n"
          ]
        }
      ]
    },
    {
      "cell_type": "code",
      "source": [
        "# Assumption using only 5000 data since tuning takes more than 10 hrs and colabs crashes \n",
        "from skopt.space import Real,Categorical,Integer\n",
        "from sklearn.metrics import classification_report, confusion_matrix \n",
        "from skopt import BayesSearchCV\n",
        "from sklearn.svm import SVC\n",
        "parameters = {'C':Real(0.1,2),'kernel':['poly'],'gamma':Real(0.5,2),'degree':(3,4,5)}\n",
        "model=SVC()\n",
        "clf_a = BayesSearchCV(model, search_spaces=parameters,verbose=3,scoring='accuracy',cv=2,random_state=0,n_iter=20,optimizer_kwargs={'base_estimator': 'GP'})\n",
        "clf_a.fit(x_scaled_new[:5000],Y[:5000])\n",
        "print(clf_a.best_params_) \n"
      ],
      "metadata": {
        "colab": {
          "base_uri": "https://localhost:8080/"
        },
        "id": "gz88OEVXBhIe",
        "outputId": "1424a52c-4489-4fcf-c88f-a94fd0379efc"
      },
      "execution_count": null,
      "outputs": [
        {
          "output_type": "stream",
          "name": "stdout",
          "text": [
            "Fitting 2 folds for each of 1 candidates, totalling 2 fits\n",
            "[CV 1/2] END C=1.10883191340908, degree=4, gamma=1.4340646289441554, kernel=poly;, score=0.725 total time=   2.3s\n",
            "[CV 2/2] END C=1.10883191340908, degree=4, gamma=1.4340646289441554, kernel=poly;, score=0.726 total time=   1.7s\n",
            "Fitting 2 folds for each of 1 candidates, totalling 2 fits\n",
            "[CV 1/2] END C=0.5909061577482214, degree=5, gamma=1.8626575605049618, kernel=poly;, score=0.716 total time=  18.8s\n",
            "[CV 2/2] END C=0.5909061577482214, degree=5, gamma=1.8626575605049618, kernel=poly;, score=0.713 total time=  16.4s\n",
            "Fitting 2 folds for each of 1 candidates, totalling 2 fits\n",
            "[CV 1/2] END C=1.1045143099433568, degree=3, gamma=1.0134251737470477, kernel=poly;, score=0.750 total time=   0.7s\n",
            "[CV 2/2] END C=1.1045143099433568, degree=3, gamma=1.0134251737470477, kernel=poly;, score=0.759 total time=   0.7s\n",
            "Fitting 2 folds for each of 1 candidates, totalling 2 fits\n",
            "[CV 1/2] END C=0.38009764270722635, degree=5, gamma=1.2049160605443756, kernel=poly;, score=0.723 total time=   2.3s\n",
            "[CV 2/2] END C=0.38009764270722635, degree=5, gamma=1.2049160605443756, kernel=poly;, score=0.719 total time=   2.3s\n",
            "Fitting 2 folds for each of 1 candidates, totalling 2 fits\n",
            "[CV 1/2] END C=0.5417766536375034, degree=3, gamma=1.592271783771687, kernel=poly;, score=0.748 total time=   0.8s\n",
            "[CV 2/2] END C=0.5417766536375034, degree=3, gamma=1.592271783771687, kernel=poly;, score=0.749 total time=   0.8s\n",
            "Fitting 2 folds for each of 1 candidates, totalling 2 fits\n",
            "[CV 1/2] END C=1.6925161268510815, degree=5, gamma=1.6001100550593257, kernel=poly;, score=0.715 total time=  16.5s\n",
            "[CV 2/2] END C=1.6925161268510815, degree=5, gamma=1.6001100550593257, kernel=poly;, score=0.713 total time=  19.9s\n",
            "Fitting 2 folds for each of 1 candidates, totalling 2 fits\n",
            "[CV 1/2] END C=1.9375493272801696, degree=5, gamma=1.140323729980283, kernel=poly;, score=0.718 total time=   5.9s\n",
            "[CV 2/2] END C=1.9375493272801696, degree=5, gamma=1.140323729980283, kernel=poly;, score=0.716 total time=   4.8s\n",
            "Fitting 2 folds for each of 1 candidates, totalling 2 fits\n",
            "[CV 1/2] END C=1.0699291881951203, degree=4, gamma=1.582666036979052, kernel=poly;, score=0.727 total time=   2.8s\n",
            "[CV 2/2] END C=1.0699291881951203, degree=4, gamma=1.582666036979052, kernel=poly;, score=0.730 total time=   3.1s\n",
            "Fitting 2 folds for each of 1 candidates, totalling 2 fits\n",
            "[CV 1/2] END C=0.27490354411991014, degree=5, gamma=1.6902230690996811, kernel=poly;, score=0.718 total time=   6.1s\n",
            "[CV 2/2] END C=0.27490354411991014, degree=5, gamma=1.6902230690996811, kernel=poly;, score=0.716 total time=   5.0s\n",
            "Fitting 2 folds for each of 1 candidates, totalling 2 fits\n",
            "[CV 1/2] END C=0.8021202570609925, degree=4, gamma=0.8926081622191394, kernel=poly;, score=0.741 total time=   0.8s\n",
            "[CV 2/2] END C=0.8021202570609925, degree=4, gamma=0.8926081622191394, kernel=poly;, score=0.735 total time=   0.7s\n",
            "Fitting 2 folds for each of 1 candidates, totalling 2 fits\n",
            "[CV 1/2] END C=0.1, degree=3, gamma=0.5, kernel=poly;, score=0.705 total time=   0.4s\n",
            "[CV 2/2] END C=0.1, degree=3, gamma=0.5, kernel=poly;, score=0.712 total time=   0.4s\n",
            "Fitting 2 folds for each of 1 candidates, totalling 2 fits\n",
            "[CV 1/2] END C=0.1, degree=3, gamma=2.0, kernel=poly;, score=0.752 total time=   0.7s\n",
            "[CV 2/2] END C=0.1, degree=3, gamma=2.0, kernel=poly;, score=0.759 total time=   0.6s\n",
            "Fitting 2 folds for each of 1 candidates, totalling 2 fits\n",
            "[CV 1/2] END C=2.0, degree=3, gamma=1.226387661599312, kernel=poly;, score=0.747 total time=   1.0s\n",
            "[CV 2/2] END C=2.0, degree=3, gamma=1.226387661599312, kernel=poly;, score=0.746 total time=   0.9s\n",
            "Fitting 2 folds for each of 1 candidates, totalling 2 fits\n",
            "[CV 1/2] END C=2.0, degree=3, gamma=1.8547118109652554, kernel=poly;, score=0.735 total time=   2.0s\n",
            "[CV 2/2] END C=2.0, degree=3, gamma=1.8547118109652554, kernel=poly;, score=0.733 total time=   1.6s\n",
            "Fitting 2 folds for each of 1 candidates, totalling 2 fits\n",
            "[CV 1/2] END C=1.7003680144079296, degree=3, gamma=0.5, kernel=poly;, score=0.743 total time=   0.5s\n",
            "[CV 2/2] END C=1.7003680144079296, degree=3, gamma=0.5, kernel=poly;, score=0.756 total time=   0.5s\n",
            "Fitting 2 folds for each of 1 candidates, totalling 2 fits\n",
            "[CV 1/2] END C=0.38581590214464956, degree=3, gamma=2.0, kernel=poly;, score=0.748 total time=   0.9s\n",
            "[CV 2/2] END C=0.38581590214464956, degree=3, gamma=2.0, kernel=poly;, score=0.748 total time=   0.8s\n",
            "Fitting 2 folds for each of 1 candidates, totalling 2 fits\n",
            "[CV 1/2] END C=0.1, degree=4, gamma=0.5, kernel=poly;, score=0.726 total time=   0.4s\n",
            "[CV 2/2] END C=0.1, degree=4, gamma=0.5, kernel=poly;, score=0.735 total time=   0.4s\n",
            "Fitting 2 folds for each of 1 candidates, totalling 2 fits\n",
            "[CV 1/2] END C=1.3858411298446123, degree=3, gamma=1.2054325016396876, kernel=poly;, score=0.749 total time=   0.8s\n",
            "[CV 2/2] END C=1.3858411298446123, degree=3, gamma=1.2054325016396876, kernel=poly;, score=0.750 total time=   0.8s\n",
            "Fitting 2 folds for each of 1 candidates, totalling 2 fits\n",
            "[CV 1/2] END C=2.0, degree=4, gamma=0.5, kernel=poly;, score=0.747 total time=   0.6s\n",
            "[CV 2/2] END C=2.0, degree=4, gamma=0.5, kernel=poly;, score=0.754 total time=   0.5s\n",
            "Fitting 2 folds for each of 1 candidates, totalling 2 fits\n",
            "[CV 1/2] END C=2.0, degree=3, gamma=0.7514158242775547, kernel=poly;, score=0.752 total time=   0.7s\n",
            "[CV 2/2] END C=2.0, degree=3, gamma=0.7514158242775547, kernel=poly;, score=0.760 total time=   0.7s\n",
            "OrderedDict([('C', 2.0), ('degree', 3), ('gamma', 0.7514158242775547), ('kernel', 'poly')])\n"
          ]
        }
      ]
    },
    {
      "cell_type": "markdown",
      "source": [
        "## conclusion"
      ],
      "metadata": {
        "id": "cS6hEyQJ2lWU"
      }
    },
    {
      "cell_type": "code",
      "source": [
        "from sklearn.svm import SVC\n",
        "from sklearn.metrics import classification_report, confusion_matrix \n",
        "from sklearn.model_selection import cross_validate\n",
        "model=SVC(C=2,gamma=0.75,kernel='poly',degree=3)\n",
        "cv_results = cross_validate(model, x_scaled_new[:50000],Y[:50000], cv=5,verbose=1,return_estimator=True)\n",
        "accuracies = cv_results['test_score']\n",
        "accuracies=list(accuracies)\n",
        "models=cv_results['estimator']\n",
        "model = models[accuracies.index(max(accuracies))]\n",
        "predictions = model.predict(x_test_scaled) \n",
        "   \n",
        "# print classification report \n",
        "print(classification_report(test_target, predictions)) "
      ],
      "metadata": {
        "colab": {
          "base_uri": "https://localhost:8080/"
        },
        "id": "UUTV93XD3q40",
        "outputId": "37933a06-3a76-4045-d0aa-f4c2a23c2540"
      },
      "execution_count": null,
      "outputs": [
        {
          "output_type": "stream",
          "name": "stderr",
          "text": [
            "[Parallel(n_jobs=1)]: Using backend SequentialBackend with 1 concurrent workers.\n",
            "[Parallel(n_jobs=1)]: Done   5 out of   5 | elapsed: 17.2min finished\n"
          ]
        },
        {
          "output_type": "stream",
          "name": "stdout",
          "text": [
            "              precision    recall  f1-score   support\n",
            "\n",
            "           0       0.00      0.00      0.00         2\n",
            "           1       1.00      0.99      1.00      8436\n",
            "           2       0.52      0.58      0.55      3029\n",
            "           3       0.42      0.22      0.29        50\n",
            "           4       0.84      0.99      0.90      3943\n",
            "           5       0.44      0.54      0.49      2848\n",
            "           6       0.53      0.04      0.08      1711\n",
            "           7       0.70      0.67      0.69       175\n",
            "\n",
            "    accuracy                           0.78     20194\n",
            "   macro avg       0.56      0.50      0.50     20194\n",
            "weighted avg       0.77      0.78      0.76     20194\n",
            "\n"
          ]
        },
        {
          "output_type": "stream",
          "name": "stderr",
          "text": [
            "/usr/local/lib/python3.8/dist-packages/sklearn/metrics/_classification.py:1318: UndefinedMetricWarning: Precision and F-score are ill-defined and being set to 0.0 in labels with no predicted samples. Use `zero_division` parameter to control this behavior.\n",
            "  _warn_prf(average, modifier, msg_start, len(result))\n",
            "/usr/local/lib/python3.8/dist-packages/sklearn/metrics/_classification.py:1318: UndefinedMetricWarning: Precision and F-score are ill-defined and being set to 0.0 in labels with no predicted samples. Use `zero_division` parameter to control this behavior.\n",
            "  _warn_prf(average, modifier, msg_start, len(result))\n",
            "/usr/local/lib/python3.8/dist-packages/sklearn/metrics/_classification.py:1318: UndefinedMetricWarning: Precision and F-score are ill-defined and being set to 0.0 in labels with no predicted samples. Use `zero_division` parameter to control this behavior.\n",
            "  _warn_prf(average, modifier, msg_start, len(result))\n"
          ]
        }
      ]
    },
    {
      "cell_type": "markdown",
      "source": [
        "## Accuracy - 0.78"
      ],
      "metadata": {
        "id": "TotiQ-LR31J9"
      }
    },
    {
      "cell_type": "code",
      "source": [
        "# save the model to disk since retraining is expensive\n",
        "import pickle\n",
        "filename = '/content/gdrive/MyDrive/Ml_project/fars_models/SVC.sav'\n",
        "pickle.dump(model, open(filename, 'wb'))"
      ],
      "metadata": {
        "id": "pQ9V7vTCI-zr"
      },
      "execution_count": null,
      "outputs": []
    },
    {
      "cell_type": "markdown",
      "source": [
        "# K- nearest neighbour"
      ],
      "metadata": {
        "id": "MSfUjTqP4kN8"
      }
    },
    {
      "cell_type": "markdown",
      "source": [
        "## Hyper parameter tuning (GridSearch CV)"
      ],
      "metadata": {
        "id": "7Db3QCoUWv0R"
      }
    },
    {
      "cell_type": "code",
      "source": [
        "from sklearn.neighbors import KNeighborsClassifier\n",
        "from sklearn.model_selection import GridSearchCV\n",
        "from sklearn.metrics import classification_report, confusion_matrix \n",
        "parameters = {'n_neighbors':np.arange(3,5),'metric':['manhattan']}\n",
        "model=KNeighborsClassifier()\n",
        "clf_a = GridSearchCV(model, parameters,verbose=3,scoring='accuracy',cv=5)\n",
        "clf_a.fit(x_scaled_new,Y)\n",
        "print(clf_a.best_params_) "
      ],
      "metadata": {
        "colab": {
          "base_uri": "https://localhost:8080/"
        },
        "id": "5ESgoazLXv2Q",
        "outputId": "d7ab0c01-b379-485b-ba24-0c9a39056b5f"
      },
      "execution_count": null,
      "outputs": [
        {
          "output_type": "stream",
          "name": "stdout",
          "text": [
            "Fitting 5 folds for each of 2 candidates, totalling 10 fits\n",
            "[CV 1/5] END ...metric=manhattan, n_neighbors=3;, score=0.792 total time= 5.9min\n",
            "[CV 2/5] END ...metric=manhattan, n_neighbors=3;, score=0.839 total time= 5.8min\n",
            "[CV 3/5] END ...metric=manhattan, n_neighbors=3;, score=0.865 total time= 5.7min\n",
            "[CV 4/5] END ...metric=manhattan, n_neighbors=3;, score=0.870 total time= 5.7min\n",
            "[CV 5/5] END ...metric=manhattan, n_neighbors=3;, score=0.869 total time= 5.7min\n",
            "[CV 1/5] END ...metric=manhattan, n_neighbors=4;, score=0.824 total time= 6.7min\n",
            "[CV 2/5] END ...metric=manhattan, n_neighbors=4;, score=0.849 total time= 7.2min\n",
            "[CV 3/5] END ...metric=manhattan, n_neighbors=4;, score=0.871 total time= 6.8min\n",
            "[CV 4/5] END ...metric=manhattan, n_neighbors=4;, score=0.877 total time= 7.0min\n",
            "[CV 5/5] END ...metric=manhattan, n_neighbors=4;, score=0.873 total time= 6.9min\n",
            "{'metric': 'manhattan', 'n_neighbors': 4}\n"
          ]
        }
      ]
    },
    {
      "cell_type": "markdown",
      "source": [
        "## conclusion"
      ],
      "metadata": {
        "id": "_DRzd9GwmdpR"
      }
    },
    {
      "cell_type": "code",
      "source": [
        "from sklearn.neighbors import KNeighborsClassifier\n",
        "from sklearn.metrics import classification_report, confusion_matrix \n",
        "from sklearn.model_selection import cross_validate\n",
        "model=KNeighborsClassifier(n_neighbors=4,metric='manhattan')\n",
        "cv_results = cross_validate(model, x_scaled_new,Y, cv=5,verbose=1,return_estimator=True)\n",
        "accuracies = cv_results['test_score']\n",
        "accuracies=list(accuracies)\n",
        "models=cv_results['estimator']\n",
        "model = models[accuracies.index(max(accuracies))]\n",
        "predictions = model.predict(x_test_scaled) \n",
        "   \n",
        "# print classification report \n",
        "print(classification_report(test_target, model.predict(x_test_scaled))) "
      ],
      "metadata": {
        "colab": {
          "base_uri": "https://localhost:8080/"
        },
        "id": "bewxXqpzmhZS",
        "outputId": "2bd75236-07af-44db-b451-a49fe7661230"
      },
      "execution_count": null,
      "outputs": [
        {
          "output_type": "stream",
          "name": "stderr",
          "text": [
            "[Parallel(n_jobs=1)]: Using backend SequentialBackend with 1 concurrent workers.\n",
            "[Parallel(n_jobs=1)]: Done   5 out of   5 | elapsed: 28.7min finished\n"
          ]
        },
        {
          "output_type": "stream",
          "name": "stdout",
          "text": [
            "              precision    recall  f1-score   support\n",
            "\n",
            "           0       0.00      0.00      0.00         2\n",
            "           1       0.98      0.95      0.97      8436\n",
            "           2       0.49      0.58      0.53      3029\n",
            "           3       0.17      0.48      0.25        50\n",
            "           4       0.84      0.87      0.85      3943\n",
            "           5       0.43      0.38      0.40      2848\n",
            "           6       0.27      0.23      0.25      1711\n",
            "           7       0.46      0.71      0.56       175\n",
            "\n",
            "    accuracy                           0.73     20194\n",
            "   macro avg       0.46      0.52      0.48     20194\n",
            "weighted avg       0.74      0.73      0.73     20194\n",
            "\n"
          ]
        }
      ]
    },
    {
      "cell_type": "code",
      "source": [
        "# save the model to disk since retraining is expensive\n",
        "import pickle\n",
        "filename = '/content/gdrive/MyDrive/Ml_project/fars_models/knn.sav'\n",
        "pickle.dump(model, open(filename, 'wb'))"
      ],
      "metadata": {
        "id": "ZfL684yILxNa"
      },
      "execution_count": null,
      "outputs": []
    },
    {
      "cell_type": "markdown",
      "source": [
        "# Ensembled method stacking"
      ],
      "metadata": {
        "id": "JO-ybkFglIwz"
      }
    },
    {
      "cell_type": "code",
      "source": [
        "import pickle\n",
        "from sklearn.ensemble import StackingClassifier\n",
        "from sklearn.linear_model import LogisticRegression\n",
        "from sklearn.metrics import classification_report, confusion_matrix \n",
        "from sklearn.model_selection import cross_validate\n",
        "knn= pickle.load(open('/content/gdrive/MyDrive/Ml_project/fars_models/knn.sav', 'rb'))\n",
        "svc= pickle.load(open('/content/gdrive/MyDrive/Ml_project/fars_models/SVC.sav', 'rb'))\n",
        "random_forest= pickle.load(open('/content/gdrive/MyDrive/Ml_project/fars_models/random_forest_tree.sav', 'rb'))\n",
        "decision_trr= pickle.load(open('/content/gdrive/MyDrive/Ml_project/fars_models/decision_tree.sav', 'rb'))\n",
        "\n",
        "models = [('knn',knn),('svc',svc),('random_forest',random_forest),('decision_trr',decision_trr)] \n",
        "\n",
        "stacking_model = LogisticRegression(solver='sag',random_state=0,max_iter=200)\n",
        "stacked_model = StackingClassifier( estimators = models,final_estimator = stacking_model)\n",
        "results_cv = cross_validate(stacked_model, x_scaled_new[:20000],Y[:20000], cv=5,verbose=1,return_estimator=True)"
      ],
      "metadata": {
        "id": "sR_4NWnClQRi"
      },
      "execution_count": null,
      "outputs": []
    },
    {
      "cell_type": "markdown",
      "source": [
        "# Cv plot for the ensemble model"
      ],
      "metadata": {
        "id": "gxGaRYTCrCmJ"
      }
    },
    {
      "cell_type": "code",
      "source": [
        "results_cv['test_score'][:3]"
      ],
      "metadata": {
        "id": "ZdIy5CFIwUzc",
        "outputId": "f6cc4b74-d6a1-4505-e3f2-60a039ef5a5e",
        "colab": {
          "base_uri": "https://localhost:8080/"
        }
      },
      "execution_count": null,
      "outputs": [
        {
          "output_type": "execute_result",
          "data": {
            "text/plain": [
              "array([0.77975, 0.78825, 0.79125])"
            ]
          },
          "metadata": {},
          "execution_count": 23
        }
      ]
    },
    {
      "cell_type": "code",
      "source": [
        "d={'t':[1,2,3],'validation score':results_cv['test_score'][:3]}\n",
        "pd.DataFrame(d).plot.line('t','validation score')\n",
        "plt.title(\"Cross Validation graph\")\n",
        "plt.xlabel(\"cross-validation count\")\n",
        "plt.ylabel(\"Accuracy\")\n"
      ],
      "metadata": {
        "id": "8hWTs6-Pw6Vt",
        "outputId": "8e3350fc-7972-4f04-f83f-130a537ec4b8",
        "colab": {
          "base_uri": "https://localhost:8080/",
          "height": 312
        }
      },
      "execution_count": null,
      "outputs": [
        {
          "output_type": "execute_result",
          "data": {
            "text/plain": [
              "Text(0, 0.5, 'Accuracy')"
            ]
          },
          "metadata": {},
          "execution_count": 41
        },
        {
          "output_type": "display_data",
          "data": {
            "text/plain": [
              "<Figure size 432x288 with 1 Axes>"
            ],
            "image/png": "[encoded data removed]"
          },
          "metadata": {
            "needs_background": "light"
          }
        }
      ]
    },
    {
      "cell_type": "code",
      "source": [
        "accuracies = results_cv['test_score']\n",
        "accuracies=list(accuracies)\n",
        "models=results_cv['estimator']\n",
        "model = models[accuracies.index(max(accuracies))]\n",
        "predictions = model.predict(x_test_scaled) \n",
        "   \n",
        "# print classification report \n",
        "print(classification_report(test_target, predictions))"
      ],
      "metadata": {
        "colab": {
          "base_uri": "https://localhost:8080/"
        },
        "id": "CnD24hrccVHI",
        "outputId": "630ece0b-0385-44fb-aed2-cf0ab335dd56"
      },
      "execution_count": null,
      "outputs": [
        {
          "output_type": "stream",
          "name": "stdout",
          "text": [
            "              precision    recall  f1-score   support\n",
            "\n",
            "           0       0.00      0.00      0.00         2\n",
            "           1       1.00      1.00      1.00      8436\n",
            "           2       0.59      0.61      0.60      3029\n",
            "           3       0.92      0.22      0.35        50\n",
            "           4       0.84      0.99      0.91      3943\n",
            "           5       0.46      0.59      0.51      2848\n",
            "           6       0.52      0.06      0.10      1711\n",
            "           7       0.71      0.67      0.69       175\n",
            "\n",
            "    accuracy                           0.79     20194\n",
            "   macro avg       0.63      0.52      0.52     20194\n",
            "weighted avg       0.79      0.79      0.77     20194\n",
            "\n"
          ]
        },
        {
          "output_type": "stream",
          "name": "stderr",
          "text": [
            "/usr/local/lib/python3.8/dist-packages/sklearn/metrics/_classification.py:1318: UndefinedMetricWarning: Precision and F-score are ill-defined and being set to 0.0 in labels with no predicted samples. Use `zero_division` parameter to control this behavior.\n",
            "  _warn_prf(average, modifier, msg_start, len(result))\n",
            "/usr/local/lib/python3.8/dist-packages/sklearn/metrics/_classification.py:1318: UndefinedMetricWarning: Precision and F-score are ill-defined and being set to 0.0 in labels with no predicted samples. Use `zero_division` parameter to control this behavior.\n",
            "  _warn_prf(average, modifier, msg_start, len(result))\n",
            "/usr/local/lib/python3.8/dist-packages/sklearn/metrics/_classification.py:1318: UndefinedMetricWarning: Precision and F-score are ill-defined and being set to 0.0 in labels with no predicted samples. Use `zero_division` parameter to control this behavior.\n",
            "  _warn_prf(average, modifier, msg_start, len(result))\n"
          ]
        }
      ]
    },
    {
      "cell_type": "markdown",
      "source": [
        "#appendix"
      ],
      "metadata": {
        "id": "hkodLIfL2hkt"
      }
    },
    {
      "cell_type": "code",
      "source": [
        "!pip install lazypredict\n",
        "from lazypredict.Supervised import LazyClassifier\n",
        "clf=LazyClassifier(verbose=1,ignore_warnings=True,custom_metric=None)\n",
        "models,prediction=clf.fit(x_scaled_new[:10000],x_test_scaled[:10000],Y[:10000],test_target[:10000])\n",
        "print(models)"
      ],
      "metadata": {
        "id": "zodHZs4d2pDU"
      },
      "execution_count": null,
      "outputs": []
    }
  ],
  "metadata": {
    "accelerator": "TPU",
    "colab": {
      "provenance": [],
      "toc_visible": true
    },
    "gpuClass": "standard",
    "kernelspec": {
      "display_name": "Python 3",
      "name": "python3"
    },
    "language_info": {
      "name": "python"
    }
  },
  "nbformat": 4,
  "nbformat_minor": 0
}